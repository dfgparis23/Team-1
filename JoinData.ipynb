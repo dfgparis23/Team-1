{
 "cells": [
  {
   "cell_type": "markdown",
   "id": "93545353-8006-48c7-a004-4821c796f44d",
   "metadata": {},
   "source": [
    "# NOTES:\n",
    "\n",
    "- We need to find the total amount donated for opportunities.\n",
    "- Do we proceed with just the donations with 100% certainty? Do we look at estimated amount? Actual amount received?\n",
    "- We should group by City\n",
    "\n",
    "\n",
    "## Opportunities dataset:\n",
    "- We need to do some join operations to get the data together.\n",
    "    - Join contact by ContactId\n",
    "    - Group by activity sector to get donations by location\n",
    "- Calculate opportunities won by location\n",
    "- Calculate the total amount of money won, and expected to be won by location\n",
    "- Why are we losing what we are losing. Where are we losing?\n",
    "\n",
    "\n",
    "## ML Task:\n",
    "- We need to group by date to get total payments by date. From this, we create the time-series dataset.\n",
    "\n"
   ]
  },
  {
   "cell_type": "code",
   "execution_count": 1,
   "id": "143f3c26-5b55-4df5-9168-2d6fe18f26bd",
   "metadata": {},
   "outputs": [],
   "source": [
    "import pandas as pd\n",
    "import os\n",
    "from unidecode import unidecode\n",
    "import numpy as np\n",
    "import re"
   ]
  },
  {
   "cell_type": "code",
   "execution_count": 2,
   "id": "20f1e36e-c793-432d-9f4b-7b98fd343c1e",
   "metadata": {},
   "outputs": [],
   "source": [
    "data = {}\n",
    "for doc in os.listdir('data/shared_data_read_only'):\n",
    "    try:\n",
    "        data[doc] = pd.read_excel(f\"data/shared_data_read_only/{doc}\")\n",
    "    except:\n",
    "        continue"
   ]
  },
  {
   "cell_type": "code",
   "execution_count": 3,
   "id": "c0d82d0d-86d6-4748-94cf-0a93ab8ed66a",
   "metadata": {},
   "outputs": [
    {
     "data": {
      "text/plain": [
       "dict_keys(['consumer_price_index.xlsx', 'Items and Opportunities.xlsx', 'Data dictionary.xlsx', 'Invoice and Opportunities.xlsx', 'Business Account.xlsx', 'Opportunities.xlsx', 'Non-Stock Items.xlsx', 'Contacts.xlsx'])"
      ]
     },
     "execution_count": 3,
     "metadata": {},
     "output_type": "execute_result"
    }
   ],
   "source": [
    "data.keys()"
   ]
  },
  {
   "cell_type": "code",
   "execution_count": 5,
   "id": "7544c7f8-0c54-49c6-a8ac-45dc2c7e40d2",
   "metadata": {},
   "outputs": [
    {
     "data": {
      "text/html": [
       "<div>\n",
       "<style scoped>\n",
       "    .dataframe tbody tr th:only-of-type {\n",
       "        vertical-align: middle;\n",
       "    }\n",
       "\n",
       "    .dataframe tbody tr th {\n",
       "        vertical-align: top;\n",
       "    }\n",
       "\n",
       "    .dataframe thead th {\n",
       "        text-align: right;\n",
       "    }\n",
       "</style>\n",
       "<table border=\"1\" class=\"dataframe\">\n",
       "  <thead>\n",
       "    <tr style=\"text-align: right;\">\n",
       "      <th></th>\n",
       "      <th>ContactID</th>\n",
       "      <th>Active</th>\n",
       "      <th>Business Account</th>\n",
       "      <th>Class</th>\n",
       "      <th>Class Name</th>\n",
       "      <th>Financing preference</th>\n",
       "      <th>Owner</th>\n",
       "      <th>Follow-up with</th>\n",
       "      <th>Postal Code</th>\n",
       "      <th>City</th>\n",
       "      <th>State</th>\n",
       "      <th>Code pays</th>\n",
       "      <th>Country Name</th>\n",
       "      <th>Gender</th>\n",
       "      <th>Client Source</th>\n",
       "      <th>Last Modified On</th>\n",
       "      <th>Created On</th>\n",
       "    </tr>\n",
       "  </thead>\n",
       "  <tbody>\n",
       "    <tr>\n",
       "      <th>0</th>\n",
       "      <td>39405</td>\n",
       "      <td>True</td>\n",
       "      <td>C00091</td>\n",
       "      <td>01BUSIN</td>\n",
       "      <td>Business function</td>\n",
       "      <td>NaN</td>\n",
       "      <td>26.0</td>\n",
       "      <td>NaN</td>\n",
       "      <td>WC1V 6JS</td>\n",
       "      <td>London</td>\n",
       "      <td>NaN</td>\n",
       "      <td>GB</td>\n",
       "      <td>United Kingdom of Great Britain and Northern I...</td>\n",
       "      <td>NaN</td>\n",
       "      <td>NaN</td>\n",
       "      <td>2023-07-11 14:37:02.183</td>\n",
       "      <td>2021-06-03 08:35:32.823</td>\n",
       "    </tr>\n",
       "    <tr>\n",
       "      <th>1</th>\n",
       "      <td>41938</td>\n",
       "      <td>True</td>\n",
       "      <td>C06932</td>\n",
       "      <td>03PDG</td>\n",
       "      <td>DG</td>\n",
       "      <td>Apprenticeship tax, Gala Lyon, But en Or Lyon,...</td>\n",
       "      <td>29.0</td>\n",
       "      <td>NaN</td>\n",
       "      <td>69120</td>\n",
       "      <td>VAULX EN VELIN</td>\n",
       "      <td>NaN</td>\n",
       "      <td>FR</td>\n",
       "      <td>France</td>\n",
       "      <td>NaN</td>\n",
       "      <td>NaN</td>\n",
       "      <td>2023-02-07 12:19:14.043</td>\n",
       "      <td>2022-01-05 16:34:58.807</td>\n",
       "    </tr>\n",
       "    <tr>\n",
       "      <th>2</th>\n",
       "      <td>37775</td>\n",
       "      <td>True</td>\n",
       "      <td>C01438</td>\n",
       "      <td>10DIRGENE</td>\n",
       "      <td>General Management</td>\n",
       "      <td>NaN</td>\n",
       "      <td>17.0</td>\n",
       "      <td>8.0</td>\n",
       "      <td>93701</td>\n",
       "      <td>DRANCY</td>\n",
       "      <td>NaN</td>\n",
       "      <td>FR</td>\n",
       "      <td>France</td>\n",
       "      <td>Male</td>\n",
       "      <td>NaN</td>\n",
       "      <td>2021-03-23 07:05:02.557</td>\n",
       "      <td>2021-03-19 06:44:36.557</td>\n",
       "    </tr>\n",
       "    <tr>\n",
       "      <th>3</th>\n",
       "      <td>37776</td>\n",
       "      <td>True</td>\n",
       "      <td>C01430</td>\n",
       "      <td>13ELU</td>\n",
       "      <td>Elected</td>\n",
       "      <td>NaN</td>\n",
       "      <td>17.0</td>\n",
       "      <td>8.0</td>\n",
       "      <td>93000</td>\n",
       "      <td>BOBIGNY</td>\n",
       "      <td>NaN</td>\n",
       "      <td>FR</td>\n",
       "      <td>France</td>\n",
       "      <td>Male</td>\n",
       "      <td>NaN</td>\n",
       "      <td>2021-03-23 07:05:03.410</td>\n",
       "      <td>2021-03-19 06:44:37.070</td>\n",
       "    </tr>\n",
       "    <tr>\n",
       "      <th>4</th>\n",
       "      <td>36942</td>\n",
       "      <td>True</td>\n",
       "      <td>C01204</td>\n",
       "      <td>13ELU</td>\n",
       "      <td>Elected</td>\n",
       "      <td>NaN</td>\n",
       "      <td>6.0</td>\n",
       "      <td>5.0</td>\n",
       "      <td>69140</td>\n",
       "      <td>RILLIEUX-LA-PAPE</td>\n",
       "      <td>NaN</td>\n",
       "      <td>FR</td>\n",
       "      <td>France</td>\n",
       "      <td>Male</td>\n",
       "      <td>NaN</td>\n",
       "      <td>2021-04-13 10:52:53.050</td>\n",
       "      <td>2021-03-17 16:45:45.083</td>\n",
       "    </tr>\n",
       "    <tr>\n",
       "      <th>...</th>\n",
       "      <td>...</td>\n",
       "      <td>...</td>\n",
       "      <td>...</td>\n",
       "      <td>...</td>\n",
       "      <td>...</td>\n",
       "      <td>...</td>\n",
       "      <td>...</td>\n",
       "      <td>...</td>\n",
       "      <td>...</td>\n",
       "      <td>...</td>\n",
       "      <td>...</td>\n",
       "      <td>...</td>\n",
       "      <td>...</td>\n",
       "      <td>...</td>\n",
       "      <td>...</td>\n",
       "      <td>...</td>\n",
       "      <td>...</td>\n",
       "    </tr>\n",
       "    <tr>\n",
       "      <th>5506</th>\n",
       "      <td>38255</td>\n",
       "      <td>True</td>\n",
       "      <td>C01453</td>\n",
       "      <td>11DIRTER</td>\n",
       "      <td>Territorial Management</td>\n",
       "      <td>NaN</td>\n",
       "      <td>40.0</td>\n",
       "      <td>NaN</td>\n",
       "      <td>59100</td>\n",
       "      <td>ROUBAIX</td>\n",
       "      <td>NaN</td>\n",
       "      <td>FR</td>\n",
       "      <td>France</td>\n",
       "      <td>Female</td>\n",
       "      <td>NaN</td>\n",
       "      <td>2021-03-19 06:51:37.223</td>\n",
       "      <td>2021-03-19 06:51:37.223</td>\n",
       "    </tr>\n",
       "    <tr>\n",
       "      <th>5507</th>\n",
       "      <td>39179</td>\n",
       "      <td>True</td>\n",
       "      <td>C01884</td>\n",
       "      <td>01BUSIN</td>\n",
       "      <td>Business function</td>\n",
       "      <td>Apprenticeship tax, Annual report</td>\n",
       "      <td>7.0</td>\n",
       "      <td>NaN</td>\n",
       "      <td>75010</td>\n",
       "      <td>PARIS</td>\n",
       "      <td>NaN</td>\n",
       "      <td>FR</td>\n",
       "      <td>France</td>\n",
       "      <td>Female</td>\n",
       "      <td>NaN</td>\n",
       "      <td>2021-05-17 11:23:30.993</td>\n",
       "      <td>2021-05-17 11:23:30.993</td>\n",
       "    </tr>\n",
       "    <tr>\n",
       "      <th>5508</th>\n",
       "      <td>40695</td>\n",
       "      <td>True</td>\n",
       "      <td>C03979</td>\n",
       "      <td>20PART</td>\n",
       "      <td>Individual</td>\n",
       "      <td>NaN</td>\n",
       "      <td>NaN</td>\n",
       "      <td>NaN</td>\n",
       "      <td>75010</td>\n",
       "      <td>Paris</td>\n",
       "      <td>NaN</td>\n",
       "      <td>FR</td>\n",
       "      <td>France</td>\n",
       "      <td>NaN</td>\n",
       "      <td>HelloAsso</td>\n",
       "      <td>2021-10-13 10:53:49.693</td>\n",
       "      <td>2021-10-13 10:53:49.693</td>\n",
       "    </tr>\n",
       "    <tr>\n",
       "      <th>5509</th>\n",
       "      <td>43323</td>\n",
       "      <td>True</td>\n",
       "      <td>C07697</td>\n",
       "      <td>02COM</td>\n",
       "      <td>Communication</td>\n",
       "      <td>JDLV Ceremony, Annual report, Greetings</td>\n",
       "      <td>29.0</td>\n",
       "      <td>NaN</td>\n",
       "      <td>75007</td>\n",
       "      <td>PARIS</td>\n",
       "      <td>NaN</td>\n",
       "      <td>FR</td>\n",
       "      <td>France</td>\n",
       "      <td>NaN</td>\n",
       "      <td>NaN</td>\n",
       "      <td>2022-06-03 14:58:41.643</td>\n",
       "      <td>2022-05-09 13:45:01.623</td>\n",
       "    </tr>\n",
       "    <tr>\n",
       "      <th>5510</th>\n",
       "      <td>44363</td>\n",
       "      <td>True</td>\n",
       "      <td>C07697</td>\n",
       "      <td>05RH</td>\n",
       "      <td>Human Resources</td>\n",
       "      <td>Apprenticeship tax, But en Or Paris, Tournamen...</td>\n",
       "      <td>39.0</td>\n",
       "      <td>NaN</td>\n",
       "      <td>NaN</td>\n",
       "      <td>NaN</td>\n",
       "      <td>NaN</td>\n",
       "      <td>FR</td>\n",
       "      <td>France</td>\n",
       "      <td>Female</td>\n",
       "      <td>NaN</td>\n",
       "      <td>2022-10-03 15:21:24.597</td>\n",
       "      <td>2022-10-03 15:19:25.150</td>\n",
       "    </tr>\n",
       "  </tbody>\n",
       "</table>\n",
       "<p>5511 rows × 17 columns</p>\n",
       "</div>"
      ],
      "text/plain": [
       "      ContactID  Active Business Account      Class              Class Name  \\\n",
       "0         39405    True           C00091    01BUSIN       Business function   \n",
       "1         41938    True           C06932      03PDG                      DG   \n",
       "2         37775    True           C01438  10DIRGENE      General Management   \n",
       "3         37776    True           C01430      13ELU                 Elected   \n",
       "4         36942    True           C01204      13ELU                 Elected   \n",
       "...         ...     ...              ...        ...                     ...   \n",
       "5506      38255    True           C01453   11DIRTER  Territorial Management   \n",
       "5507      39179    True           C01884    01BUSIN       Business function   \n",
       "5508      40695    True           C03979     20PART              Individual   \n",
       "5509      43323    True           C07697      02COM           Communication   \n",
       "5510      44363    True           C07697       05RH         Human Resources   \n",
       "\n",
       "                                   Financing preference  Owner  \\\n",
       "0                                                   NaN   26.0   \n",
       "1     Apprenticeship tax, Gala Lyon, But en Or Lyon,...   29.0   \n",
       "2                                                   NaN   17.0   \n",
       "3                                                   NaN   17.0   \n",
       "4                                                   NaN    6.0   \n",
       "...                                                 ...    ...   \n",
       "5506                                                NaN   40.0   \n",
       "5507                  Apprenticeship tax, Annual report    7.0   \n",
       "5508                                                NaN    NaN   \n",
       "5509            JDLV Ceremony, Annual report, Greetings   29.0   \n",
       "5510  Apprenticeship tax, But en Or Paris, Tournamen...   39.0   \n",
       "\n",
       "      Follow-up with Postal Code              City State Code pays  \\\n",
       "0                NaN    WC1V 6JS            London   NaN        GB   \n",
       "1                NaN       69120    VAULX EN VELIN   NaN        FR   \n",
       "2                8.0       93701            DRANCY   NaN        FR   \n",
       "3                8.0       93000           BOBIGNY   NaN        FR   \n",
       "4                5.0       69140  RILLIEUX-LA-PAPE   NaN        FR   \n",
       "...              ...         ...               ...   ...       ...   \n",
       "5506             NaN       59100           ROUBAIX   NaN        FR   \n",
       "5507             NaN       75010             PARIS   NaN        FR   \n",
       "5508             NaN       75010             Paris   NaN        FR   \n",
       "5509             NaN       75007             PARIS   NaN        FR   \n",
       "5510             NaN         NaN               NaN   NaN        FR   \n",
       "\n",
       "                                           Country Name  Gender Client Source  \\\n",
       "0     United Kingdom of Great Britain and Northern I...     NaN           NaN   \n",
       "1                                                France     NaN           NaN   \n",
       "2                                                France    Male           NaN   \n",
       "3                                                France    Male           NaN   \n",
       "4                                                France    Male           NaN   \n",
       "...                                                 ...     ...           ...   \n",
       "5506                                             France  Female           NaN   \n",
       "5507                                             France  Female           NaN   \n",
       "5508                                             France     NaN     HelloAsso   \n",
       "5509                                             France     NaN           NaN   \n",
       "5510                                             France  Female           NaN   \n",
       "\n",
       "            Last Modified On              Created On  \n",
       "0    2023-07-11 14:37:02.183 2021-06-03 08:35:32.823  \n",
       "1    2023-02-07 12:19:14.043 2022-01-05 16:34:58.807  \n",
       "2    2021-03-23 07:05:02.557 2021-03-19 06:44:36.557  \n",
       "3    2021-03-23 07:05:03.410 2021-03-19 06:44:37.070  \n",
       "4    2021-04-13 10:52:53.050 2021-03-17 16:45:45.083  \n",
       "...                      ...                     ...  \n",
       "5506 2021-03-19 06:51:37.223 2021-03-19 06:51:37.223  \n",
       "5507 2021-05-17 11:23:30.993 2021-05-17 11:23:30.993  \n",
       "5508 2021-10-13 10:53:49.693 2021-10-13 10:53:49.693  \n",
       "5509 2022-06-03 14:58:41.643 2022-05-09 13:45:01.623  \n",
       "5510 2022-10-03 15:21:24.597 2022-10-03 15:19:25.150  \n",
       "\n",
       "[5511 rows x 17 columns]"
      ]
     },
     "execution_count": 5,
     "metadata": {},
     "output_type": "execute_result"
    }
   ],
   "source": [
    "data[\"Contacts.xlsx\"]"
   ]
  },
  {
   "cell_type": "code",
   "execution_count": 4,
   "id": "eb154622-f106-4f14-bede-4ecc1f9e4449",
   "metadata": {},
   "outputs": [],
   "source": [
    "# Opportunities Prep\n",
    "\n",
    "data[\"Opportunities.xlsx\"].rename(columns={\"Contact ID\": \"ContactID\"}, inplace=True)"
   ]
  },
  {
   "cell_type": "markdown",
   "id": "d482db64-5754-499e-b052-c1eb634476d8",
   "metadata": {},
   "source": [
    "# Preprcoessing Opportunities"
   ]
  },
  {
   "cell_type": "markdown",
   "id": "c8a693b9-b81c-4701-a39b-166d6237df04",
   "metadata": {},
   "source": [
    "# Many nan vals in ContactID"
   ]
  },
  {
   "cell_type": "code",
   "execution_count": 3,
   "id": "d06ef90d-5fdc-46d6-bf3e-6f9cec99ba9f",
   "metadata": {},
   "outputs": [
    {
     "data": {
      "text/plain": [
       "Opportunity ID                                  0\n",
       "Business Account                                2\n",
       "Contact ID                                   3195\n",
       "Estimated Close Date                            0\n",
       "Status                                          0\n",
       "Stage                                           0\n",
       "Probability                                     0\n",
       "Estimated amount                                0\n",
       "Amount received                              3250\n",
       "Difference                                      0\n",
       "Owner Name                                    250\n",
       "Follow-up with                               5001\n",
       "Class ID                                        0\n",
       "Class                                           0\n",
       "Source                                       5445\n",
       "Source Campaign                              4828\n",
       "Campaign Name                                4828\n",
       "Programme financé                            2136\n",
       "Action financée                              5613\n",
       "Agreement                                    2100\n",
       "Signature date of the agreement              5733\n",
       "Agreement expiry date                        5739\n",
       "Duration of agreement (months)               5687\n",
       "Deadline for submission of interim report    5940\n",
       "Final report deadline                        5910\n",
       "Type de contrat                              5742\n",
       "Type de financement                          3330\n",
       "Zone SDLV                                    3013\n",
       "Theorical payment date 1                     5635\n",
       "Theorical payment amount 1                   5667\n",
       "Theorical payment date 2                     5884\n",
       "Theorical payment amount 2                   5887\n",
       "Theorical payment date 3                     5933\n",
       "Theorical payment amount 3                   5934\n",
       "Theorical payment date 4                     5967\n",
       "Theorical payment amount 4                   5967\n",
       "Theorical payment date 5                     5976\n",
       "Theorical payment amount 5                   5976\n",
       "Created On                                      0\n",
       "Last Modified Date                              0\n",
       "Actual Close Date                            1607\n",
       "Assignment Date                               227\n",
       "Branch ID                                       0\n",
       "dtype: int64"
      ]
     },
     "execution_count": 3,
     "metadata": {},
     "output_type": "execute_result"
    }
   ],
   "source": [
    "data[\"Opportunities.xlsx\"].isna().sum()"
   ]
  },
  {
   "cell_type": "code",
   "execution_count": 13,
   "id": "09324f71-fa02-4025-a0a2-62edecfd84fb",
   "metadata": {},
   "outputs": [
    {
     "data": {
      "text/html": [
       "<div>\n",
       "<style scoped>\n",
       "    .dataframe tbody tr th:only-of-type {\n",
       "        vertical-align: middle;\n",
       "    }\n",
       "\n",
       "    .dataframe tbody tr th {\n",
       "        vertical-align: top;\n",
       "    }\n",
       "\n",
       "    .dataframe thead th {\n",
       "        text-align: right;\n",
       "    }\n",
       "</style>\n",
       "<table border=\"1\" class=\"dataframe\">\n",
       "  <thead>\n",
       "    <tr style=\"text-align: right;\">\n",
       "      <th></th>\n",
       "      <th>Opportunity ID</th>\n",
       "      <th>Business Account</th>\n",
       "      <th>ContactID</th>\n",
       "      <th>Estimated Close Date</th>\n",
       "      <th>Status</th>\n",
       "      <th>Stage</th>\n",
       "      <th>Probability</th>\n",
       "      <th>Estimated amount</th>\n",
       "      <th>Amount received</th>\n",
       "      <th>Difference</th>\n",
       "      <th>...</th>\n",
       "      <th>Follow-up withcontacts</th>\n",
       "      <th>Postal Code</th>\n",
       "      <th>City</th>\n",
       "      <th>State</th>\n",
       "      <th>Code pays</th>\n",
       "      <th>Country Name</th>\n",
       "      <th>Gender</th>\n",
       "      <th>Client Source</th>\n",
       "      <th>Last Modified On</th>\n",
       "      <th>Created Oncontacts</th>\n",
       "    </tr>\n",
       "  </thead>\n",
       "  <tbody>\n",
       "    <tr>\n",
       "      <th>38</th>\n",
       "      <td>6349</td>\n",
       "      <td>C21530</td>\n",
       "      <td>NaN</td>\n",
       "      <td>2023-10-10</td>\n",
       "      <td>New</td>\n",
       "      <td>Initial Prospect</td>\n",
       "      <td>20</td>\n",
       "      <td>25000.0</td>\n",
       "      <td>NaN</td>\n",
       "      <td>-25000.0</td>\n",
       "      <td>...</td>\n",
       "      <td>NaN</td>\n",
       "      <td>NaN</td>\n",
       "      <td>NaN</td>\n",
       "      <td>NaN</td>\n",
       "      <td>NaN</td>\n",
       "      <td>NaN</td>\n",
       "      <td>NaN</td>\n",
       "      <td>NaN</td>\n",
       "      <td>NaT</td>\n",
       "      <td>NaT</td>\n",
       "    </tr>\n",
       "    <tr>\n",
       "      <th>39</th>\n",
       "      <td>6348</td>\n",
       "      <td>C21529</td>\n",
       "      <td>NaN</td>\n",
       "      <td>2023-10-10</td>\n",
       "      <td>New</td>\n",
       "      <td>Initial Prospect</td>\n",
       "      <td>20</td>\n",
       "      <td>150000.0</td>\n",
       "      <td>NaN</td>\n",
       "      <td>-150000.0</td>\n",
       "      <td>...</td>\n",
       "      <td>NaN</td>\n",
       "      <td>NaN</td>\n",
       "      <td>NaN</td>\n",
       "      <td>NaN</td>\n",
       "      <td>NaN</td>\n",
       "      <td>NaN</td>\n",
       "      <td>NaN</td>\n",
       "      <td>NaN</td>\n",
       "      <td>NaT</td>\n",
       "      <td>NaT</td>\n",
       "    </tr>\n",
       "    <tr>\n",
       "      <th>40</th>\n",
       "      <td>6347</td>\n",
       "      <td>C21528</td>\n",
       "      <td>NaN</td>\n",
       "      <td>2023-10-10</td>\n",
       "      <td>New</td>\n",
       "      <td>Initial Prospect</td>\n",
       "      <td>20</td>\n",
       "      <td>100000.0</td>\n",
       "      <td>NaN</td>\n",
       "      <td>-100000.0</td>\n",
       "      <td>...</td>\n",
       "      <td>NaN</td>\n",
       "      <td>NaN</td>\n",
       "      <td>NaN</td>\n",
       "      <td>NaN</td>\n",
       "      <td>NaN</td>\n",
       "      <td>NaN</td>\n",
       "      <td>NaN</td>\n",
       "      <td>NaN</td>\n",
       "      <td>NaT</td>\n",
       "      <td>NaT</td>\n",
       "    </tr>\n",
       "    <tr>\n",
       "      <th>42</th>\n",
       "      <td>6345</td>\n",
       "      <td>C01325</td>\n",
       "      <td>NaN</td>\n",
       "      <td>2023-10-10</td>\n",
       "      <td>New</td>\n",
       "      <td>Initial Prospect</td>\n",
       "      <td>20</td>\n",
       "      <td>200000.0</td>\n",
       "      <td>NaN</td>\n",
       "      <td>-200000.0</td>\n",
       "      <td>...</td>\n",
       "      <td>NaN</td>\n",
       "      <td>NaN</td>\n",
       "      <td>NaN</td>\n",
       "      <td>NaN</td>\n",
       "      <td>NaN</td>\n",
       "      <td>NaN</td>\n",
       "      <td>NaN</td>\n",
       "      <td>NaN</td>\n",
       "      <td>NaT</td>\n",
       "      <td>NaT</td>\n",
       "    </tr>\n",
       "    <tr>\n",
       "      <th>43</th>\n",
       "      <td>6344</td>\n",
       "      <td>C21527</td>\n",
       "      <td>NaN</td>\n",
       "      <td>2023-10-10</td>\n",
       "      <td>New</td>\n",
       "      <td>Initial Prospect</td>\n",
       "      <td>20</td>\n",
       "      <td>50000.0</td>\n",
       "      <td>NaN</td>\n",
       "      <td>-50000.0</td>\n",
       "      <td>...</td>\n",
       "      <td>NaN</td>\n",
       "      <td>NaN</td>\n",
       "      <td>NaN</td>\n",
       "      <td>NaN</td>\n",
       "      <td>NaN</td>\n",
       "      <td>NaN</td>\n",
       "      <td>NaN</td>\n",
       "      <td>NaN</td>\n",
       "      <td>NaT</td>\n",
       "      <td>NaT</td>\n",
       "    </tr>\n",
       "    <tr>\n",
       "      <th>...</th>\n",
       "      <td>...</td>\n",
       "      <td>...</td>\n",
       "      <td>...</td>\n",
       "      <td>...</td>\n",
       "      <td>...</td>\n",
       "      <td>...</td>\n",
       "      <td>...</td>\n",
       "      <td>...</td>\n",
       "      <td>...</td>\n",
       "      <td>...</td>\n",
       "      <td>...</td>\n",
       "      <td>...</td>\n",
       "      <td>...</td>\n",
       "      <td>...</td>\n",
       "      <td>...</td>\n",
       "      <td>...</td>\n",
       "      <td>...</td>\n",
       "      <td>...</td>\n",
       "      <td>...</td>\n",
       "      <td>...</td>\n",
       "      <td>...</td>\n",
       "    </tr>\n",
       "    <tr>\n",
       "      <th>5981</th>\n",
       "      <td>5</td>\n",
       "      <td>C00036</td>\n",
       "      <td>NaN</td>\n",
       "      <td>2020-01-01</td>\n",
       "      <td>Won</td>\n",
       "      <td>Won</td>\n",
       "      <td>100</td>\n",
       "      <td>1059.0</td>\n",
       "      <td>NaN</td>\n",
       "      <td>-1059.0</td>\n",
       "      <td>...</td>\n",
       "      <td>NaN</td>\n",
       "      <td>NaN</td>\n",
       "      <td>NaN</td>\n",
       "      <td>NaN</td>\n",
       "      <td>NaN</td>\n",
       "      <td>NaN</td>\n",
       "      <td>NaN</td>\n",
       "      <td>NaN</td>\n",
       "      <td>NaT</td>\n",
       "      <td>NaT</td>\n",
       "    </tr>\n",
       "    <tr>\n",
       "      <th>5982</th>\n",
       "      <td>4</td>\n",
       "      <td>C00024</td>\n",
       "      <td>NaN</td>\n",
       "      <td>2020-01-01</td>\n",
       "      <td>Won</td>\n",
       "      <td>Won</td>\n",
       "      <td>200</td>\n",
       "      <td>7500.0</td>\n",
       "      <td>7500.0</td>\n",
       "      <td>0.0</td>\n",
       "      <td>...</td>\n",
       "      <td>NaN</td>\n",
       "      <td>NaN</td>\n",
       "      <td>NaN</td>\n",
       "      <td>NaN</td>\n",
       "      <td>NaN</td>\n",
       "      <td>NaN</td>\n",
       "      <td>NaN</td>\n",
       "      <td>NaN</td>\n",
       "      <td>NaT</td>\n",
       "      <td>NaT</td>\n",
       "    </tr>\n",
       "    <tr>\n",
       "      <th>5983</th>\n",
       "      <td>3</td>\n",
       "      <td>C00011</td>\n",
       "      <td>NaN</td>\n",
       "      <td>2020-01-01</td>\n",
       "      <td>Won</td>\n",
       "      <td>Won</td>\n",
       "      <td>100</td>\n",
       "      <td>35000.0</td>\n",
       "      <td>NaN</td>\n",
       "      <td>-35000.0</td>\n",
       "      <td>...</td>\n",
       "      <td>NaN</td>\n",
       "      <td>NaN</td>\n",
       "      <td>NaN</td>\n",
       "      <td>NaN</td>\n",
       "      <td>NaN</td>\n",
       "      <td>NaN</td>\n",
       "      <td>NaN</td>\n",
       "      <td>NaN</td>\n",
       "      <td>NaT</td>\n",
       "      <td>NaT</td>\n",
       "    </tr>\n",
       "    <tr>\n",
       "      <th>5984</th>\n",
       "      <td>2</td>\n",
       "      <td>C00331</td>\n",
       "      <td>NaN</td>\n",
       "      <td>2020-01-01</td>\n",
       "      <td>Won</td>\n",
       "      <td>Won</td>\n",
       "      <td>100</td>\n",
       "      <td>20000.0</td>\n",
       "      <td>NaN</td>\n",
       "      <td>-20000.0</td>\n",
       "      <td>...</td>\n",
       "      <td>NaN</td>\n",
       "      <td>NaN</td>\n",
       "      <td>NaN</td>\n",
       "      <td>NaN</td>\n",
       "      <td>NaN</td>\n",
       "      <td>NaN</td>\n",
       "      <td>NaN</td>\n",
       "      <td>NaN</td>\n",
       "      <td>NaT</td>\n",
       "      <td>NaT</td>\n",
       "    </tr>\n",
       "    <tr>\n",
       "      <th>5985</th>\n",
       "      <td>1</td>\n",
       "      <td>C00331</td>\n",
       "      <td>NaN</td>\n",
       "      <td>2020-01-01</td>\n",
       "      <td>Won</td>\n",
       "      <td>Won</td>\n",
       "      <td>100</td>\n",
       "      <td>10000.0</td>\n",
       "      <td>NaN</td>\n",
       "      <td>-10000.0</td>\n",
       "      <td>...</td>\n",
       "      <td>NaN</td>\n",
       "      <td>NaN</td>\n",
       "      <td>NaN</td>\n",
       "      <td>NaN</td>\n",
       "      <td>NaN</td>\n",
       "      <td>NaN</td>\n",
       "      <td>NaN</td>\n",
       "      <td>NaN</td>\n",
       "      <td>NaT</td>\n",
       "      <td>NaT</td>\n",
       "    </tr>\n",
       "  </tbody>\n",
       "</table>\n",
       "<p>3195 rows × 60 columns</p>\n",
       "</div>"
      ],
      "text/plain": [
       "      Opportunity ID Business Account  ContactID Estimated Close Date Status  \\\n",
       "38              6349           C21530        NaN           2023-10-10    New   \n",
       "39              6348           C21529        NaN           2023-10-10    New   \n",
       "40              6347           C21528        NaN           2023-10-10    New   \n",
       "42              6345           C01325        NaN           2023-10-10    New   \n",
       "43              6344           C21527        NaN           2023-10-10    New   \n",
       "...              ...              ...        ...                  ...    ...   \n",
       "5981               5           C00036        NaN           2020-01-01    Won   \n",
       "5982               4           C00024        NaN           2020-01-01    Won   \n",
       "5983               3           C00011        NaN           2020-01-01    Won   \n",
       "5984               2           C00331        NaN           2020-01-01    Won   \n",
       "5985               1           C00331        NaN           2020-01-01    Won   \n",
       "\n",
       "                 Stage  Probability  Estimated amount  Amount received  \\\n",
       "38    Initial Prospect           20           25000.0              NaN   \n",
       "39    Initial Prospect           20          150000.0              NaN   \n",
       "40    Initial Prospect           20          100000.0              NaN   \n",
       "42    Initial Prospect           20          200000.0              NaN   \n",
       "43    Initial Prospect           20           50000.0              NaN   \n",
       "...                ...          ...               ...              ...   \n",
       "5981               Won          100            1059.0              NaN   \n",
       "5982               Won          200            7500.0           7500.0   \n",
       "5983               Won          100           35000.0              NaN   \n",
       "5984               Won          100           20000.0              NaN   \n",
       "5985               Won          100           10000.0              NaN   \n",
       "\n",
       "      Difference  ...  Follow-up withcontacts  Postal Code City State  \\\n",
       "38      -25000.0  ...                     NaN          NaN  NaN   NaN   \n",
       "39     -150000.0  ...                     NaN          NaN  NaN   NaN   \n",
       "40     -100000.0  ...                     NaN          NaN  NaN   NaN   \n",
       "42     -200000.0  ...                     NaN          NaN  NaN   NaN   \n",
       "43      -50000.0  ...                     NaN          NaN  NaN   NaN   \n",
       "...          ...  ...                     ...          ...  ...   ...   \n",
       "5981     -1059.0  ...                     NaN          NaN  NaN   NaN   \n",
       "5982         0.0  ...                     NaN          NaN  NaN   NaN   \n",
       "5983    -35000.0  ...                     NaN          NaN  NaN   NaN   \n",
       "5984    -20000.0  ...                     NaN          NaN  NaN   NaN   \n",
       "5985    -10000.0  ...                     NaN          NaN  NaN   NaN   \n",
       "\n",
       "     Code pays  Country Name Gender Client Source Last Modified On  \\\n",
       "38         NaN           NaN    NaN           NaN              NaT   \n",
       "39         NaN           NaN    NaN           NaN              NaT   \n",
       "40         NaN           NaN    NaN           NaN              NaT   \n",
       "42         NaN           NaN    NaN           NaN              NaT   \n",
       "43         NaN           NaN    NaN           NaN              NaT   \n",
       "...        ...           ...    ...           ...              ...   \n",
       "5981       NaN           NaN    NaN           NaN              NaT   \n",
       "5982       NaN           NaN    NaN           NaN              NaT   \n",
       "5983       NaN           NaN    NaN           NaN              NaT   \n",
       "5984       NaN           NaN    NaN           NaN              NaT   \n",
       "5985       NaN           NaN    NaN           NaN              NaT   \n",
       "\n",
       "     Created Oncontacts  \n",
       "38                  NaT  \n",
       "39                  NaT  \n",
       "40                  NaT  \n",
       "42                  NaT  \n",
       "43                  NaT  \n",
       "...                 ...  \n",
       "5981                NaT  \n",
       "5982                NaT  \n",
       "5983                NaT  \n",
       "5984                NaT  \n",
       "5985                NaT  \n",
       "\n",
       "[3195 rows x 60 columns]"
      ]
     },
     "execution_count": 13,
     "metadata": {},
     "output_type": "execute_result"
    }
   ],
   "source": [
    "df[df.ContactID.isna()]"
   ]
  },
  {
   "cell_type": "markdown",
   "id": "48355fa0-a931-4534-abcf-56f2251f4870",
   "metadata": {},
   "source": [
    "# Values in Class ID"
   ]
  },
  {
   "cell_type": "code",
   "execution_count": 26,
   "id": "9b519731-13e9-45e7-a9a7-5718d0b549dc",
   "metadata": {},
   "outputs": [
    {
     "data": {
      "text/plain": [
       "PPRIV MEC     2523\n",
       "PPRIV EVNT    1251\n",
       "PPRIV TA      1118\n",
       "PPUB           425\n",
       "CAMP SAL       267\n",
       "CAMP TER       196\n",
       "CAMP EVT       168\n",
       "PPRIV DONN      28\n",
       "PPRIV MCOM      10\n",
       "Name: Class ID, dtype: int64"
      ]
     },
     "execution_count": 26,
     "metadata": {},
     "output_type": "execute_result"
    }
   ],
   "source": [
    "data[\"Opportunities.xlsx\"][\"Class ID\"].value_counts()"
   ]
  },
  {
   "cell_type": "code",
   "execution_count": 32,
   "id": "2caa442e-a497-4124-b4af-81364f7fffa7",
   "metadata": {},
   "outputs": [
    {
     "data": {
      "text/plain": [
       "0       C00037\n",
       "1       C01254\n",
       "2       C21512\n",
       "3       C21509\n",
       "4       C21508\n",
       "         ...  \n",
       "5981    C00036\n",
       "5982    C00024\n",
       "5983    C00011\n",
       "5984    C00331\n",
       "5985    C00331\n",
       "Name: Business Account, Length: 5986, dtype: object"
      ]
     },
     "execution_count": 32,
     "metadata": {},
     "output_type": "execute_result"
    }
   ],
   "source": [
    "data[\"Opportunities.xlsx\"][\"Business Account\"]"
   ]
  },
  {
   "cell_type": "code",
   "execution_count": 31,
   "id": "bd67b4bb-a25d-4442-9ae1-e9e467193bff",
   "metadata": {},
   "outputs": [
    {
     "data": {
      "text/plain": [
       "0       C00001\n",
       "1       C00002\n",
       "2       C00003\n",
       "3       C00004\n",
       "4       C00005\n",
       "         ...  \n",
       "3478    C19916\n",
       "3479    C19917\n",
       "3480    C19918\n",
       "3481    C19986\n",
       "3482    C19987\n",
       "Name: Business Account, Length: 3483, dtype: object"
      ]
     },
     "execution_count": 31,
     "metadata": {},
     "output_type": "execute_result"
    }
   ],
   "source": [
    "data[\"Business Account.xlsx\"][\"Business Account\"]"
   ]
  },
  {
   "cell_type": "code",
   "execution_count": 36,
   "id": "0f6404df-1375-4d92-aa48-8f32740eec4f",
   "metadata": {},
   "outputs": [
    {
     "data": {
      "text/plain": [
       "Opportunity ID                                        int64\n",
       "Business Account                                     object\n",
       "ContactID                                           float64\n",
       "Estimated Close Date                         datetime64[ns]\n",
       "Status                                               object\n",
       "Stage                                                object\n",
       "Probability                                           int64\n",
       "Estimated amount                                    float64\n",
       "Amount received                                     float64\n",
       "Difference                                          float64\n",
       "Owner Name                                          float64\n",
       "Follow-up with                                      float64\n",
       "Class ID                                             object\n",
       "Class                                                object\n",
       "Source                                               object\n",
       "Source Campaign                                     float64\n",
       "Campaign Name                                        object\n",
       "Programme financé                                    object\n",
       "Action financée                                      object\n",
       "Agreement                                            object\n",
       "Signature date of the agreement              datetime64[ns]\n",
       "Agreement expiry date                        datetime64[ns]\n",
       "Duration of agreement (months)                       object\n",
       "Deadline for submission of interim report    datetime64[ns]\n",
       "Final report deadline                        datetime64[ns]\n",
       "Type de contrat                                      object\n",
       "Type de financement                                  object\n",
       "Zone SDLV                                            object\n",
       "Theorical payment date 1                     datetime64[ns]\n",
       "Theorical payment amount 1                           object\n",
       "Theorical payment date 2                     datetime64[ns]\n",
       "Theorical payment amount 2                           object\n",
       "Theorical payment date 3                     datetime64[ns]\n",
       "Theorical payment amount 3                           object\n",
       "Theorical payment date 4                     datetime64[ns]\n",
       "Theorical payment amount 4                           object\n",
       "Theorical payment date 5                     datetime64[ns]\n",
       "Theorical payment amount 5                           object\n",
       "Created On                                   datetime64[ns]\n",
       "Last Modified Date                           datetime64[ns]\n",
       "Actual Close Date                            datetime64[ns]\n",
       "Assignment Date                              datetime64[ns]\n",
       "Branch ID                                            object\n",
       "dtype: object"
      ]
     },
     "execution_count": 36,
     "metadata": {},
     "output_type": "execute_result"
    }
   ],
   "source": [
    "data[\"Opportunities.xlsx\"].dtypes"
   ]
  },
  {
   "cell_type": "code",
   "execution_count": 38,
   "id": "448964a3-2448-4d8d-bcb0-64fd48e478b3",
   "metadata": {},
   "outputs": [
    {
     "data": {
      "text/plain": [
       "Business Account                   object\n",
       "Customer Status                    object\n",
       "Type                               object\n",
       "Partner type                       object\n",
       "Class                              object\n",
       "Class Name                         object\n",
       "Activity sector                    object\n",
       "Parent Business Account            object\n",
       "Owner Name                        float64\n",
       "Follow-up with                    float64\n",
       "Postal Code                        object\n",
       "City                               object\n",
       "State                              object\n",
       "Country ID                         object\n",
       "Country Name                       object\n",
       "Created On                 datetime64[ns]\n",
       "Last Modified On           datetime64[ns]\n",
       "dtype: object"
      ]
     },
     "execution_count": 38,
     "metadata": {},
     "output_type": "execute_result"
    }
   ],
   "source": [
    "data[\"Business Account.xlsx\"].dtypes"
   ]
  },
  {
   "cell_type": "markdown",
   "id": "68ddfcce-76de-4b23-9e24-76765f7461c2",
   "metadata": {},
   "source": [
    "# Join Operation"
   ]
  },
  {
   "cell_type": "code",
   "execution_count": 4,
   "id": "b46ea607-7517-46de-8642-1b05dafe9d37",
   "metadata": {},
   "outputs": [],
   "source": [
    "# Join on Business Accounts\n",
    "\n",
    "df = data[\"Opportunities.xlsx\"].merge(data[\"Business Account.xlsx\"], on=\"Business Account\", how=\"left\")"
   ]
  },
  {
   "cell_type": "code",
   "execution_count": 26,
   "id": "0c2fc864-b6ba-4301-b341-7e52d4548079",
   "metadata": {},
   "outputs": [
    {
     "data": {
      "text/plain": [
       "(5986, 59)"
      ]
     },
     "execution_count": 26,
     "metadata": {},
     "output_type": "execute_result"
    }
   ],
   "source": [
    "df.shape"
   ]
  },
  {
   "cell_type": "code",
   "execution_count": 28,
   "id": "eec7340b-3875-440b-8b1c-f76edb84b7c1",
   "metadata": {},
   "outputs": [],
   "source": [
    "df = df.merge(data[\"Contacts.xlsx\"], on=\"ContactID\", how=\"left\")"
   ]
  },
  {
   "cell_type": "code",
   "execution_count": 30,
   "id": "1a0f3087-6191-4e88-ae95-0e680d820373",
   "metadata": {},
   "outputs": [],
   "source": [
    "all_opportunities = data[\"Items and Opportunities.xlsx\"].merge(data[\"Invoice and Opportunities.xlsx\"], on=\"Opportunity ID\")\n",
    "all_opportunities = all_opportunities.merge(data[\"Non-Stock Items.xlsx\"], on=\"Inventory ID\")"
   ]
  },
  {
   "cell_type": "code",
   "execution_count": 31,
   "id": "36e27bc4-c748-4d9e-a60a-8e6429981593",
   "metadata": {},
   "outputs": [],
   "source": [
    "df = df.merge(all_opportunities, on='Opportunity ID', how=\"left\")"
   ]
  },
  {
   "cell_type": "code",
   "execution_count": 33,
   "id": "eb6540b6-0ac2-4a55-8b2d-d13a6116d300",
   "metadata": {},
   "outputs": [
    {
     "data": {
      "text/html": [
       "<div>\n",
       "<style scoped>\n",
       "    .dataframe tbody tr th:only-of-type {\n",
       "        vertical-align: middle;\n",
       "    }\n",
       "\n",
       "    .dataframe tbody tr th {\n",
       "        vertical-align: top;\n",
       "    }\n",
       "\n",
       "    .dataframe thead th {\n",
       "        text-align: right;\n",
       "    }\n",
       "</style>\n",
       "<table border=\"1\" class=\"dataframe\">\n",
       "  <thead>\n",
       "    <tr style=\"text-align: right;\">\n",
       "      <th></th>\n",
       "      <th>Opportunity ID</th>\n",
       "      <th>Business Account_x</th>\n",
       "      <th>ContactID</th>\n",
       "      <th>Estimated Close Date</th>\n",
       "      <th>Status</th>\n",
       "      <th>Stage</th>\n",
       "      <th>Probability</th>\n",
       "      <th>Estimated amount</th>\n",
       "      <th>Amount received</th>\n",
       "      <th>Difference</th>\n",
       "      <th>...</th>\n",
       "      <th>Amount</th>\n",
       "      <th>Date</th>\n",
       "      <th>Description EN</th>\n",
       "      <th>Posting Class</th>\n",
       "      <th>Tax Category_y</th>\n",
       "      <th>Base Unit</th>\n",
       "      <th>Item Status</th>\n",
       "      <th>Created On_y</th>\n",
       "      <th>Last Modified On</th>\n",
       "      <th>Default Price</th>\n",
       "    </tr>\n",
       "  </thead>\n",
       "  <tbody>\n",
       "    <tr>\n",
       "      <th>0</th>\n",
       "      <td>6387</td>\n",
       "      <td>C00037</td>\n",
       "      <td>35334.0</td>\n",
       "      <td>2023-11-27</td>\n",
       "      <td>New</td>\n",
       "      <td>Won</td>\n",
       "      <td>100</td>\n",
       "      <td>9000.0</td>\n",
       "      <td>NaN</td>\n",
       "      <td>-9000.0</td>\n",
       "      <td>...</td>\n",
       "      <td>NaN</td>\n",
       "      <td>NaT</td>\n",
       "      <td>NaN</td>\n",
       "      <td>NaN</td>\n",
       "      <td>NaN</td>\n",
       "      <td>NaN</td>\n",
       "      <td>NaN</td>\n",
       "      <td>NaT</td>\n",
       "      <td>NaT</td>\n",
       "      <td>NaN</td>\n",
       "    </tr>\n",
       "    <tr>\n",
       "      <th>1</th>\n",
       "      <td>6386</td>\n",
       "      <td>C01254</td>\n",
       "      <td>36240.0</td>\n",
       "      <td>2023-10-11</td>\n",
       "      <td>New</td>\n",
       "      <td>Won</td>\n",
       "      <td>100</td>\n",
       "      <td>9000.0</td>\n",
       "      <td>NaN</td>\n",
       "      <td>-9000.0</td>\n",
       "      <td>...</td>\n",
       "      <td>NaN</td>\n",
       "      <td>NaT</td>\n",
       "      <td>NaN</td>\n",
       "      <td>NaN</td>\n",
       "      <td>NaN</td>\n",
       "      <td>NaN</td>\n",
       "      <td>NaN</td>\n",
       "      <td>NaT</td>\n",
       "      <td>NaT</td>\n",
       "      <td>NaN</td>\n",
       "    </tr>\n",
       "    <tr>\n",
       "      <th>2</th>\n",
       "      <td>6385</td>\n",
       "      <td>C21512</td>\n",
       "      <td>47640.0</td>\n",
       "      <td>2023-10-11</td>\n",
       "      <td>New</td>\n",
       "      <td>Oral agreement</td>\n",
       "      <td>80</td>\n",
       "      <td>140.0</td>\n",
       "      <td>NaN</td>\n",
       "      <td>-140.0</td>\n",
       "      <td>...</td>\n",
       "      <td>NaN</td>\n",
       "      <td>NaT</td>\n",
       "      <td>NaN</td>\n",
       "      <td>NaN</td>\n",
       "      <td>NaN</td>\n",
       "      <td>NaN</td>\n",
       "      <td>NaN</td>\n",
       "      <td>NaT</td>\n",
       "      <td>NaT</td>\n",
       "      <td>NaN</td>\n",
       "    </tr>\n",
       "    <tr>\n",
       "      <th>3</th>\n",
       "      <td>6384</td>\n",
       "      <td>C21509</td>\n",
       "      <td>47636.0</td>\n",
       "      <td>2023-10-11</td>\n",
       "      <td>New</td>\n",
       "      <td>Oral agreement</td>\n",
       "      <td>80</td>\n",
       "      <td>350.0</td>\n",
       "      <td>NaN</td>\n",
       "      <td>-350.0</td>\n",
       "      <td>...</td>\n",
       "      <td>NaN</td>\n",
       "      <td>NaT</td>\n",
       "      <td>NaN</td>\n",
       "      <td>NaN</td>\n",
       "      <td>NaN</td>\n",
       "      <td>NaN</td>\n",
       "      <td>NaN</td>\n",
       "      <td>NaT</td>\n",
       "      <td>NaT</td>\n",
       "      <td>NaN</td>\n",
       "    </tr>\n",
       "    <tr>\n",
       "      <th>4</th>\n",
       "      <td>6383</td>\n",
       "      <td>C21508</td>\n",
       "      <td>47635.0</td>\n",
       "      <td>2023-10-10</td>\n",
       "      <td>New</td>\n",
       "      <td>Oral agreement</td>\n",
       "      <td>80</td>\n",
       "      <td>120.0</td>\n",
       "      <td>NaN</td>\n",
       "      <td>-120.0</td>\n",
       "      <td>...</td>\n",
       "      <td>NaN</td>\n",
       "      <td>NaT</td>\n",
       "      <td>NaN</td>\n",
       "      <td>NaN</td>\n",
       "      <td>NaN</td>\n",
       "      <td>NaN</td>\n",
       "      <td>NaN</td>\n",
       "      <td>NaT</td>\n",
       "      <td>NaT</td>\n",
       "      <td>NaN</td>\n",
       "    </tr>\n",
       "    <tr>\n",
       "      <th>...</th>\n",
       "      <td>...</td>\n",
       "      <td>...</td>\n",
       "      <td>...</td>\n",
       "      <td>...</td>\n",
       "      <td>...</td>\n",
       "      <td>...</td>\n",
       "      <td>...</td>\n",
       "      <td>...</td>\n",
       "      <td>...</td>\n",
       "      <td>...</td>\n",
       "      <td>...</td>\n",
       "      <td>...</td>\n",
       "      <td>...</td>\n",
       "      <td>...</td>\n",
       "      <td>...</td>\n",
       "      <td>...</td>\n",
       "      <td>...</td>\n",
       "      <td>...</td>\n",
       "      <td>...</td>\n",
       "      <td>...</td>\n",
       "      <td>...</td>\n",
       "    </tr>\n",
       "    <tr>\n",
       "      <th>8017</th>\n",
       "      <td>5</td>\n",
       "      <td>C00036</td>\n",
       "      <td>NaN</td>\n",
       "      <td>2020-01-01</td>\n",
       "      <td>Won</td>\n",
       "      <td>Won</td>\n",
       "      <td>100</td>\n",
       "      <td>1059.0</td>\n",
       "      <td>NaN</td>\n",
       "      <td>-1059.0</td>\n",
       "      <td>...</td>\n",
       "      <td>NaN</td>\n",
       "      <td>NaT</td>\n",
       "      <td>NaN</td>\n",
       "      <td>NaN</td>\n",
       "      <td>NaN</td>\n",
       "      <td>NaN</td>\n",
       "      <td>NaN</td>\n",
       "      <td>NaT</td>\n",
       "      <td>NaT</td>\n",
       "      <td>NaN</td>\n",
       "    </tr>\n",
       "    <tr>\n",
       "      <th>8018</th>\n",
       "      <td>4</td>\n",
       "      <td>C00024</td>\n",
       "      <td>NaN</td>\n",
       "      <td>2020-01-01</td>\n",
       "      <td>Won</td>\n",
       "      <td>Won</td>\n",
       "      <td>200</td>\n",
       "      <td>7500.0</td>\n",
       "      <td>7500.0</td>\n",
       "      <td>0.0</td>\n",
       "      <td>...</td>\n",
       "      <td>7500.0</td>\n",
       "      <td>2021-07-02</td>\n",
       "      <td>Sponsorship</td>\n",
       "      <td>MECENAT</td>\n",
       "      <td>TVA0</td>\n",
       "      <td>PIECE</td>\n",
       "      <td>Active</td>\n",
       "      <td>2021-02-12 02:59:03.890</td>\n",
       "      <td>2021-09-01 10:39:46.240</td>\n",
       "      <td>0.0</td>\n",
       "    </tr>\n",
       "    <tr>\n",
       "      <th>8019</th>\n",
       "      <td>3</td>\n",
       "      <td>C00011</td>\n",
       "      <td>NaN</td>\n",
       "      <td>2020-01-01</td>\n",
       "      <td>Won</td>\n",
       "      <td>Won</td>\n",
       "      <td>100</td>\n",
       "      <td>35000.0</td>\n",
       "      <td>NaN</td>\n",
       "      <td>-35000.0</td>\n",
       "      <td>...</td>\n",
       "      <td>NaN</td>\n",
       "      <td>NaT</td>\n",
       "      <td>NaN</td>\n",
       "      <td>NaN</td>\n",
       "      <td>NaN</td>\n",
       "      <td>NaN</td>\n",
       "      <td>NaN</td>\n",
       "      <td>NaT</td>\n",
       "      <td>NaT</td>\n",
       "      <td>NaN</td>\n",
       "    </tr>\n",
       "    <tr>\n",
       "      <th>8020</th>\n",
       "      <td>2</td>\n",
       "      <td>C00331</td>\n",
       "      <td>NaN</td>\n",
       "      <td>2020-01-01</td>\n",
       "      <td>Won</td>\n",
       "      <td>Won</td>\n",
       "      <td>100</td>\n",
       "      <td>20000.0</td>\n",
       "      <td>NaN</td>\n",
       "      <td>-20000.0</td>\n",
       "      <td>...</td>\n",
       "      <td>NaN</td>\n",
       "      <td>NaT</td>\n",
       "      <td>NaN</td>\n",
       "      <td>NaN</td>\n",
       "      <td>NaN</td>\n",
       "      <td>NaN</td>\n",
       "      <td>NaN</td>\n",
       "      <td>NaT</td>\n",
       "      <td>NaT</td>\n",
       "      <td>NaN</td>\n",
       "    </tr>\n",
       "    <tr>\n",
       "      <th>8021</th>\n",
       "      <td>1</td>\n",
       "      <td>C00331</td>\n",
       "      <td>NaN</td>\n",
       "      <td>2020-01-01</td>\n",
       "      <td>Won</td>\n",
       "      <td>Won</td>\n",
       "      <td>100</td>\n",
       "      <td>10000.0</td>\n",
       "      <td>NaN</td>\n",
       "      <td>-10000.0</td>\n",
       "      <td>...</td>\n",
       "      <td>NaN</td>\n",
       "      <td>NaT</td>\n",
       "      <td>NaN</td>\n",
       "      <td>NaN</td>\n",
       "      <td>NaN</td>\n",
       "      <td>NaN</td>\n",
       "      <td>NaN</td>\n",
       "      <td>NaT</td>\n",
       "      <td>NaT</td>\n",
       "      <td>NaN</td>\n",
       "    </tr>\n",
       "  </tbody>\n",
       "</table>\n",
       "<p>8022 rows × 101 columns</p>\n",
       "</div>"
      ],
      "text/plain": [
       "      Opportunity ID Business Account_x  ContactID Estimated Close Date  \\\n",
       "0               6387             C00037    35334.0           2023-11-27   \n",
       "1               6386             C01254    36240.0           2023-10-11   \n",
       "2               6385             C21512    47640.0           2023-10-11   \n",
       "3               6384             C21509    47636.0           2023-10-11   \n",
       "4               6383             C21508    47635.0           2023-10-10   \n",
       "...              ...                ...        ...                  ...   \n",
       "8017               5             C00036        NaN           2020-01-01   \n",
       "8018               4             C00024        NaN           2020-01-01   \n",
       "8019               3             C00011        NaN           2020-01-01   \n",
       "8020               2             C00331        NaN           2020-01-01   \n",
       "8021               1             C00331        NaN           2020-01-01   \n",
       "\n",
       "     Status           Stage  Probability  Estimated amount  Amount received  \\\n",
       "0       New             Won          100            9000.0              NaN   \n",
       "1       New             Won          100            9000.0              NaN   \n",
       "2       New  Oral agreement           80             140.0              NaN   \n",
       "3       New  Oral agreement           80             350.0              NaN   \n",
       "4       New  Oral agreement           80             120.0              NaN   \n",
       "...     ...             ...          ...               ...              ...   \n",
       "8017    Won             Won          100            1059.0              NaN   \n",
       "8018    Won             Won          200            7500.0           7500.0   \n",
       "8019    Won             Won          100           35000.0              NaN   \n",
       "8020    Won             Won          100           20000.0              NaN   \n",
       "8021    Won             Won          100           10000.0              NaN   \n",
       "\n",
       "      Difference  ...  Amount       Date Description EN Posting Class  \\\n",
       "0        -9000.0  ...     NaN        NaT            NaN           NaN   \n",
       "1        -9000.0  ...     NaN        NaT            NaN           NaN   \n",
       "2         -140.0  ...     NaN        NaT            NaN           NaN   \n",
       "3         -350.0  ...     NaN        NaT            NaN           NaN   \n",
       "4         -120.0  ...     NaN        NaT            NaN           NaN   \n",
       "...          ...  ...     ...        ...            ...           ...   \n",
       "8017     -1059.0  ...     NaN        NaT            NaN           NaN   \n",
       "8018         0.0  ...  7500.0 2021-07-02    Sponsorship       MECENAT   \n",
       "8019    -35000.0  ...     NaN        NaT            NaN           NaN   \n",
       "8020    -20000.0  ...     NaN        NaT            NaN           NaN   \n",
       "8021    -10000.0  ...     NaN        NaT            NaN           NaN   \n",
       "\n",
       "     Tax Category_y  Base Unit Item Status            Created On_y  \\\n",
       "0               NaN        NaN         NaN                     NaT   \n",
       "1               NaN        NaN         NaN                     NaT   \n",
       "2               NaN        NaN         NaN                     NaT   \n",
       "3               NaN        NaN         NaN                     NaT   \n",
       "4               NaN        NaN         NaN                     NaT   \n",
       "...             ...        ...         ...                     ...   \n",
       "8017            NaN        NaN         NaN                     NaT   \n",
       "8018           TVA0      PIECE      Active 2021-02-12 02:59:03.890   \n",
       "8019            NaN        NaN         NaN                     NaT   \n",
       "8020            NaN        NaN         NaN                     NaT   \n",
       "8021            NaN        NaN         NaN                     NaT   \n",
       "\n",
       "            Last Modified On Default Price  \n",
       "0                        NaT           NaN  \n",
       "1                        NaT           NaN  \n",
       "2                        NaT           NaN  \n",
       "3                        NaT           NaN  \n",
       "4                        NaT           NaN  \n",
       "...                      ...           ...  \n",
       "8017                     NaT           NaN  \n",
       "8018 2021-09-01 10:39:46.240           0.0  \n",
       "8019                     NaT           NaN  \n",
       "8020                     NaT           NaN  \n",
       "8021                     NaT           NaN  \n",
       "\n",
       "[8022 rows x 101 columns]"
      ]
     },
     "execution_count": 33,
     "metadata": {},
     "output_type": "execute_result"
    }
   ],
   "source": [
    "df"
   ]
  },
  {
   "cell_type": "markdown",
   "id": "f8156057-8bc2-4031-97db-1d4ebfed8978",
   "metadata": {},
   "source": [
    "# function"
   ]
  },
  {
   "cell_type": "code",
   "execution_count": 84,
   "id": "8b2f5e81-02c1-4d03-acce-b2a773e700a7",
   "metadata": {},
   "outputs": [],
   "source": [
    "docs = ['consumer_price_index.xlsx',\n",
    "         'Items and Opportunities.xlsx',\n",
    "         'Invoice and Opportunities.xlsx',\n",
    "         'Business Account.xlsx',\n",
    "         'Opportunities.xlsx',\n",
    "         'Non-Stock Items.xlsx',\n",
    "         'Contacts.xlsx']\n",
    "\n",
    "def load_and_join_data(docs):\n",
    "    data = {}\n",
    "    for doc in docs:\n",
    "        try:\n",
    "            data[doc] = pd.read_excel(f\"data/shared_data_read_only/{doc}\")\n",
    "        except:\n",
    "            continue\n",
    "    data[\"Opportunities.xlsx\"].rename(columns={\"Contact ID\": \"ContactID\"}, inplace=True)\n",
    "    df = data[\"Opportunities.xlsx\"].merge(data[\"Business Account.xlsx\"], on=\"Business Account\", how=\"left\")\n",
    "    all_opportunities = data[\"Items and Opportunities.xlsx\"].merge(data[\"Invoice and Opportunities.xlsx\"], on=\"Opportunity ID\")\n",
    "    all_opportunities = all_opportunities.merge(data[\"Non-Stock Items.xlsx\"], on=\"Inventory ID\")\n",
    "    df = df.merge(data[\"Contacts.xlsx\"], on=\"ContactID\", how=\"left\")\n",
    "    df = df.merge(all_opportunities, on='Opportunity ID', how=\"left\")\n",
    "    df.drop(columns=df.filter(regex=\"_y\").columns, inplace=True)\n",
    "    df.columns = df.columns.str.replace('_x', '')    \n",
    "    return df"
   ]
  },
  {
   "cell_type": "code",
   "execution_count": 85,
   "id": "ff399788-0e68-4bb0-845f-3440e95c777a",
   "metadata": {},
   "outputs": [],
   "source": [
    "# df = pd.read_csv(\"data/final_data.csv\")\n",
    "df, op = load_and_join_data(docs)"
   ]
  },
  {
   "cell_type": "code",
   "execution_count": 86,
   "id": "c7183f40-3ec7-492a-babb-677713312f34",
   "metadata": {},
   "outputs": [
    {
     "data": {
      "text/plain": [
       "4754"
      ]
     },
     "execution_count": 86,
     "metadata": {},
     "output_type": "execute_result"
    }
   ],
   "source": [
    "df[\"Amount received\"].notna().sum()"
   ]
  },
  {
   "cell_type": "code",
   "execution_count": 87,
   "id": "3737de75-5878-45e7-a51a-965358c106bb",
   "metadata": {},
   "outputs": [],
   "source": [
    "import seaborn as sns\n",
    "import matplotlib.pyplot as plt"
   ]
  },
  {
   "cell_type": "code",
   "execution_count": 50,
   "id": "68e345c2-8ac7-46e3-bdba-60f111106cf8",
   "metadata": {},
   "outputs": [
    {
     "data": {
      "text/plain": [
       "<AxesSubplot:>"
      ]
     },
     "execution_count": 50,
     "metadata": {},
     "output_type": "execute_result"
    },
    {
     "data": {
      "image/png": "[encoded data removed]",
      "text/plain": [
       "<Figure size 1080x864 with 2 Axes>"
      ]
     },
     "metadata": {
      "needs_background": "light"
     },
     "output_type": "display_data"
    }
   ],
   "source": [
    "plt.figure(figsize=(15, 12))\n",
    "corr_matrix= df.corr()\n",
    "sns.heatmap(corr_matrix, annot=True, cmap=\"coolwarm\", fmt=\".2f\",)"
   ]
  },
  {
   "cell_type": "markdown",
   "id": "b6f9069c-0dfb-47e7-a783-70467a0557ff",
   "metadata": {},
   "source": [
    "# Exploration"
   ]
  },
  {
   "cell_type": "markdown",
   "id": "8d742194-4896-4258-b652-ff212cc3a6f1",
   "metadata": {},
   "source": [
    "### Stage and Status by country and city"
   ]
  },
  {
   "cell_type": "code",
   "execution_count": 5,
   "id": "a363b586-62a7-4afb-9b5c-aa7a37a090c2",
   "metadata": {},
   "outputs": [],
   "source": [
    "df_op = data[\"Opportunities.xlsx\"].merge(data[\"Business Account.xlsx\"], on=\"Business Account\", how=\"left\")"
   ]
  },
  {
   "cell_type": "code",
   "execution_count": 27,
   "id": "39729d31-e223-464d-95af-529442571400",
   "metadata": {},
   "outputs": [
    {
     "data": {
      "text/plain": [
       "Index(['Opportunity ID', 'Business Account', 'Contact ID',\n",
       "       'Estimated Close Date', 'Status', 'Stage', 'Probability',\n",
       "       'Estimated amount', 'Amount received', 'Difference', 'Owner Name_x',\n",
       "       'Follow-up with_x', 'Class ID', 'Class_x', 'Source', 'Source Campaign',\n",
       "       'Campaign Name', 'Programme financé', 'Action financée', 'Agreement',\n",
       "       'Signature date of the agreement', 'Agreement expiry date',\n",
       "       'Duration of agreement (months)',\n",
       "       'Deadline for submission of interim report', 'Final report deadline',\n",
       "       'Type de contrat', 'Type de financement', 'Zone SDLV',\n",
       "       'Theorical payment date 1', 'Theorical payment amount 1',\n",
       "       'Theorical payment date 2', 'Theorical payment amount 2',\n",
       "       'Theorical payment date 3', 'Theorical payment amount 3',\n",
       "       'Theorical payment date 4', 'Theorical payment amount 4',\n",
       "       'Theorical payment date 5', 'Theorical payment amount 5',\n",
       "       'Created On_x', 'Last Modified Date', 'Actual Close Date',\n",
       "       'Assignment Date', 'Branch ID', 'Customer Status', 'Type',\n",
       "       'Partner type', 'Class_y', 'Class Name', 'Activity sector',\n",
       "       'Parent Business Account', 'Owner Name_y', 'Follow-up with_y',\n",
       "       'Postal Code', 'City', 'State', 'Country ID', 'Country Name',\n",
       "       'Created On_y', 'Last Modified On'],\n",
       "      dtype='object')"
      ]
     },
     "execution_count": 27,
     "metadata": {},
     "output_type": "execute_result"
    }
   ],
   "source": [
    "df_op.columns"
   ]
  },
  {
   "cell_type": "code",
   "execution_count": 28,
   "id": "10f9f615-c558-4e54-b403-aed7f9dd702c",
   "metadata": {},
   "outputs": [
    {
     "data": {
      "text/html": [
       "<style  type=\"text/css\" >\n",
       "#T_c95a0_row0_col0{\n",
       "            background-color:  #67a4cc;\n",
       "            color:  #000000;\n",
       "        }#T_c95a0_row0_col1,#T_c95a0_row2_col2,#T_c95a0_row3_col0,#T_c95a0_row5_col3{\n",
       "            background-color:  #023858;\n",
       "            color:  #f1f1f1;\n",
       "        }#T_c95a0_row0_col2{\n",
       "            background-color:  #c9cee4;\n",
       "            color:  #000000;\n",
       "        }#T_c95a0_row0_col3{\n",
       "            background-color:  #e8e4f0;\n",
       "            color:  #000000;\n",
       "        }#T_c95a0_row1_col0{\n",
       "            background-color:  #056aa6;\n",
       "            color:  #f1f1f1;\n",
       "        }#T_c95a0_row1_col1{\n",
       "            background-color:  #5a9ec9;\n",
       "            color:  #000000;\n",
       "        }#T_c95a0_row1_col2{\n",
       "            background-color:  #4496c3;\n",
       "            color:  #000000;\n",
       "        }#T_c95a0_row1_col3{\n",
       "            background-color:  #d2d3e7;\n",
       "            color:  #000000;\n",
       "        }#T_c95a0_row2_col0{\n",
       "            background-color:  #4295c3;\n",
       "            color:  #000000;\n",
       "        }#T_c95a0_row2_col1{\n",
       "            background-color:  #3790c0;\n",
       "            color:  #000000;\n",
       "        }#T_c95a0_row2_col3{\n",
       "            background-color:  #cdd0e5;\n",
       "            color:  #000000;\n",
       "        }#T_c95a0_row3_col1{\n",
       "            background-color:  #04629a;\n",
       "            color:  #f1f1f1;\n",
       "        }#T_c95a0_row3_col2{\n",
       "            background-color:  #c2cbe2;\n",
       "            color:  #000000;\n",
       "        }#T_c95a0_row3_col3,#T_c95a0_row5_col0,#T_c95a0_row5_col1,#T_c95a0_row5_col2{\n",
       "            background-color:  #fff7fb;\n",
       "            color:  #000000;\n",
       "        }#T_c95a0_row4_col0{\n",
       "            background-color:  #fdf5fa;\n",
       "            color:  #000000;\n",
       "        }#T_c95a0_row4_col1{\n",
       "            background-color:  #045b8f;\n",
       "            color:  #f1f1f1;\n",
       "        }#T_c95a0_row4_col2{\n",
       "            background-color:  #f3edf5;\n",
       "            color:  #000000;\n",
       "        }#T_c95a0_row4_col3{\n",
       "            background-color:  #75a9cf;\n",
       "            color:  #000000;\n",
       "        }</style><table id=\"T_c95a0_\" ><thead>    <tr>        <th class=\"index_name level0\" >Status</th>        <th class=\"col_heading level0 col0\" >Lost</th>        <th class=\"col_heading level0 col1\" >New</th>        <th class=\"col_heading level0 col2\" >Open</th>        <th class=\"col_heading level0 col3\" >Won</th>    </tr>    <tr>        <th class=\"index_name level0\" >Stage</th>        <th class=\"blank\" ></th>        <th class=\"blank\" ></th>        <th class=\"blank\" ></th>        <th class=\"blank\" ></th>    </tr></thead><tbody>\n",
       "                <tr>\n",
       "                        <th id=\"T_c95a0_level0_row0\" class=\"row_heading level0 row0\" >Advanced Prospect</th>\n",
       "                        <td id=\"T_c95a0_row0_col0\" class=\"data row0 col0\" >0.235849</td>\n",
       "                        <td id=\"T_c95a0_row0_col1\" class=\"data row0 col1\" >0.613208</td>\n",
       "                        <td id=\"T_c95a0_row0_col2\" class=\"data row0 col2\" >0.028302</td>\n",
       "                        <td id=\"T_c95a0_row0_col3\" class=\"data row0 col3\" >0.122642</td>\n",
       "            </tr>\n",
       "            <tr>\n",
       "                        <th id=\"T_c95a0_level0_row1\" class=\"row_heading level0 row1\" >Dossier posed</th>\n",
       "                        <td id=\"T_c95a0_row1_col0\" class=\"data row1 col0\" >0.347458</td>\n",
       "                        <td id=\"T_c95a0_row1_col1\" class=\"data row1 col1\" >0.398305</td>\n",
       "                        <td id=\"T_c95a0_row1_col2\" class=\"data row1 col2\" >0.050847</td>\n",
       "                        <td id=\"T_c95a0_row1_col3\" class=\"data row1 col3\" >0.203390</td>\n",
       "            </tr>\n",
       "            <tr>\n",
       "                        <th id=\"T_c95a0_level0_row2\" class=\"row_heading level0 row2\" >Initial Prospect</th>\n",
       "                        <td id=\"T_c95a0_row2_col0\" class=\"data row2 col0\" >0.267890</td>\n",
       "                        <td id=\"T_c95a0_row2_col1\" class=\"data row2 col1\" >0.431193</td>\n",
       "                        <td id=\"T_c95a0_row2_col2\" class=\"data row2 col2\" >0.078899</td>\n",
       "                        <td id=\"T_c95a0_row2_col3\" class=\"data row2 col3\" >0.222018</td>\n",
       "            </tr>\n",
       "            <tr>\n",
       "                        <th id=\"T_c95a0_level0_row3\" class=\"row_heading level0 row3\" >Lost</th>\n",
       "                        <td id=\"T_c95a0_row3_col0\" class=\"data row3 col0\" >0.441176</td>\n",
       "                        <td id=\"T_c95a0_row3_col1\" class=\"data row3 col1\" >0.529412</td>\n",
       "                        <td id=\"T_c95a0_row3_col2\" class=\"data row3 col2\" >0.029412</td>\n",
       "                        <td id=\"T_c95a0_row3_col3\" class=\"data row3 col3\" >0.000000</td>\n",
       "            </tr>\n",
       "            <tr>\n",
       "                        <th id=\"T_c95a0_level0_row4\" class=\"row_heading level0 row4\" >Oral agreement</th>\n",
       "                        <td id=\"T_c95a0_row4_col0\" class=\"data row4 col0\" >0.014801</td>\n",
       "                        <td id=\"T_c95a0_row4_col1\" class=\"data row4 col1\" >0.547641</td>\n",
       "                        <td id=\"T_c95a0_row4_col2\" class=\"data row4 col2\" >0.014801</td>\n",
       "                        <td id=\"T_c95a0_row4_col3\" class=\"data row4 col3\" >0.422757</td>\n",
       "            </tr>\n",
       "            <tr>\n",
       "                        <th id=\"T_c95a0_level0_row5\" class=\"row_heading level0 row5\" >Won</th>\n",
       "                        <td id=\"T_c95a0_row5_col0\" class=\"data row5 col0\" >0.006826</td>\n",
       "                        <td id=\"T_c95a0_row5_col1\" class=\"data row5 col1\" >0.132374</td>\n",
       "                        <td id=\"T_c95a0_row5_col2\" class=\"data row5 col2\" >0.009264</td>\n",
       "                        <td id=\"T_c95a0_row5_col3\" class=\"data row5 col3\" >0.851536</td>\n",
       "            </tr>\n",
       "    </tbody></table>"
      ],
      "text/plain": [
       "<pandas.io.formats.style.Styler at 0x7f0152b61358>"
      ]
     },
     "execution_count": 28,
     "metadata": {},
     "output_type": "execute_result"
    }
   ],
   "source": [
    "pd.crosstab(df_op[\"Stage\"], df_op[\"Status\"], normalize=0).style.background_gradient()"
   ]
  },
  {
   "cell_type": "code",
   "execution_count": 6,
   "id": "401c35a1-eefb-495a-bcf1-27b003831163",
   "metadata": {},
   "outputs": [
    {
     "data": {
      "text/plain": [
       "France                                                  5659\n",
       "United States of America                                  77\n",
       "United Kingdom of Great Britain and Northern Ireland      42\n",
       "États-Unis                                                37\n",
       "Switzerland                                               14\n",
       "Reunion !Réunion                                           9\n",
       "Germany                                                    7\n",
       "Italie                                                     4\n",
       "Suisse                                                     4\n",
       "Belgique                                                   3\n",
       "Belgium                                                    3\n",
       "Espagne                                                    2\n",
       "Luxembourg                                                 2\n",
       "Bermuda                                                    1\n",
       "Allemagne                                                  1\n",
       "Monaco                                                     1\n",
       "Royaume-Uni                                                1\n",
       "Name: Country Name, dtype: int64"
      ]
     },
     "execution_count": 6,
     "metadata": {},
     "output_type": "execute_result"
    }
   ],
   "source": [
    "df_op[\"Country Name\"].value_counts()"
   ]
  },
  {
   "cell_type": "code",
   "execution_count": 7,
   "id": "6b892221-d7fa-4251-867e-f16f6a4b36b0",
   "metadata": {},
   "outputs": [],
   "source": [
    "def preprocess(df):\n",
    "    df_op[\"Country Name\"] = df_op[\"Country Name\"].str.lower().apply(lambda x: unidecode(x) if isinstance(x, str) else np.nan)\n",
    "    df_op[\"Country Name\"] = df_op[\"Country Name\"].replace(\"etats-unis\", \"united states of america\")\n",
    "    df_op[\"Country Name\"] = df_op[\"Country Name\"].replace(\"royaume-uni\", \"united kingdom of great britain and northern ireland\")\n",
    "    df_op[\"Country Name\"] = df_op[\"Country Name\"].replace(\"reunion !reunion\", \"reunion\")\n",
    "    return df\n",
    "\n",
    "df_op = preprocess(df_op)"
   ]
  },
  {
   "cell_type": "code",
   "execution_count": 8,
   "id": "12344425-4eb7-43bd-99df-a600b2333774",
   "metadata": {},
   "outputs": [
    {
     "data": {
      "text/html": [
       "<style  type=\"text/css\" >\n",
       "#T_73204_row0_col0{\n",
       "            background-color:  #f9f2f8;\n",
       "            color:  #000000;\n",
       "        }#T_73204_row0_col1,#T_73204_row0_col3,#T_73204_row2_col0,#T_73204_row2_col1,#T_73204_row2_col2,#T_73204_row2_col3{\n",
       "            background-color:  #fff7fb;\n",
       "            color:  #000000;\n",
       "        }#T_73204_row0_col2{\n",
       "            background-color:  #f6eff7;\n",
       "            color:  #000000;\n",
       "        }#T_73204_row1_col0{\n",
       "            background-color:  #b8c6e0;\n",
       "            color:  #000000;\n",
       "        }#T_73204_row1_col1{\n",
       "            background-color:  #d0d1e6;\n",
       "            color:  #000000;\n",
       "        }#T_73204_row1_col2{\n",
       "            background-color:  #d2d2e7;\n",
       "            color:  #000000;\n",
       "        }#T_73204_row1_col3{\n",
       "            background-color:  #88b1d4;\n",
       "            color:  #000000;\n",
       "        }#T_73204_row3_col0,#T_73204_row3_col1,#T_73204_row3_col2,#T_73204_row3_col3{\n",
       "            background-color:  #023858;\n",
       "            color:  #f1f1f1;\n",
       "        }</style><table id=\"T_73204_\" ><thead>    <tr>        <th class=\"index_name level0\" >Country Name</th>        <th class=\"col_heading level0 col0\" >france</th>        <th class=\"col_heading level0 col1\" >switzerland</th>        <th class=\"col_heading level0 col2\" >united kingdom of great britain and northern ireland</th>        <th class=\"col_heading level0 col3\" >united states of america</th>    </tr>    <tr>        <th class=\"index_name level0\" >Status</th>        <th class=\"blank\" ></th>        <th class=\"blank\" ></th>        <th class=\"blank\" ></th>        <th class=\"blank\" ></th>    </tr></thead><tbody>\n",
       "                <tr>\n",
       "                        <th id=\"T_73204_level0_row0\" class=\"row_heading level0 row0\" >Lost</th>\n",
       "                        <td id=\"T_73204_row0_col0\" class=\"data row0 col0\" >261</td>\n",
       "                        <td id=\"T_73204_row0_col1\" class=\"data row0 col1\" >1</td>\n",
       "                        <td id=\"T_73204_row0_col2\" class=\"data row0 col2\" >2</td>\n",
       "                        <td id=\"T_73204_row0_col3\" class=\"data row0 col3\" >2</td>\n",
       "            </tr>\n",
       "            <tr>\n",
       "                        <th id=\"T_73204_level0_row1\" class=\"row_heading level0 row1\" >New</th>\n",
       "                        <td id=\"T_73204_row1_col0\" class=\"data row1 col0\" >1338</td>\n",
       "                        <td id=\"T_73204_row1_col1\" class=\"data row1 col1\" >3</td>\n",
       "                        <td id=\"T_73204_row1_col2\" class=\"data row1 col2\" >8</td>\n",
       "                        <td id=\"T_73204_row1_col3\" class=\"data row1 col3\" >35</td>\n",
       "            </tr>\n",
       "            <tr>\n",
       "                        <th id=\"T_73204_level0_row2\" class=\"row_heading level0 row2\" >Open</th>\n",
       "                        <td id=\"T_73204_row2_col0\" class=\"data row2 col0\" >99</td>\n",
       "                        <td id=\"T_73204_row2_col1\" class=\"data row2 col1\" >1</td>\n",
       "                        <td id=\"T_73204_row2_col2\" class=\"data row2 col2\" >0</td>\n",
       "                        <td id=\"T_73204_row2_col3\" class=\"data row2 col3\" >2</td>\n",
       "            </tr>\n",
       "            <tr>\n",
       "                        <th id=\"T_73204_level0_row3\" class=\"row_heading level0 row3\" >Won</th>\n",
       "                        <td id=\"T_73204_row3_col0\" class=\"data row3 col0\" >3961</td>\n",
       "                        <td id=\"T_73204_row3_col1\" class=\"data row3 col1\" >9</td>\n",
       "                        <td id=\"T_73204_row3_col2\" class=\"data row3 col2\" >33</td>\n",
       "                        <td id=\"T_73204_row3_col3\" class=\"data row3 col3\" >75</td>\n",
       "            </tr>\n",
       "    </tbody></table>"
      ],
      "text/plain": [
       "<pandas.io.formats.style.Styler at 0x7fd859c5dbe0>"
      ]
     },
     "execution_count": 8,
     "metadata": {},
     "output_type": "execute_result"
    }
   ],
   "source": [
    "countries = pd.crosstab(df_op[\"Status\"], df_op[\"Country Name\"]).sum() > 10\n",
    "filts = countries[countries==True].index\n",
    "\n",
    "pd.crosstab(df_op[\"Status\"], df_op[\"Country Name\"]).loc[:, filts].style.background_gradient()\n"
   ]
  },
  {
   "cell_type": "code",
   "execution_count": 14,
   "id": "eca28dbc-a81f-43af-ab5d-05a2169e7f7a",
   "metadata": {},
   "outputs": [],
   "source": [
    "\n",
    "def clean_city_name(city):\n",
    "    city = city.capitalize()\n",
    "    city = city.replace(\"-\", \" \")\n",
    "    city = city.replace(\"CEDEX\", \"\")\n",
    "    city = re.sub(r\"\\d\", \"\", city)\n",
    "    city = city.replace(\"‘\", \"\")\n",
    "    city = city.strip()\n",
    "    return city\n",
    "\n",
    "df_op[\"City\"] = df_op[\"City\"].astype(str).apply(clean_city_name)\n"
   ]
  },
  {
   "cell_type": "code",
   "execution_count": 10,
   "id": "2045e04b-9652-4a74-be75-4623039e526c",
   "metadata": {},
   "outputs": [],
   "source": [
    "df_op_fr = df_op[df_op[\"Country Name\"] == \"france\"].copy()\n",
    "df_op_fr[\"City\"] = df_op_fr[\"City\"].astype(str).apply(clean_city_name)\n"
   ]
  },
  {
   "cell_type": "code",
   "execution_count": 11,
   "id": "8e359053-6d8f-40e0-9c29-dc94e5707865",
   "metadata": {},
   "outputs": [
    {
     "data": {
      "text/plain": [
       "City                      Status\n",
       "                          New       4\n",
       "                          Won       2\n",
       "                          Lost      1\n",
       "Adresse  non communiquee  Won       1\n",
       "Adresse incomplete        New       1\n",
       "                                   ..\n",
       "Wasquehal                 Won       8\n",
       "                          New       3\n",
       "                          Lost      2\n",
       "Wattrelos                 New       1\n",
       "Écully                    Won       1\n",
       "Name: Status, Length: 712, dtype: int64"
      ]
     },
     "execution_count": 11,
     "metadata": {},
     "output_type": "execute_result"
    }
   ],
   "source": [
    "df_op_fr.groupby('City')[\"Status\"].value_counts()"
   ]
  },
  {
   "cell_type": "code",
   "execution_count": 12,
   "id": "f85573fd-00ce-45b9-b273-8ab54e64361d",
   "metadata": {},
   "outputs": [
    {
     "data": {
      "text/html": [
       "<div>\n",
       "<style scoped>\n",
       "    .dataframe tbody tr th:only-of-type {\n",
       "        vertical-align: middle;\n",
       "    }\n",
       "\n",
       "    .dataframe tbody tr th {\n",
       "        vertical-align: top;\n",
       "    }\n",
       "\n",
       "    .dataframe thead th {\n",
       "        text-align: right;\n",
       "    }\n",
       "</style>\n",
       "<table border=\"1\" class=\"dataframe\">\n",
       "  <thead>\n",
       "    <tr style=\"text-align: right;\">\n",
       "      <th>Status</th>\n",
       "      <th>Lost</th>\n",
       "      <th>New</th>\n",
       "      <th>Open</th>\n",
       "      <th>Won</th>\n",
       "    </tr>\n",
       "    <tr>\n",
       "      <th>City</th>\n",
       "      <th></th>\n",
       "      <th></th>\n",
       "      <th></th>\n",
       "      <th></th>\n",
       "    </tr>\n",
       "  </thead>\n",
       "  <tbody>\n",
       "    <tr>\n",
       "      <th></th>\n",
       "      <td>1</td>\n",
       "      <td>4</td>\n",
       "      <td>0</td>\n",
       "      <td>2</td>\n",
       "    </tr>\n",
       "    <tr>\n",
       "      <th>Adresse  non communiquee</th>\n",
       "      <td>0</td>\n",
       "      <td>0</td>\n",
       "      <td>0</td>\n",
       "      <td>1</td>\n",
       "    </tr>\n",
       "    <tr>\n",
       "      <th>Adresse incomplete</th>\n",
       "      <td>0</td>\n",
       "      <td>1</td>\n",
       "      <td>0</td>\n",
       "      <td>0</td>\n",
       "    </tr>\n",
       "    <tr>\n",
       "      <th>Adresse non commmuniquee</th>\n",
       "      <td>0</td>\n",
       "      <td>0</td>\n",
       "      <td>0</td>\n",
       "      <td>1</td>\n",
       "    </tr>\n",
       "    <tr>\n",
       "      <th>Adresse non communiquee</th>\n",
       "      <td>1</td>\n",
       "      <td>2</td>\n",
       "      <td>0</td>\n",
       "      <td>38</td>\n",
       "    </tr>\n",
       "    <tr>\n",
       "      <th>...</th>\n",
       "      <td>...</td>\n",
       "      <td>...</td>\n",
       "      <td>...</td>\n",
       "      <td>...</td>\n",
       "    </tr>\n",
       "    <tr>\n",
       "      <th>Vulaines sur seine</th>\n",
       "      <td>0</td>\n",
       "      <td>0</td>\n",
       "      <td>0</td>\n",
       "      <td>1</td>\n",
       "    </tr>\n",
       "    <tr>\n",
       "      <th>Vélizy villacoublay</th>\n",
       "      <td>0</td>\n",
       "      <td>1</td>\n",
       "      <td>0</td>\n",
       "      <td>5</td>\n",
       "    </tr>\n",
       "    <tr>\n",
       "      <th>Wasquehal</th>\n",
       "      <td>2</td>\n",
       "      <td>3</td>\n",
       "      <td>0</td>\n",
       "      <td>8</td>\n",
       "    </tr>\n",
       "    <tr>\n",
       "      <th>Wattrelos</th>\n",
       "      <td>0</td>\n",
       "      <td>1</td>\n",
       "      <td>0</td>\n",
       "      <td>0</td>\n",
       "    </tr>\n",
       "    <tr>\n",
       "      <th>Écully</th>\n",
       "      <td>0</td>\n",
       "      <td>0</td>\n",
       "      <td>0</td>\n",
       "      <td>1</td>\n",
       "    </tr>\n",
       "  </tbody>\n",
       "</table>\n",
       "<p>450 rows × 4 columns</p>\n",
       "</div>"
      ],
      "text/plain": [
       "Status                    Lost  New  Open  Won\n",
       "City                                          \n",
       "                             1    4     0    2\n",
       "Adresse  non communiquee     0    0     0    1\n",
       "Adresse incomplete           0    1     0    0\n",
       "Adresse non commmuniquee     0    0     0    1\n",
       "Adresse non communiquee      1    2     0   38\n",
       "...                        ...  ...   ...  ...\n",
       "Vulaines sur seine           0    0     0    1\n",
       "Vélizy villacoublay          0    1     0    5\n",
       "Wasquehal                    2    3     0    8\n",
       "Wattrelos                    0    1     0    0\n",
       "Écully                       0    0     0    1\n",
       "\n",
       "[450 rows x 4 columns]"
      ]
     },
     "execution_count": 12,
     "metadata": {},
     "output_type": "execute_result"
    }
   ],
   "source": [
    "pd.crosstab(df_op_fr[\"City\"], df_op_fr[\"Status\"])"
   ]
  },
  {
   "cell_type": "code",
   "execution_count": 15,
   "id": "f22614d1-3a57-4e9b-909b-1f174c25b937",
   "metadata": {},
   "outputs": [
    {
     "data": {
      "text/plain": [
       "City                      Status\n",
       "                          New       4\n",
       "                          Won       2\n",
       "                          Lost      1\n",
       "Adresse  non communiquee  Won       1\n",
       "Adresse incomplete        New       1\n",
       "                                   ..\n",
       "Wasquehal                 Won       8\n",
       "                          New       3\n",
       "                          Lost      2\n",
       "Wattrelos                 New       1\n",
       "Écully                    Won       1\n",
       "Name: Status, Length: 712, dtype: int64"
      ]
     },
     "execution_count": 15,
     "metadata": {},
     "output_type": "execute_result"
    }
   ],
   "source": [
    "# df_op_fr = df_op[df_op[\"Country Name\"] == \"france\"].copy()\n",
    "df_op_fr.groupby(\"City\")[\"Status\"].value_counts()"
   ]
  },
  {
   "cell_type": "markdown",
   "id": "0b81eb37-1b99-4d76-9a69-965dcadc9a81",
   "metadata": {},
   "source": [
    "### Customer Type"
   ]
  },
  {
   "cell_type": "code",
   "execution_count": 16,
   "id": "53d6f0d2-67ee-4260-bb3b-67986df16052",
   "metadata": {},
   "outputs": [
    {
     "data": {
      "text/plain": [
       "france                                                  5659\n",
       "united states of america                                 114\n",
       "united kingdom of great britain and northern ireland      43\n",
       "switzerland                                               14\n",
       "reunion                                                    9\n",
       "germany                                                    7\n",
       "italie                                                     4\n",
       "suisse                                                     4\n",
       "belgique                                                   3\n",
       "belgium                                                    3\n",
       "luxembourg                                                 2\n",
       "espagne                                                    2\n",
       "allemagne                                                  1\n",
       "bermuda                                                    1\n",
       "monaco                                                     1\n",
       "Name: Country Name, dtype: int64"
      ]
     },
     "execution_count": 16,
     "metadata": {},
     "output_type": "execute_result"
    }
   ],
   "source": [
    "df_op[\"Country Name\"].value_counts()"
   ]
  },
  {
   "cell_type": "code",
   "execution_count": 175,
   "id": "dd14a485-5f4a-4d35-bef7-e3cc93bb62c0",
   "metadata": {},
   "outputs": [
    {
     "data": {
      "text/html": [
       "<div>\n",
       "<style scoped>\n",
       "    .dataframe tbody tr th:only-of-type {\n",
       "        vertical-align: middle;\n",
       "    }\n",
       "\n",
       "    .dataframe tbody tr th {\n",
       "        vertical-align: top;\n",
       "    }\n",
       "\n",
       "    .dataframe thead th {\n",
       "        text-align: right;\n",
       "    }\n",
       "</style>\n",
       "<table border=\"1\" class=\"dataframe\">\n",
       "  <thead>\n",
       "    <tr style=\"text-align: right;\">\n",
       "      <th>Country Name</th>\n",
       "      <th>allemagne</th>\n",
       "      <th>belgique</th>\n",
       "      <th>belgium</th>\n",
       "      <th>bermuda</th>\n",
       "      <th>espagne</th>\n",
       "      <th>france</th>\n",
       "      <th>germany</th>\n",
       "      <th>italie</th>\n",
       "      <th>luxembourg</th>\n",
       "      <th>monaco</th>\n",
       "      <th>reunion</th>\n",
       "      <th>suisse</th>\n",
       "      <th>switzerland</th>\n",
       "      <th>united kingdom of great britain and northern ireland</th>\n",
       "      <th>united states of america</th>\n",
       "    </tr>\n",
       "    <tr>\n",
       "      <th>Type</th>\n",
       "      <th></th>\n",
       "      <th></th>\n",
       "      <th></th>\n",
       "      <th></th>\n",
       "      <th></th>\n",
       "      <th></th>\n",
       "      <th></th>\n",
       "      <th></th>\n",
       "      <th></th>\n",
       "      <th></th>\n",
       "      <th></th>\n",
       "      <th></th>\n",
       "      <th></th>\n",
       "      <th></th>\n",
       "      <th></th>\n",
       "    </tr>\n",
       "  </thead>\n",
       "  <tbody>\n",
       "    <tr>\n",
       "      <th>Business Account</th>\n",
       "      <td>1</td>\n",
       "      <td>3</td>\n",
       "      <td>0</td>\n",
       "      <td>0</td>\n",
       "      <td>1</td>\n",
       "      <td>535</td>\n",
       "      <td>0</td>\n",
       "      <td>0</td>\n",
       "      <td>0</td>\n",
       "      <td>1</td>\n",
       "      <td>0</td>\n",
       "      <td>2</td>\n",
       "      <td>0</td>\n",
       "      <td>1</td>\n",
       "      <td>15</td>\n",
       "    </tr>\n",
       "    <tr>\n",
       "      <th>Customer</th>\n",
       "      <td>0</td>\n",
       "      <td>0</td>\n",
       "      <td>3</td>\n",
       "      <td>1</td>\n",
       "      <td>1</td>\n",
       "      <td>5124</td>\n",
       "      <td>7</td>\n",
       "      <td>4</td>\n",
       "      <td>2</td>\n",
       "      <td>0</td>\n",
       "      <td>9</td>\n",
       "      <td>2</td>\n",
       "      <td>14</td>\n",
       "      <td>42</td>\n",
       "      <td>99</td>\n",
       "    </tr>\n",
       "  </tbody>\n",
       "</table>\n",
       "</div>"
      ],
      "text/plain": [
       "Country Name      allemagne  belgique  belgium  bermuda  espagne  france  \\\n",
       "Type                                                                       \n",
       "Business Account          1         3        0        0        1     535   \n",
       "Customer                  0         0        3        1        1    5124   \n",
       "\n",
       "Country Name      germany  italie  luxembourg  monaco  reunion  suisse  \\\n",
       "Type                                                                     \n",
       "Business Account        0       0           0       1        0       2   \n",
       "Customer                7       4           2       0        9       2   \n",
       "\n",
       "Country Name      switzerland  \\\n",
       "Type                            \n",
       "Business Account            0   \n",
       "Customer                   14   \n",
       "\n",
       "Country Name      united kingdom of great britain and northern ireland  \\\n",
       "Type                                                                     \n",
       "Business Account                                                  1      \n",
       "Customer                                                         42      \n",
       "\n",
       "Country Name      united states of america  \n",
       "Type                                        \n",
       "Business Account                        15  \n",
       "Customer                                99  "
      ]
     },
     "execution_count": 175,
     "metadata": {},
     "output_type": "execute_result"
    }
   ],
   "source": [
    "pd.crosstab(df_op[\"Type\"], df_op[\"Country Name\"])"
   ]
  },
  {
   "cell_type": "code",
   "execution_count": 33,
   "id": "63c47434-2dfc-435e-9361-fa5b77f190af",
   "metadata": {},
   "outputs": [
    {
     "data": {
      "text/plain": [
       "13707.645295169947"
      ]
     },
     "execution_count": 33,
     "metadata": {},
     "output_type": "execute_result"
    }
   ],
   "source": [
    "df_op[df_op[\"Type\"] == \"Business Account\"][\"Estimated amount\"].mean()"
   ]
  },
  {
   "cell_type": "code",
   "execution_count": 34,
   "id": "86c99bb9-7e17-4f73-8bee-ae1b01f7a941",
   "metadata": {},
   "outputs": [
    {
     "data": {
      "text/plain": [
       "Type\n",
       "Business Account    13707.645295\n",
       "Customer            23401.106153\n",
       "Name: Estimated amount, dtype: float64"
      ]
     },
     "execution_count": 34,
     "metadata": {},
     "output_type": "execute_result"
    }
   ],
   "source": [
    "df_op.groupby(\"Type\")[\"Estimated amount\"].mean()"
   ]
  },
  {
   "cell_type": "code",
   "execution_count": 153,
   "id": "309026a0-3bec-4902-b2a8-962d164a3ab9",
   "metadata": {},
   "outputs": [
    {
     "data": {
      "text/plain": [
       "119"
      ]
     },
     "execution_count": 153,
     "metadata": {},
     "output_type": "execute_result"
    }
   ],
   "source": [
    "df_op[\"Type\"].isna().sum()"
   ]
  },
  {
   "cell_type": "code",
   "execution_count": 158,
   "id": "1c3d4f30-5e2a-4381-87b7-40c9edfe9325",
   "metadata": {},
   "outputs": [
    {
     "data": {
      "text/plain": [
       "Headquarters           2572\n",
       "Individual              929\n",
       "Foundation              634\n",
       "Regional direction      392\n",
       "State                   206\n",
       "Local Authority         200\n",
       "Agency                   81\n",
       "US - United States       74\n",
       "UK - United Kingdom       8\n",
       "Store                     6\n",
       "European Union            2\n",
       "Name: Class Name, dtype: int64"
      ]
     },
     "execution_count": 158,
     "metadata": {},
     "output_type": "execute_result"
    }
   ],
   "source": [
    "df_op[\"Class Name\"].value_counts()"
   ]
  },
  {
   "cell_type": "code",
   "execution_count": 155,
   "id": "d5b54a10-7b4c-449c-8100-e146a1912509",
   "metadata": {},
   "outputs": [
    {
     "data": {
      "text/plain": [
       "Customer            5308\n",
       "Business Account     559\n",
       "Name: Type, dtype: int64"
      ]
     },
     "execution_count": 155,
     "metadata": {},
     "output_type": "execute_result"
    }
   ],
   "source": [
    "df_op[\"Type\"].value_counts()"
   ]
  },
  {
   "cell_type": "code",
   "execution_count": null,
   "id": "e2026111-b91a-4e99-9743-69065387f7af",
   "metadata": {},
   "outputs": [],
   "source": []
  },
  {
   "cell_type": "markdown",
   "id": "739756b9-2ebf-4ad2-9763-2988578394e6",
   "metadata": {},
   "source": [
    "### Difference and Amount Received by country and city"
   ]
  },
  {
   "cell_type": "markdown",
   "id": "7d3f6a5f-8c93-4754-9023-3c3adb44ee91",
   "metadata": {},
   "source": [
    "- Business Account\n",
    "- ContactID\n",
    "- Country\n",
    "- City"
   ]
  },
  {
   "cell_type": "code",
   "execution_count": 90,
   "id": "d8ea4107-53c9-427b-835c-016c97e21e8e",
   "metadata": {},
   "outputs": [
    {
     "data": {
      "text/plain": [
       "Amount received     3250\n",
       "Estimated amount       0\n",
       "Difference             0\n",
       "dtype: int64"
      ]
     },
     "execution_count": 90,
     "metadata": {},
     "output_type": "execute_result"
    }
   ],
   "source": [
    "df_op[[\"Amount received\", \"Estimated amount\", \"Difference\"]].isna().sum()"
   ]
  },
  {
   "cell_type": "code",
   "execution_count": 179,
   "id": "db529e36-07e2-4f90-8d6f-813193acd08d",
   "metadata": {},
   "outputs": [
    {
     "data": {
      "text/plain": [
       "10000.00    159\n",
       "5000.00     139\n",
       "3000.00     104\n",
       "1000.00      87\n",
       "8000.00      82\n",
       "           ... \n",
       "31699.17      1\n",
       "4737.59       1\n",
       "2800.75       1\n",
       "491.00        1\n",
       "2692.91       1\n",
       "Name: Amount received, Length: 945, dtype: int64"
      ]
     },
     "execution_count": 179,
     "metadata": {},
     "output_type": "execute_result"
    }
   ],
   "source": [
    "df_op[\"Amount received\"].value_counts()"
   ]
  },
  {
   "cell_type": "code",
   "execution_count": 17,
   "id": "546b7b12-bab6-4b3b-abfc-ef2e922f6c59",
   "metadata": {},
   "outputs": [
    {
     "data": {
      "text/plain": [
       "3250"
      ]
     },
     "execution_count": 17,
     "metadata": {},
     "output_type": "execute_result"
    }
   ],
   "source": [
    "df_op[\"Amount received\"].isna().sum()"
   ]
  },
  {
   "cell_type": "code",
   "execution_count": 18,
   "id": "0f88e124-973f-45dd-b709-72a93572b515",
   "metadata": {},
   "outputs": [],
   "source": [
    "train_df = df_op[df_op[\"Amount received\"].notna()].copy()"
   ]
  },
  {
   "cell_type": "code",
   "execution_count": 19,
   "id": "c6f1552a-167d-47d6-82d2-fd58cffaef95",
   "metadata": {},
   "outputs": [
    {
     "data": {
      "text/plain": [
       "0"
      ]
     },
     "execution_count": 19,
     "metadata": {},
     "output_type": "execute_result"
    }
   ],
   "source": [
    "train_df[\"Amount received\"].isna().sum()"
   ]
  },
  {
   "cell_type": "code",
   "execution_count": 22,
   "id": "50da2f9f-ce33-4059-ad40-b16fa23dfefd",
   "metadata": {},
   "outputs": [],
   "source": [
    "train_df[\"Diff_perc\"] = train_df[\"Difference\"] / train_df[\"Amount received\"]\n",
    "train_df[\"Diff_perc\"] = train_df[\"Diff_perc\"].replace(np.inf,np.nan).replace(-np.inf, np.nan)\n",
    "train_df = train_df[train_df[\"Diff_perc\"].isna()]"
   ]
  },
  {
   "cell_type": "code",
   "execution_count": 39,
   "id": "c7ab79e9-1322-45a7-899e-7b3848dbd6e9",
   "metadata": {},
   "outputs": [
    {
     "data": {
      "text/plain": [
       "Opportunity ID                                        int64\n",
       "Business Account                                     object\n",
       "Contact ID                                          float64\n",
       "Estimated Close Date                         datetime64[ns]\n",
       "Status                                               object\n",
       "Stage                                                object\n",
       "Probability                                           int64\n",
       "Estimated amount                                    float64\n",
       "Amount received                                     float64\n",
       "Difference                                          float64\n",
       "Owner Name_x                                        float64\n",
       "Follow-up with_x                                    float64\n",
       "Class ID                                             object\n",
       "Class_x                                              object\n",
       "Source                                               object\n",
       "Source Campaign                                     float64\n",
       "Campaign Name                                        object\n",
       "Programme financé                                    object\n",
       "Action financée                                      object\n",
       "Agreement                                            object\n",
       "Signature date of the agreement              datetime64[ns]\n",
       "Agreement expiry date                        datetime64[ns]\n",
       "Duration of agreement (months)                       object\n",
       "Deadline for submission of interim report    datetime64[ns]\n",
       "Final report deadline                        datetime64[ns]\n",
       "Type de contrat                                      object\n",
       "Type de financement                                  object\n",
       "Zone SDLV                                            object\n",
       "Theorical payment date 1                     datetime64[ns]\n",
       "Theorical payment amount 1                           object\n",
       "Theorical payment date 2                     datetime64[ns]\n",
       "Theorical payment amount 2                           object\n",
       "Theorical payment date 3                     datetime64[ns]\n",
       "Theorical payment amount 3                           object\n",
       "Theorical payment date 4                     datetime64[ns]\n",
       "Theorical payment amount 4                           object\n",
       "Theorical payment date 5                     datetime64[ns]\n",
       "Theorical payment amount 5                           object\n",
       "Created On_x                                 datetime64[ns]\n",
       "Last Modified Date                           datetime64[ns]\n",
       "Actual Close Date                            datetime64[ns]\n",
       "Assignment Date                              datetime64[ns]\n",
       "Branch ID                                            object\n",
       "Customer Status                                      object\n",
       "Type                                                 object\n",
       "Partner type                                         object\n",
       "Class_y                                              object\n",
       "Class Name                                           object\n",
       "Activity sector                                      object\n",
       "Parent Business Account                              object\n",
       "Owner Name_y                                        float64\n",
       "Follow-up with_y                                    float64\n",
       "Postal Code                                          object\n",
       "City                                                 object\n",
       "State                                                object\n",
       "Country ID                                           object\n",
       "Country Name                                         object\n",
       "Created On_y                                 datetime64[ns]\n",
       "Last Modified On                             datetime64[ns]\n",
       "Diff_perc                                           float64\n",
       "dtype: object"
      ]
     },
     "execution_count": 39,
     "metadata": {},
     "output_type": "execute_result"
    }
   ],
   "source": [
    "train_df.dtypes"
   ]
  },
  {
   "cell_type": "code",
   "execution_count": 149,
   "id": "67375bb8-472d-4722-8553-a4eca2b291e5",
   "metadata": {},
   "outputs": [
    {
     "data": {
      "text/plain": [
       "101"
      ]
     },
     "execution_count": 149,
     "metadata": {},
     "output_type": "execute_result"
    }
   ],
   "source": [
    "df_op_fr[\"City\"].isna().sum()"
   ]
  },
  {
   "cell_type": "code",
   "execution_count": 108,
   "id": "ea1f3931-6b69-496c-957a-6a3fb2722240",
   "metadata": {},
   "outputs": [
    {
     "data": {
      "text/plain": [
       "<AxesSubplot:title={'center':'Difference by Country'}, xlabel='Country ID'>"
      ]
     },
     "execution_count": 108,
     "metadata": {},
     "output_type": "execute_result"
    },
    {
     "data": {
      "image/png": "[encoded data removed]",
      "text/plain": [
       "<Figure size 864x576 with 2 Axes>"
      ]
     },
     "metadata": {
      "needs_background": "light"
     },
     "output_type": "display_data"
    }
   ],
   "source": [
    "fig, ax = plt.subplots(ncols=2, figsize=(12,8))\n",
    "df.groupby(\"Country ID\")[\"Amount received\"].sum().plot(kind=\"bar\", title=\"Amount Received by country\", ax=ax[0])\n",
    "df.groupby(\"Country ID\")[\"Difference\"].mean().plot(kind=\"bar\", title=\"Difference by Country\", ax=ax[1])\n"
   ]
  },
  {
   "cell_type": "code",
   "execution_count": 103,
   "id": "9ac1d947-d4a8-45d2-9cb8-d52215ff8092",
   "metadata": {},
   "outputs": [
    {
     "data": {
      "text/plain": [
       "<AxesSubplot:title={'center':'By Class'}, xlabel='Class'>"
      ]
     },
     "execution_count": 103,
     "metadata": {},
     "output_type": "execute_result"
    },
    {
     "data": {
      "image/png": "[encoded data removed]",
      "text/plain": [
       "<Figure size 432x288 with 1 Axes>"
      ]
     },
     "metadata": {
      "needs_background": "light"
     },
     "output_type": "display_data"
    }
   ],
   "source": [
    "df_op.groupby(\"Class\")[\"Amount received\"].sum().plot(kind=\"bar\", title=\"By Class\")"
   ]
  },
  {
   "cell_type": "code",
   "execution_count": 104,
   "id": "f52f708b-f3af-4d60-9c4c-1a4b62812af6",
   "metadata": {},
   "outputs": [
    {
     "data": {
      "text/plain": [
       "<AxesSubplot:title={'center':'By Class'}, xlabel='Class ID'>"
      ]
     },
     "execution_count": 104,
     "metadata": {},
     "output_type": "execute_result"
    },
    {
     "data": {
      "image/png": "[encoded data removed]",
      "text/plain": [
       "<Figure size 432x288 with 1 Axes>"
      ]
     },
     "metadata": {
      "needs_background": "light"
     },
     "output_type": "display_data"
    }
   ],
   "source": [
    "df_op.groupby(\"Class ID\")[\"Amount received\"].sum().plot(kind=\"bar\", title=\"By Class\")"
   ]
  },
  {
   "cell_type": "code",
   "execution_count": null,
   "id": "4939bfa2-8902-4359-809b-48a57500e0de",
   "metadata": {},
   "outputs": [],
   "source": [
    "df_op.groupby(\"Class ID\")[\"Difference\"]"
   ]
  },
  {
   "cell_type": "markdown",
   "id": "5d07fdaf-c3ec-4112-a5a0-2f5483528ec5",
   "metadata": {},
   "source": [
    "# Where estimates go wrong"
   ]
  },
  {
   "cell_type": "code",
   "execution_count": null,
   "id": "3b3ea83c-6660-472a-86b3-4b50bacf25f8",
   "metadata": {},
   "outputs": [],
   "source": [
    "df[\"Difference\"]"
   ]
  },
  {
   "cell_type": "markdown",
   "id": "677185f0-f713-4d0d-9806-6465e27354c7",
   "metadata": {},
   "source": [
    "# Relevant cols\n",
    "- training set is data\n"
   ]
  },
  {
   "cell_type": "code",
   "execution_count": 70,
   "id": "152a719b-655b-4c5d-ad9d-6945cf8054c7",
   "metadata": {},
   "outputs": [
    {
     "data": {
      "text/plain": [
       "0"
      ]
     },
     "execution_count": 70,
     "metadata": {},
     "output_type": "execute_result"
    }
   ],
   "source": [
    "df[\"Difference\"].isna().sum()"
   ]
  },
  {
   "cell_type": "code",
   "execution_count": 68,
   "id": "e7efe014-4a1c-46cb-8aeb-a9a4f441bf86",
   "metadata": {},
   "outputs": [
    {
     "data": {
      "text/plain": [
       "4754"
      ]
     },
     "execution_count": 68,
     "metadata": {},
     "output_type": "execute_result"
    }
   ],
   "source": [
    "cols = [\"Class_x\", ]"
   ]
  },
  {
   "cell_type": "code",
   "execution_count": 77,
   "id": "a3587239-07a9-426a-8ded-1d68fbe34e15",
   "metadata": {},
   "outputs": [
    {
     "data": {
      "text/plain": [
       "<AxesSubplot:>"
      ]
     },
     "execution_count": 77,
     "metadata": {},
     "output_type": "execute_result"
    },
    {
     "data": {
      "image/png": "[encoded data removed]",
      "text/plain": [
       "<Figure size 432x288 with 1 Axes>"
      ]
     },
     "metadata": {
      "needs_background": "light"
     },
     "output_type": "display_data"
    }
   ],
   "source": [
    "df[\"log_amount_received\"] = np.log(1+df[\"Amount received\"]).hist()"
   ]
  },
  {
   "cell_type": "code",
   "execution_count": 78,
   "id": "0e964102-6759-4679-84f3-03d8a262b07b",
   "metadata": {},
   "outputs": [
    {
     "data": {
      "text/plain": [
       "<AxesSubplot:>"
      ]
     },
     "execution_count": 78,
     "metadata": {},
     "output_type": "execute_result"
    },
    {
     "data": {
      "image/png": "[encoded data removed]",
      "text/plain": [
       "<Figure size 432x288 with 1 Axes>"
      ]
     },
     "metadata": {
      "needs_background": "light"
     },
     "output_type": "display_data"
    }
   ],
   "source": [
    "df[\"Difference\"]"
   ]
  },
  {
   "cell_type": "code",
   "execution_count": 246,
   "id": "ce179e51-a3e3-4fc2-bae6-04735f56f22a",
   "metadata": {},
   "outputs": [
    {
     "data": {
      "text/plain": [
       "Index(['Opportunity ID', 'Business Account', 'Contact ID', 'Status', 'Stage',\n",
       "       'Probability', 'Estimated amount', 'Amount received', 'Difference',\n",
       "       'Owner Name', 'Follow-up with', 'Class ID', 'Class', 'Source',\n",
       "       'Source Campaign', 'Campaign Name', 'Programme financé',\n",
       "       'Action financée', 'Agreement', 'Duration of agreement (months)',\n",
       "       'Type de contrat', 'Type de financement', 'Zone SDLV',\n",
       "       'Theorical payment amount 1', 'Theorical payment amount 2',\n",
       "       'Theorical payment amount 3', 'Theorical payment amount 4',\n",
       "       'Theorical payment amount 5', 'Branch ID', 'Estimated Close Date_year',\n",
       "       'Estimated Close Date_month', 'Estimated Close Date_day',\n",
       "       'Signature date of the agreement_year',\n",
       "       'Signature date of the agreement_month',\n",
       "       'Signature date of the agreement_day', 'Agreement expiry date_year',\n",
       "       'Agreement expiry date_month', 'Agreement expiry date_day',\n",
       "       'Deadline for submission of interim report_year',\n",
       "       'Deadline for submission of interim report_month',\n",
       "       'Deadline for submission of interim report_day',\n",
       "       'Final report deadline_year', 'Final report deadline_month',\n",
       "       'Final report deadline_day', 'Theorical payment date 1_year',\n",
       "       'Theorical payment date 1_month', 'Theorical payment date 1_day',\n",
       "       'Theorical payment date 2_year', 'Theorical payment date 2_month',\n",
       "       'Theorical payment date 2_day', 'Theorical payment date 3_year',\n",
       "       'Theorical payment date 3_month', 'Theorical payment date 3_day',\n",
       "       'Theorical payment date 4_year', 'Theorical payment date 4_month',\n",
       "       'Theorical payment date 4_day', 'Theorical payment date 5_year',\n",
       "       'Theorical payment date 5_month', 'Theorical payment date 5_day',\n",
       "       'Created On_year', 'Created On_month', 'Created On_day',\n",
       "       'Last Modified Date_year', 'Last Modified Date_month',\n",
       "       'Last Modified Date_day', 'Actual Close Date_year',\n",
       "       'Actual Close Date_month', 'Actual Close Date_day',\n",
       "       'Assignment Date_year', 'Assignment Date_month', 'Assignment Date_day'],\n",
       "      dtype='object')"
      ]
     },
     "execution_count": 246,
     "metadata": {},
     "output_type": "execute_result"
    }
   ],
   "source": [
    "df_op.columns"
   ]
  },
  {
   "cell_type": "markdown",
   "id": "95d3d3e1-a25b-47ee-a172-199b6024c30e",
   "metadata": {},
   "source": [
    "# Modelling"
   ]
  },
  {
   "cell_type": "code",
   "execution_count": 218,
   "id": "3dc0b70e-c74a-4434-9c45-b8c72a13f36a",
   "metadata": {},
   "outputs": [],
   "source": [
    "docs = ['consumer_price_index.xlsx',\n",
    "         'Items and Opportunities.xlsx',\n",
    "         'Invoice and Opportunities.xlsx',\n",
    "         'Business Account.xlsx',\n",
    "         'Opportunities.xlsx',\n",
    "         'Non-Stock Items.xlsx',\n",
    "         'Contacts.xlsx']\n",
    "\n",
    "def load_and_join_data(docs):\n",
    "    data = {}\n",
    "    for doc in docs:\n",
    "        try:\n",
    "            data[doc] = pd.read_excel(f\"data/shared_data_read_only/{doc}\")\n",
    "        except:\n",
    "            continue\n",
    "    data[\"Opportunities.xlsx\"].rename(columns={\"Contact ID\": \"ContactID\"}, inplace=True)\n",
    "    df = data[\"Opportunities.xlsx\"].merge(data[\"Business Account.xlsx\"], on=\"Business Account\", how=\"left\")\n",
    "    all_opportunities = data[\"Items and Opportunities.xlsx\"].merge(data[\"Invoice and Opportunities.xlsx\"], on=\"Opportunity ID\")\n",
    "    all_opportunities = all_opportunities.merge(data[\"Non-Stock Items.xlsx\"], on=\"Inventory ID\")\n",
    "    df = df.merge(data[\"Contacts.xlsx\"], on=\"ContactID\", how=\"left\")\n",
    "    df = df.merge(all_opportunities, on='Opportunity ID', how=\"left\")\n",
    "    df.drop(columns=df.filter(regex=\"_y\").columns, inplace=True)\n",
    "    df.columns = df.columns.str.replace('_x', '')    \n",
    "    return df\n",
    "\n",
    "df = load_and_join_data(docs)"
   ]
  },
  {
   "cell_type": "code",
   "execution_count": 219,
   "id": "ee3b7aee-c6c3-43a1-a403-e0b4542ac9a8",
   "metadata": {},
   "outputs": [],
   "source": [
    "df = df.loc[:, ~df.columns.duplicated(keep='first')]"
   ]
  },
  {
   "cell_type": "code",
   "execution_count": 220,
   "id": "fc5379df-04f0-42fb-8fb4-6f0444f4892e",
   "metadata": {},
   "outputs": [],
   "source": [
    "df[\"Target\"] = (1- df[\"Amount received\"]/df[\"Estimated amount\"]).replace(np.inf, np.nan).replace(-np.inf, np.nan)"
   ]
  },
  {
   "cell_type": "code",
   "execution_count": 221,
   "id": "19500754-fc3b-432a-854b-3957ed1a829e",
   "metadata": {},
   "outputs": [],
   "source": [
    "df = df[df[\"Target\"].notna()].drop(columns=[\"Amount received\", \"Difference\", \"Amount\"])\n"
   ]
  },
  {
   "cell_type": "code",
   "execution_count": 222,
   "id": "bcdd4694-8c4b-44d3-840b-f20dc29688f7",
   "metadata": {},
   "outputs": [
    {
     "data": {
      "text/plain": [
       "23"
      ]
     },
     "execution_count": 222,
     "metadata": {},
     "output_type": "execute_result"
    }
   ],
   "source": [
    "df[\"Country Name\"].isna().sum()"
   ]
  },
  {
   "cell_type": "code",
   "execution_count": 223,
   "id": "9a1eedcc-9045-4d62-8d6e-b60337be466d",
   "metadata": {},
   "outputs": [],
   "source": [
    "to_drop = pd.Series([\n",
    "    'Opportunity ID', \"Probability\", \"State\"\n",
    "    'Signature date of the agreement', \"Status\",\n",
    "   'Agreement expiry date', 'Deadline for submission of interim report',\n",
    "   'Final report deadline', 'Theorical payment date 1',\n",
    "   'Theorical payment date 2', 'Theorical payment date 3', 'Created On'\n",
    "   'Theorical payment date 4', 'Theorical payment date 5','Assignment Date',\n",
    "   'Created On_y', 'Last Modified On', 'Last Modified Date', 'Last Modified On',\n",
    "    'Theorical payment amount 2', 'Theorical payment amount 3',\n",
    "    'Theorical payment amount 4', 'Theorical payment amount 5', \"Item Status\", \"Currency\"])\n",
    "\n",
    "df = df.drop(columns=to_drop[to_drop.isin(df.columns)])\n",
    "\n",
    "most_nans = (df.isna().sum() > 3000)\n",
    "nans = most_nans[most_nans].index\n",
    "df = df.drop(columns=nans)"
   ]
  },
  {
   "cell_type": "code",
   "execution_count": 224,
   "id": "94b9dd68-7f72-4fb9-8105-a761e157ce9a",
   "metadata": {},
   "outputs": [
    {
     "data": {
      "text/plain": [
       "Business Account           0\n",
       "ContactID               1747\n",
       "Estimated Close Date       0\n",
       "Stage                      0\n",
       "Estimated amount           0\n",
       "Owner Name                19\n",
       "Class ID                   0\n",
       "Class                      0\n",
       "Programme financé       2409\n",
       "Agreement               2563\n",
       "Type de financement     2572\n",
       "Zone SDLV               2571\n",
       "Created On                 0\n",
       "Actual Close Date        873\n",
       "Branch ID                  0\n",
       "Customer Status           23\n",
       "Type                      23\n",
       "Partner type             490\n",
       "Class Name               602\n",
       "Activity sector          856\n",
       "Postal Code               45\n",
       "City                      65\n",
       "Country ID                23\n",
       "Country Name              23\n",
       "Active                  1747\n",
       "Owner                   2106\n",
       "Code pays               1747\n",
       "Line Nbr.                  1\n",
       "Inventory ID               1\n",
       "Year                     861\n",
       "Unit Price                 1\n",
       "Quantity                   1\n",
       "UOM                       15\n",
       "Ext. Price                 1\n",
       "Discount Amount            1\n",
       "Discount, %                1\n",
       "Funded Program           899\n",
       "Free Item                  1\n",
       "Tax Category               1\n",
       "Reference Nbr.             1\n",
       "Customer                   1\n",
       "Date                       1\n",
       "Description EN             1\n",
       "Posting Class              1\n",
       "Base Unit                  1\n",
       "Default Price              1\n",
       "Target                     0\n",
       "dtype: int64"
      ]
     },
     "execution_count": 224,
     "metadata": {},
     "output_type": "execute_result"
    }
   ],
   "source": [
    "df.isna().sum()"
   ]
  },
  {
   "cell_type": "code",
   "execution_count": 225,
   "id": "903a90e9-f48b-4d28-8177-550425726064",
   "metadata": {},
   "outputs": [],
   "source": [
    "def clean_city_name(city):\n",
    "    city = city.capitalize()\n",
    "    city = city.replace(\"-\", \" \")\n",
    "    city = city.replace(\"CEDEX\", \"\")\n",
    "    city = re.sub(r\"\\d\", \"\", city)\n",
    "    city = city.replace(\"‘\", \"\")\n",
    "    city = city.strip()\n",
    "    return city\n",
    "\n",
    "def _encode_dates(X, colname_):\n",
    "    # Encode the date information from the DateOfDeparture columns\n",
    "    X.loc[:, f\"{colname_}_year\"] = X[f\"{colname_}\"].dt.year\n",
    "    X.loc[:, f\"{colname_}_month\"] = X[f\"{colname_}\"].dt.month\n",
    "    X.loc[:, f\"{colname_}_day\"] = X[f\"{colname_}\"].dt.day\n",
    "    # X.loc[:, f\"{colname_}_weekday\"] = X[f\"{colname_}\"].dt.weekday\n",
    "\n",
    "    # Finally we can drop the original columns from the dataframe\n",
    "    return X.drop(columns=colname_)\n",
    "\n",
    "def replace_infrequent_values(series, threshold=3, replacement='Other'):\n",
    "    # Count the occurrences of each value in the Series\n",
    "    value_counts = series.value_counts()\n",
    "\n",
    "    # Get a list of values that occur less than the threshold\n",
    "    infrequent_values = value_counts[value_counts < threshold].index\n",
    "\n",
    "    # Replace infrequent values with the specified replacement\n",
    "    series = series.apply(lambda x: replacement if x in infrequent_values else x)\n",
    "\n",
    "    return series\n",
    "\n"
   ]
  },
  {
   "cell_type": "code",
   "execution_count": 226,
   "id": "732fe612-e097-47d3-9574-525fc02771f1",
   "metadata": {},
   "outputs": [],
   "source": [
    "df[\"City\"] = df[\"City\"].astype(str).apply(clean_city_name)\n",
    "datecols = df.select_dtypes(include=\"datetime\").columns\n",
    "for col in datecols:\n",
    "    df = _encode_dates(df, col)\n",
    "df[\"Country Name\"] = replace_infrequent_values(df[\"Country Name\"], threshold=12)\n",
    "df[\"Description EN\"] = replace_infrequent_values(df[\"Description EN\"], threshold=20)"
   ]
  },
  {
   "cell_type": "code",
   "execution_count": 227,
   "id": "ead157b0-148d-4905-880c-d0d294425a78",
   "metadata": {},
   "outputs": [
    {
     "data": {
      "text/plain": [
       "<AxesSubplot:>"
      ]
     },
     "execution_count": 227,
     "metadata": {},
     "output_type": "execute_result"
    },
    {
     "data": {
      "image/png": "[encoded data removed]",
      "text/plain": [
       "<Figure size 432x288 with 1 Axes>"
      ]
     },
     "metadata": {
      "needs_background": "light"
     },
     "output_type": "display_data"
    }
   ],
   "source": [
    "df[\"Target\"].hist()"
   ]
  },
  {
   "cell_type": "code",
   "execution_count": 228,
   "id": "36da3315-0a16-4be3-bba7-8862c6a12014",
   "metadata": {},
   "outputs": [
    {
     "data": {
      "text/plain": [
       "Index(['Business Account', 'ContactID', 'Stage', 'Estimated amount',\n",
       "       'Owner Name', 'Class ID', 'Class', 'Programme financé', 'Agreement',\n",
       "       'Type de financement', 'Zone SDLV', 'Branch ID', 'Customer Status',\n",
       "       'Type', 'Partner type', 'Class Name', 'Activity sector', 'Postal Code',\n",
       "       'City', 'Country ID', 'Country Name', 'Active', 'Owner', 'Code pays',\n",
       "       'Line Nbr.', 'Inventory ID', 'Year', 'Unit Price', 'Quantity', 'UOM',\n",
       "       'Ext. Price', 'Discount Amount', 'Discount, %', 'Funded Program',\n",
       "       'Free Item', 'Tax Category', 'Reference Nbr.', 'Customer',\n",
       "       'Description EN', 'Posting Class', 'Base Unit', 'Default Price',\n",
       "       'Target', 'Estimated Close Date_year', 'Estimated Close Date_month',\n",
       "       'Estimated Close Date_day', 'Created On_year', 'Created On_month',\n",
       "       'Created On_day', 'Actual Close Date_year', 'Actual Close Date_month',\n",
       "       'Actual Close Date_day', 'Date_year', 'Date_month', 'Date_day'],\n",
       "      dtype='object')"
      ]
     },
     "execution_count": 228,
     "metadata": {},
     "output_type": "execute_result"
    }
   ],
   "source": [
    "df.columns"
   ]
  },
  {
   "cell_type": "code",
   "execution_count": 229,
   "id": "8dc44adf-0c55-4a02-9383-cf371f27fd61",
   "metadata": {},
   "outputs": [
    {
     "data": {
      "text/html": [
       "<div>\n",
       "<style scoped>\n",
       "    .dataframe tbody tr th:only-of-type {\n",
       "        vertical-align: middle;\n",
       "    }\n",
       "\n",
       "    .dataframe tbody tr th {\n",
       "        vertical-align: top;\n",
       "    }\n",
       "\n",
       "    .dataframe thead th {\n",
       "        text-align: right;\n",
       "    }\n",
       "</style>\n",
       "<table border=\"1\" class=\"dataframe\">\n",
       "  <thead>\n",
       "    <tr style=\"text-align: right;\">\n",
       "      <th></th>\n",
       "      <th>Business Account</th>\n",
       "      <th>Stage</th>\n",
       "      <th>Class ID</th>\n",
       "      <th>Class</th>\n",
       "      <th>Programme financé</th>\n",
       "      <th>Agreement</th>\n",
       "      <th>Type de financement</th>\n",
       "      <th>Zone SDLV</th>\n",
       "      <th>Branch ID</th>\n",
       "      <th>Customer Status</th>\n",
       "      <th>...</th>\n",
       "      <th>Inventory ID</th>\n",
       "      <th>UOM</th>\n",
       "      <th>Funded Program</th>\n",
       "      <th>Free Item</th>\n",
       "      <th>Tax Category</th>\n",
       "      <th>Reference Nbr.</th>\n",
       "      <th>Customer</th>\n",
       "      <th>Description EN</th>\n",
       "      <th>Posting Class</th>\n",
       "      <th>Base Unit</th>\n",
       "    </tr>\n",
       "  </thead>\n",
       "  <tbody>\n",
       "    <tr>\n",
       "      <th>146</th>\n",
       "      <td>C00137</td>\n",
       "      <td>Oral agreement</td>\n",
       "      <td>CAMP TER</td>\n",
       "      <td>Campus - Field</td>\n",
       "      <td>NaN</td>\n",
       "      <td>NaN</td>\n",
       "      <td>NaN</td>\n",
       "      <td>NaN</td>\n",
       "      <td>SDLV</td>\n",
       "      <td>Active</td>\n",
       "      <td>...</td>\n",
       "      <td>CAMP023</td>\n",
       "      <td>HEURE</td>\n",
       "      <td>NaN</td>\n",
       "      <td>False</td>\n",
       "      <td>TVA 20</td>\n",
       "      <td>FC0004543</td>\n",
       "      <td>C00137</td>\n",
       "      <td>Soccer pitch rental</td>\n",
       "      <td>CAMPUS</td>\n",
       "      <td>HEURE</td>\n",
       "    </tr>\n",
       "    <tr>\n",
       "      <th>166</th>\n",
       "      <td>C13140</td>\n",
       "      <td>Oral agreement</td>\n",
       "      <td>CAMP TER</td>\n",
       "      <td>Campus - Field</td>\n",
       "      <td>NaN</td>\n",
       "      <td>NaN</td>\n",
       "      <td>NaN</td>\n",
       "      <td>NaN</td>\n",
       "      <td>SDLV</td>\n",
       "      <td>Active</td>\n",
       "      <td>...</td>\n",
       "      <td>CAMP023</td>\n",
       "      <td>HEURE</td>\n",
       "      <td>NaN</td>\n",
       "      <td>False</td>\n",
       "      <td>TVA 20</td>\n",
       "      <td>FC0004530</td>\n",
       "      <td>C13140</td>\n",
       "      <td>Soccer pitch rental</td>\n",
       "      <td>CAMPUS</td>\n",
       "      <td>HEURE</td>\n",
       "    </tr>\n",
       "    <tr>\n",
       "      <th>167</th>\n",
       "      <td>C13140</td>\n",
       "      <td>Oral agreement</td>\n",
       "      <td>CAMP TER</td>\n",
       "      <td>Campus - Field</td>\n",
       "      <td>NaN</td>\n",
       "      <td>NaN</td>\n",
       "      <td>NaN</td>\n",
       "      <td>NaN</td>\n",
       "      <td>SDLV</td>\n",
       "      <td>Active</td>\n",
       "      <td>...</td>\n",
       "      <td>CAMP023</td>\n",
       "      <td>HEURE</td>\n",
       "      <td>NaN</td>\n",
       "      <td>False</td>\n",
       "      <td>TVA 20</td>\n",
       "      <td>FC0004529</td>\n",
       "      <td>C13140</td>\n",
       "      <td>Soccer pitch rental</td>\n",
       "      <td>CAMPUS</td>\n",
       "      <td>HEURE</td>\n",
       "    </tr>\n",
       "    <tr>\n",
       "      <th>212</th>\n",
       "      <td>C00094</td>\n",
       "      <td>Won</td>\n",
       "      <td>PPRIV EVNT</td>\n",
       "      <td>Private partnership - Event</td>\n",
       "      <td>NaN</td>\n",
       "      <td>NaN</td>\n",
       "      <td>NaN</td>\n",
       "      <td>NaN</td>\n",
       "      <td>SDLV</td>\n",
       "      <td>Active</td>\n",
       "      <td>...</td>\n",
       "      <td>EVEN001</td>\n",
       "      <td>PIECE</td>\n",
       "      <td>Non specified</td>\n",
       "      <td>False</td>\n",
       "      <td>TVA0</td>\n",
       "      <td>FC0004533</td>\n",
       "      <td>C00094</td>\n",
       "      <td>Gala table Lyon</td>\n",
       "      <td>EVENT</td>\n",
       "      <td>PIECE</td>\n",
       "    </tr>\n",
       "    <tr>\n",
       "      <th>259</th>\n",
       "      <td>C21171</td>\n",
       "      <td>Won</td>\n",
       "      <td>PPRIV MEC</td>\n",
       "      <td>Private partnership - Patronage</td>\n",
       "      <td>Non fléché</td>\n",
       "      <td>False</td>\n",
       "      <td>Fonctionnement</td>\n",
       "      <td>National</td>\n",
       "      <td>SDLV</td>\n",
       "      <td>NaN</td>\n",
       "      <td>...</td>\n",
       "      <td>MECENAT</td>\n",
       "      <td>PIECE</td>\n",
       "      <td>Non specified</td>\n",
       "      <td>False</td>\n",
       "      <td>TVA0</td>\n",
       "      <td>FC0004511</td>\n",
       "      <td>C21171</td>\n",
       "      <td>Sponsorship</td>\n",
       "      <td>MECENAT</td>\n",
       "      <td>PIECE</td>\n",
       "    </tr>\n",
       "    <tr>\n",
       "      <th>...</th>\n",
       "      <td>...</td>\n",
       "      <td>...</td>\n",
       "      <td>...</td>\n",
       "      <td>...</td>\n",
       "      <td>...</td>\n",
       "      <td>...</td>\n",
       "      <td>...</td>\n",
       "      <td>...</td>\n",
       "      <td>...</td>\n",
       "      <td>...</td>\n",
       "      <td>...</td>\n",
       "      <td>...</td>\n",
       "      <td>...</td>\n",
       "      <td>...</td>\n",
       "      <td>...</td>\n",
       "      <td>...</td>\n",
       "      <td>...</td>\n",
       "      <td>...</td>\n",
       "      <td>...</td>\n",
       "      <td>...</td>\n",
       "      <td>...</td>\n",
       "    </tr>\n",
       "    <tr>\n",
       "      <th>8013</th>\n",
       "      <td>C00036</td>\n",
       "      <td>Won</td>\n",
       "      <td>PPRIV MEC</td>\n",
       "      <td>Private partnership - Patronage</td>\n",
       "      <td>Job dans la Ville</td>\n",
       "      <td>True</td>\n",
       "      <td>Fonctionnement</td>\n",
       "      <td>National</td>\n",
       "      <td>SDLV</td>\n",
       "      <td>Active</td>\n",
       "      <td>...</td>\n",
       "      <td>MECENAT</td>\n",
       "      <td>PIECE</td>\n",
       "      <td>Job dans la Ville</td>\n",
       "      <td>False</td>\n",
       "      <td>0</td>\n",
       "      <td>FC0000204</td>\n",
       "      <td>C00036</td>\n",
       "      <td>Sponsorship</td>\n",
       "      <td>MECENAT</td>\n",
       "      <td>PIECE</td>\n",
       "    </tr>\n",
       "    <tr>\n",
       "      <th>8014</th>\n",
       "      <td>C00036</td>\n",
       "      <td>Won</td>\n",
       "      <td>PPRIV MEC</td>\n",
       "      <td>Private partnership - Patronage</td>\n",
       "      <td>Job dans la Ville</td>\n",
       "      <td>True</td>\n",
       "      <td>Fonctionnement</td>\n",
       "      <td>National</td>\n",
       "      <td>SDLV</td>\n",
       "      <td>Active</td>\n",
       "      <td>...</td>\n",
       "      <td>MECENAT</td>\n",
       "      <td>PIECE</td>\n",
       "      <td>Job dans la Ville</td>\n",
       "      <td>False</td>\n",
       "      <td>TVA0</td>\n",
       "      <td>FC0000304</td>\n",
       "      <td>C00036</td>\n",
       "      <td>Sponsorship</td>\n",
       "      <td>MECENAT</td>\n",
       "      <td>PIECE</td>\n",
       "    </tr>\n",
       "    <tr>\n",
       "      <th>8015</th>\n",
       "      <td>C00036</td>\n",
       "      <td>Won</td>\n",
       "      <td>PPRIV MEC</td>\n",
       "      <td>Private partnership - Patronage</td>\n",
       "      <td>Job dans la Ville</td>\n",
       "      <td>True</td>\n",
       "      <td>Fonctionnement</td>\n",
       "      <td>National</td>\n",
       "      <td>SDLV</td>\n",
       "      <td>Active</td>\n",
       "      <td>...</td>\n",
       "      <td>MECENAT</td>\n",
       "      <td>PIECE</td>\n",
       "      <td>Job dans la Ville</td>\n",
       "      <td>False</td>\n",
       "      <td>TVA0</td>\n",
       "      <td>FC0000205</td>\n",
       "      <td>C00036</td>\n",
       "      <td>Sponsorship</td>\n",
       "      <td>MECENAT</td>\n",
       "      <td>PIECE</td>\n",
       "    </tr>\n",
       "    <tr>\n",
       "      <th>8016</th>\n",
       "      <td>C00036</td>\n",
       "      <td>Won</td>\n",
       "      <td>PPRIV MEC</td>\n",
       "      <td>Private partnership - Patronage</td>\n",
       "      <td>Job dans la Ville</td>\n",
       "      <td>True</td>\n",
       "      <td>Fonctionnement</td>\n",
       "      <td>National</td>\n",
       "      <td>SDLV</td>\n",
       "      <td>Active</td>\n",
       "      <td>...</td>\n",
       "      <td>MECENAT</td>\n",
       "      <td>PIECE</td>\n",
       "      <td>Job dans la Ville</td>\n",
       "      <td>False</td>\n",
       "      <td>TVA0</td>\n",
       "      <td>FC0000204</td>\n",
       "      <td>C00036</td>\n",
       "      <td>Sponsorship</td>\n",
       "      <td>MECENAT</td>\n",
       "      <td>PIECE</td>\n",
       "    </tr>\n",
       "    <tr>\n",
       "      <th>8018</th>\n",
       "      <td>C00024</td>\n",
       "      <td>Won</td>\n",
       "      <td>PPRIV MEC</td>\n",
       "      <td>Private partnership - Patronage</td>\n",
       "      <td>Job dans la Ville</td>\n",
       "      <td>True</td>\n",
       "      <td>Fonctionnement</td>\n",
       "      <td>National</td>\n",
       "      <td>SDLV</td>\n",
       "      <td>Active</td>\n",
       "      <td>...</td>\n",
       "      <td>MECENAT</td>\n",
       "      <td>PIECE</td>\n",
       "      <td>Non specified</td>\n",
       "      <td>False</td>\n",
       "      <td>0</td>\n",
       "      <td>FC0001130</td>\n",
       "      <td>C00024</td>\n",
       "      <td>Sponsorship</td>\n",
       "      <td>MECENAT</td>\n",
       "      <td>PIECE</td>\n",
       "    </tr>\n",
       "  </tbody>\n",
       "</table>\n",
       "<p>4753 rows × 30 columns</p>\n",
       "</div>"
      ],
      "text/plain": [
       "     Business Account           Stage    Class ID  \\\n",
       "146            C00137  Oral agreement    CAMP TER   \n",
       "166            C13140  Oral agreement    CAMP TER   \n",
       "167            C13140  Oral agreement    CAMP TER   \n",
       "212            C00094             Won  PPRIV EVNT   \n",
       "259            C21171             Won   PPRIV MEC   \n",
       "...               ...             ...         ...   \n",
       "8013           C00036             Won   PPRIV MEC   \n",
       "8014           C00036             Won   PPRIV MEC   \n",
       "8015           C00036             Won   PPRIV MEC   \n",
       "8016           C00036             Won   PPRIV MEC   \n",
       "8018           C00024             Won   PPRIV MEC   \n",
       "\n",
       "                                Class  Programme financé Agreement  \\\n",
       "146                    Campus - Field                NaN       NaN   \n",
       "166                    Campus - Field                NaN       NaN   \n",
       "167                    Campus - Field                NaN       NaN   \n",
       "212       Private partnership - Event                NaN       NaN   \n",
       "259   Private partnership - Patronage         Non fléché     False   \n",
       "...                               ...                ...       ...   \n",
       "8013  Private partnership - Patronage  Job dans la Ville      True   \n",
       "8014  Private partnership - Patronage  Job dans la Ville      True   \n",
       "8015  Private partnership - Patronage  Job dans la Ville      True   \n",
       "8016  Private partnership - Patronage  Job dans la Ville      True   \n",
       "8018  Private partnership - Patronage  Job dans la Ville      True   \n",
       "\n",
       "     Type de financement Zone SDLV Branch ID Customer Status  ...  \\\n",
       "146                  NaN       NaN      SDLV          Active  ...   \n",
       "166                  NaN       NaN      SDLV          Active  ...   \n",
       "167                  NaN       NaN      SDLV          Active  ...   \n",
       "212                  NaN       NaN      SDLV          Active  ...   \n",
       "259       Fonctionnement  National      SDLV             NaN  ...   \n",
       "...                  ...       ...       ...             ...  ...   \n",
       "8013      Fonctionnement  National      SDLV          Active  ...   \n",
       "8014      Fonctionnement  National      SDLV          Active  ...   \n",
       "8015      Fonctionnement  National      SDLV          Active  ...   \n",
       "8016      Fonctionnement  National      SDLV          Active  ...   \n",
       "8018      Fonctionnement  National      SDLV          Active  ...   \n",
       "\n",
       "     Inventory ID    UOM     Funded Program Free Item Tax Category  \\\n",
       "146       CAMP023  HEURE                NaN     False       TVA 20   \n",
       "166       CAMP023  HEURE                NaN     False       TVA 20   \n",
       "167       CAMP023  HEURE                NaN     False       TVA 20   \n",
       "212       EVEN001  PIECE      Non specified     False         TVA0   \n",
       "259       MECENAT  PIECE      Non specified     False         TVA0   \n",
       "...           ...    ...                ...       ...          ...   \n",
       "8013      MECENAT  PIECE  Job dans la Ville     False            0   \n",
       "8014      MECENAT  PIECE  Job dans la Ville     False         TVA0   \n",
       "8015      MECENAT  PIECE  Job dans la Ville     False         TVA0   \n",
       "8016      MECENAT  PIECE  Job dans la Ville     False         TVA0   \n",
       "8018      MECENAT  PIECE      Non specified     False            0   \n",
       "\n",
       "     Reference Nbr. Customer       Description EN Posting Class Base Unit  \n",
       "146       FC0004543   C00137  Soccer pitch rental        CAMPUS     HEURE  \n",
       "166       FC0004530   C13140  Soccer pitch rental        CAMPUS     HEURE  \n",
       "167       FC0004529   C13140  Soccer pitch rental        CAMPUS     HEURE  \n",
       "212       FC0004533   C00094      Gala table Lyon         EVENT     PIECE  \n",
       "259       FC0004511   C21171          Sponsorship       MECENAT     PIECE  \n",
       "...             ...      ...                  ...           ...       ...  \n",
       "8013      FC0000204   C00036          Sponsorship       MECENAT     PIECE  \n",
       "8014      FC0000304   C00036          Sponsorship       MECENAT     PIECE  \n",
       "8015      FC0000205   C00036          Sponsorship       MECENAT     PIECE  \n",
       "8016      FC0000204   C00036          Sponsorship       MECENAT     PIECE  \n",
       "8018      FC0001130   C00024          Sponsorship       MECENAT     PIECE  \n",
       "\n",
       "[4753 rows x 30 columns]"
      ]
     },
     "execution_count": 229,
     "metadata": {},
     "output_type": "execute_result"
    }
   ],
   "source": [
    "df.select_dtypes(include=\"object\")"
   ]
  },
  {
   "cell_type": "code",
   "execution_count": null,
   "id": "0542008d-369d-4a07-a872-5031522fb0b6",
   "metadata": {},
   "outputs": [],
   "source": [
    "df.groupby()"
   ]
  },
  {
   "cell_type": "markdown",
   "id": "fe1c95c9-ba18-4478-bd2a-2b2a5856d7a3",
   "metadata": {},
   "source": [
    "# Model"
   ]
  },
  {
   "cell_type": "code",
   "execution_count": 353,
   "id": "c2544fa6-2bda-48b8-abe4-7e0bfbcdd05a",
   "metadata": {},
   "outputs": [],
   "source": [
    "from sklearn.compose import ColumnTransformer\n",
    "from sklearn.pipeline import Pipeline\n",
    "from sklearn.preprocessing import OneHotEncoder\n",
    "from xgboost import XGBRegressor\n",
    "from sklearn.preprocessing import LabelEncoder\n",
    "from sklearn.model_selection import train_test_split\n",
    "from sklearn.metrics import mean_squared_error\n",
    "\n",
    "\n"
   ]
  },
  {
   "cell_type": "code",
   "execution_count": 206,
   "id": "ff8ed8da-6de3-4ea7-b57f-bced05dcdbb2",
   "metadata": {},
   "outputs": [],
   "source": [
    "# Define the column transformer and the pipeline\n",
    "object_cols = df.select_dtypes(include=['object']).columns\n",
    "\n",
    "# Create a column transformer that applies label encoding to object columns\n",
    "encoder = OneHotEncoder()\n",
    "preprocessor = ColumnTransformer(\n",
    "    transformers=[\n",
    "        ('label', encoder, object_cols)\n",
    "    ],\n",
    "    remainder='passthrough'\n",
    ")\n",
    "\n",
    "# Create a pipeline that first applies label encoding and then any remaining transformations\n",
    "pipeline = Pipeline([\n",
    "    ('preprocessor', preprocessor),\n",
    "])\n",
    "\n",
    "# Fit and transform your DataFrame using the pipeline\n",
    "transformed_data = pipeline.fit_transform(df.drop(columns=\"Target\"))\n",
    "\n",
    "# Create a DataFrame with original column names for the transformed data\n"
   ]
  },
  {
   "cell_type": "code",
   "execution_count": 207,
   "id": "f8786cab-7d12-4283-98d4-22a107df739a",
   "metadata": {},
   "outputs": [
    {
     "data": {
      "text/plain": [
       "(4753, 6866)"
      ]
     },
     "execution_count": 207,
     "metadata": {},
     "output_type": "execute_result"
    }
   ],
   "source": [
    "X = pd.DataFrame(transformed_data.todense(), columns=preprocessor.get_feature_names())\n",
    "X.shape"
   ]
  },
  {
   "cell_type": "code",
   "execution_count": 208,
   "id": "e938c2ba-d6e4-4f50-bbaa-3db47ca57254",
   "metadata": {},
   "outputs": [
    {
     "data": {
      "text/plain": [
       "(4753,)"
      ]
     },
     "execution_count": 208,
     "metadata": {},
     "output_type": "execute_result"
    }
   ],
   "source": [
    "y = df[\"Target\"]\n",
    "y.shape"
   ]
  },
  {
   "cell_type": "code",
   "execution_count": 209,
   "id": "66993dee-a224-4c2d-93d8-6877f43f86e3",
   "metadata": {},
   "outputs": [
    {
     "data": {
      "text/plain": [
       "0.08944828242881787"
      ]
     },
     "execution_count": 209,
     "metadata": {},
     "output_type": "execute_result"
    }
   ],
   "source": [
    "df[\"Target\"].mean()"
   ]
  },
  {
   "cell_type": "code",
   "execution_count": 210,
   "id": "ff2a4daf-c484-49a1-bc49-4e0d68234aa6",
   "metadata": {},
   "outputs": [
    {
     "name": "stdout",
     "output_type": "stream",
     "text": [
      "Root Mean Squared Error (RMSE): 0.08\n"
     ]
    }
   ],
   "source": [
    "# Train-test split\n",
    "X_train, X_test, y_train, y_test = train_test_split(X, y, test_size=0.2, random_state=42)\n",
    "\n",
    "model = XGBRegressor()\n",
    "model.fit(X_train, y_train)\n",
    "\n",
    "# Make predictions on the test set\n",
    "y_pred = model.predict(X_test)\n",
    "\n",
    "# Evaluate the model (for regression, you can use Mean Squared Error, RMSE, etc.)\n",
    "mse = mean_squared_error(y_test, y_pred)\n",
    "rmse = mse**0.5\n",
    "print(f\"Root Mean Squared Error (RMSE): {rmse:.2f}\")"
   ]
  },
  {
   "cell_type": "code",
   "execution_count": 211,
   "id": "6c3e73ae-8273-4bbe-9797-916b489ff36e",
   "metadata": {},
   "outputs": [
    {
     "data": {
      "text/html": [
       "<div>\n",
       "<style scoped>\n",
       "    .dataframe tbody tr th:only-of-type {\n",
       "        vertical-align: middle;\n",
       "    }\n",
       "\n",
       "    .dataframe tbody tr th {\n",
       "        vertical-align: top;\n",
       "    }\n",
       "\n",
       "    .dataframe thead th {\n",
       "        text-align: right;\n",
       "    }\n",
       "</style>\n",
       "<table border=\"1\" class=\"dataframe\">\n",
       "  <thead>\n",
       "    <tr style=\"text-align: right;\">\n",
       "      <th></th>\n",
       "      <th>y_pred</th>\n",
       "      <th>y_true</th>\n",
       "    </tr>\n",
       "  </thead>\n",
       "  <tbody>\n",
       "    <tr>\n",
       "      <th>3232</th>\n",
       "      <td>0.857430</td>\n",
       "      <td>0.848487</td>\n",
       "    </tr>\n",
       "    <tr>\n",
       "      <th>2771</th>\n",
       "      <td>0.000888</td>\n",
       "      <td>0.000000</td>\n",
       "    </tr>\n",
       "    <tr>\n",
       "      <th>983</th>\n",
       "      <td>0.000888</td>\n",
       "      <td>0.000000</td>\n",
       "    </tr>\n",
       "    <tr>\n",
       "      <th>3879</th>\n",
       "      <td>0.000888</td>\n",
       "      <td>0.000000</td>\n",
       "    </tr>\n",
       "    <tr>\n",
       "      <th>6223</th>\n",
       "      <td>-0.046378</td>\n",
       "      <td>0.000000</td>\n",
       "    </tr>\n",
       "    <tr>\n",
       "      <th>...</th>\n",
       "      <td>...</td>\n",
       "      <td>...</td>\n",
       "    </tr>\n",
       "    <tr>\n",
       "      <th>4778</th>\n",
       "      <td>-0.001352</td>\n",
       "      <td>0.000000</td>\n",
       "    </tr>\n",
       "    <tr>\n",
       "      <th>4598</th>\n",
       "      <td>0.000888</td>\n",
       "      <td>0.000000</td>\n",
       "    </tr>\n",
       "    <tr>\n",
       "      <th>4205</th>\n",
       "      <td>0.000888</td>\n",
       "      <td>0.000000</td>\n",
       "    </tr>\n",
       "    <tr>\n",
       "      <th>2965</th>\n",
       "      <td>0.000888</td>\n",
       "      <td>0.000000</td>\n",
       "    </tr>\n",
       "    <tr>\n",
       "      <th>5544</th>\n",
       "      <td>0.000888</td>\n",
       "      <td>-0.048065</td>\n",
       "    </tr>\n",
       "  </tbody>\n",
       "</table>\n",
       "<p>951 rows × 2 columns</p>\n",
       "</div>"
      ],
      "text/plain": [
       "        y_pred    y_true\n",
       "3232  0.857430  0.848487\n",
       "2771  0.000888  0.000000\n",
       "983   0.000888  0.000000\n",
       "3879  0.000888  0.000000\n",
       "6223 -0.046378  0.000000\n",
       "...        ...       ...\n",
       "4778 -0.001352  0.000000\n",
       "4598  0.000888  0.000000\n",
       "4205  0.000888  0.000000\n",
       "2965  0.000888  0.000000\n",
       "5544  0.000888 -0.048065\n",
       "\n",
       "[951 rows x 2 columns]"
      ]
     },
     "execution_count": 211,
     "metadata": {},
     "output_type": "execute_result"
    }
   ],
   "source": [
    "pd.DataFrame({\"y_pred\":y_pred, \"y_true\": y_test})"
   ]
  },
  {
   "cell_type": "code",
   "execution_count": 186,
   "id": "5cd356f2-6102-4d9b-9a33-15dd6f593d1f",
   "metadata": {},
   "outputs": [
    {
     "data": {
      "text/plain": [
       "146     1300.00\n",
       "166      208.00\n",
       "167       56.00\n",
       "212     9000.00\n",
       "259     7620.00\n",
       "         ...   \n",
       "8013    3324.00\n",
       "8014     209.08\n",
       "8015     209.08\n",
       "8016    3324.00\n",
       "8018    7500.00\n",
       "Name: Amount, Length: 4753, dtype: float64"
      ]
     },
     "execution_count": 186,
     "metadata": {},
     "output_type": "execute_result"
    }
   ],
   "source": [
    "df[\"Amount\"]"
   ]
  },
  {
   "cell_type": "code",
   "execution_count": 212,
   "id": "55c36451-f00b-41a6-a7f8-b3e8d951ed3f",
   "metadata": {},
   "outputs": [
    {
     "data": {
      "text/plain": [
       "label__x26_FC0001619           0.003632\n",
       "label__x26_FC0001188           0.003665\n",
       "label__x26_FC0001191           0.003665\n",
       "label__x26_FC0001480           0.003670\n",
       "label__x26_FC0000316           0.003711\n",
       "label__x0_C14618               0.003723\n",
       "label__x0_C04297               0.003724\n",
       "label__x0_C00510               0.003735\n",
       "Date_year                      0.003896\n",
       "label__x20_EVEN040             0.003996\n",
       "label__x0_C01444               0.003999\n",
       "label__x0_C00622               0.004320\n",
       "Created On_month               0.004391\n",
       "label__x0_C06247               0.004512\n",
       "label__x0_C01202               0.004592\n",
       "label__x0_C00714               0.004835\n",
       "label__x6_Fonctionnement       0.004847\n",
       "label__x0_C00876               0.004950\n",
       "label__x26_FC0004091           0.004953\n",
       "label__x0_C01404               0.004961\n",
       "Date_month                     0.005329\n",
       "label__x0_C01561               0.005605\n",
       "label__x5_False                0.006239\n",
       "label__x0_C01562               0.007031\n",
       "label__x5_True                 0.007115\n",
       "Quantity                       0.007236\n",
       "label__x0_C01200               0.007494\n",
       "label__x0_C00112               0.007617\n",
       "Year                           0.007644\n",
       "label__x25_0                   0.007989\n",
       "label__x11_Major Partner       0.008007\n",
       "Owner                          0.009108\n",
       "Date_day                       0.010473\n",
       "Estimated Close Date_year      0.010853\n",
       "label__x23_Non specified       0.011660\n",
       "label__x4_Job dans la Ville    0.014911\n",
       "label__x0_C01528               0.015013\n",
       "label__x8_FONDONSDLV           0.015595\n",
       "Estimated Close Date_day       0.015884\n",
       "Estimated amount               0.016947\n",
       "label__x0_C01506               0.020878\n",
       "label__x26_FC0004254           0.021222\n",
       "label__x0_C01473               0.023767\n",
       "label__x0_C00397               0.024396\n",
       "label__x0_C00049               0.025414\n",
       "label__x4_nan                  0.027638\n",
       "label__x12_Local Authority     0.044850\n",
       "label__x12_State               0.045789\n",
       "Created On_year                0.068760\n",
       "Actual Close Date_year         0.267238\n",
       "dtype: float32"
      ]
     },
     "execution_count": 212,
     "metadata": {},
     "output_type": "execute_result"
    }
   ],
   "source": [
    "pd.Series(model.feature_importances_, index=preprocessor.get_feature_names()).sort_values()[-50:]"
   ]
  },
  {
   "cell_type": "code",
   "execution_count": 217,
   "id": "e30c5365-d18a-4341-ac0d-bc877de86828",
   "metadata": {},
   "outputs": [
    {
     "data": {
      "text/plain": [
       "EUR    4751\n",
       "USD       1\n",
       "Name: Currency, dtype: int64"
      ]
     },
     "execution_count": 217,
     "metadata": {},
     "output_type": "execute_result"
    }
   ],
   "source": [
    "df.select_dtypes(include=\"object\")[\"Currency\"].value_counts()"
   ]
  },
  {
   "cell_type": "markdown",
   "id": "8edf1f7a-8456-42db-817b-e0659b6a01d9",
   "metadata": {},
   "source": [
    "# Only most important cols"
   ]
  },
  {
   "cell_type": "code",
   "execution_count": 381,
   "id": "178cd672-8cf2-4987-9998-fbd0ad97a6ea",
   "metadata": {},
   "outputs": [],
   "source": [
    "df_op = data[\"Opportunities.xlsx\"].copy()\n"
   ]
  },
  {
   "cell_type": "code",
   "execution_count": 288,
   "id": "4364bb1b-f9fc-4a33-8b09-0012cf66b259",
   "metadata": {},
   "outputs": [],
   "source": [
    "df_op = data[\"Opportunities.xlsx\"]\n",
    "\n",
    "datecols = df_op.select_dtypes(include=\"datetime\").columns\n",
    "\n",
    "for col in datecols:\n",
    "    df_op = _encode_dates(df_op, col)"
   ]
  },
  {
   "cell_type": "code",
   "execution_count": 248,
   "id": "418aa10d-8d82-4bee-acb7-bf74cc018389",
   "metadata": {},
   "outputs": [
    {
     "data": {
      "text/plain": [
       "True     3250\n",
       "False    2736\n",
       "Name: Amount received, dtype: int64"
      ]
     },
     "execution_count": 248,
     "metadata": {},
     "output_type": "execute_result"
    }
   ],
   "source": [
    "df_op[\"Amount received\"].isna().value_counts()"
   ]
  },
  {
   "cell_type": "code",
   "execution_count": 249,
   "id": "abe06233-a720-45a0-8a1b-00149bfd1f82",
   "metadata": {},
   "outputs": [],
   "source": [
    "df_op = df_op[df_op[\"Amount received\"].notna()]"
   ]
  },
  {
   "cell_type": "code",
   "execution_count": 250,
   "id": "2161a604-9859-4a8c-9b7a-639c5f1e054c",
   "metadata": {},
   "outputs": [],
   "source": [
    "X = df_op.copy()\n",
    "y = X.pop(\"Difference\")\n"
   ]
  },
  {
   "cell_type": "code",
   "execution_count": 257,
   "id": "19cbfc02-177d-4965-babc-79240e9d5b5d",
   "metadata": {},
   "outputs": [
    {
     "data": {
      "text/plain": [
       "Assignment Date_year\n",
       "2021.0    -7145162.76\n",
       "2022.0   -13565040.68\n",
       "2023.0    -1318315.00\n",
       "Name: Difference, dtype: float64"
      ]
     },
     "execution_count": 257,
     "metadata": {},
     "output_type": "execute_result"
    }
   ],
   "source": [
    "df_op.groupby([\"Assignment Date_year\"])[\"Difference\"].sum()"
   ]
  },
  {
   "cell_type": "code",
   "execution_count": 258,
   "id": "fada174f-9aef-4c79-8976-b3e26b59e299",
   "metadata": {},
   "outputs": [
    {
     "data": {
      "text/plain": [
       "Index(['Opportunity ID', 'Business Account', 'Contact ID', 'Status', 'Stage',\n",
       "       'Probability', 'Estimated amount', 'Amount received', 'Difference',\n",
       "       'Owner Name', 'Follow-up with', 'Class ID', 'Class', 'Source',\n",
       "       'Source Campaign', 'Campaign Name', 'Programme financé',\n",
       "       'Action financée', 'Agreement', 'Duration of agreement (months)',\n",
       "       'Type de contrat', 'Type de financement', 'Zone SDLV',\n",
       "       'Theorical payment amount 1', 'Theorical payment amount 2',\n",
       "       'Theorical payment amount 3', 'Theorical payment amount 4',\n",
       "       'Theorical payment amount 5', 'Branch ID', 'Estimated Close Date_year',\n",
       "       'Estimated Close Date_month', 'Estimated Close Date_day',\n",
       "       'Signature date of the agreement_year',\n",
       "       'Signature date of the agreement_month',\n",
       "       'Signature date of the agreement_day', 'Agreement expiry date_year',\n",
       "       'Agreement expiry date_month', 'Agreement expiry date_day',\n",
       "       'Deadline for submission of interim report_year',\n",
       "       'Deadline for submission of interim report_month',\n",
       "       'Deadline for submission of interim report_day',\n",
       "       'Final report deadline_year', 'Final report deadline_month',\n",
       "       'Final report deadline_day', 'Theorical payment date 1_year',\n",
       "       'Theorical payment date 1_month', 'Theorical payment date 1_day',\n",
       "       'Theorical payment date 2_year', 'Theorical payment date 2_month',\n",
       "       'Theorical payment date 2_day', 'Theorical payment date 3_year',\n",
       "       'Theorical payment date 3_month', 'Theorical payment date 3_day',\n",
       "       'Theorical payment date 4_year', 'Theorical payment date 4_month',\n",
       "       'Theorical payment date 4_day', 'Theorical payment date 5_year',\n",
       "       'Theorical payment date 5_month', 'Theorical payment date 5_day',\n",
       "       'Created On_year', 'Created On_month', 'Created On_day',\n",
       "       'Last Modified Date_year', 'Last Modified Date_month',\n",
       "       'Last Modified Date_day', 'Actual Close Date_year',\n",
       "       'Actual Close Date_month', 'Actual Close Date_day',\n",
       "       'Assignment Date_year', 'Assignment Date_month', 'Assignment Date_day'],\n",
       "      dtype='object')"
      ]
     },
     "execution_count": 258,
     "metadata": {},
     "output_type": "execute_result"
    }
   ],
   "source": [
    "df_op.columns"
   ]
  },
  {
   "cell_type": "code",
   "execution_count": 272,
   "id": "27ce8fc7-3e0a-4d78-9fc5-20628a15b8c7",
   "metadata": {},
   "outputs": [
    {
     "data": {
      "text/plain": [
       "146     2023.0\n",
       "166     2023.0\n",
       "167     2023.0\n",
       "212     2023.0\n",
       "259     2023.0\n",
       "         ...  \n",
       "8013    2022.0\n",
       "8014    2022.0\n",
       "8015    2022.0\n",
       "8016    2022.0\n",
       "8018    2021.0\n",
       "Name: Actual Close Date_year, Length: 4753, dtype: float64"
      ]
     },
     "execution_count": 272,
     "metadata": {},
     "output_type": "execute_result"
    }
   ],
   "source": [
    "df[\"Actual Close Date_year\"]"
   ]
  },
  {
   "cell_type": "code",
   "execution_count": 275,
   "id": "3bdfde31-19d7-4a1a-9e9a-bb12e7036f5e",
   "metadata": {},
   "outputs": [
    {
     "data": {
      "text/html": [
       "<div>\n",
       "<style scoped>\n",
       "    .dataframe tbody tr th:only-of-type {\n",
       "        vertical-align: middle;\n",
       "    }\n",
       "\n",
       "    .dataframe tbody tr th {\n",
       "        vertical-align: top;\n",
       "    }\n",
       "\n",
       "    .dataframe thead th {\n",
       "        text-align: right;\n",
       "    }\n",
       "</style>\n",
       "<table border=\"1\" class=\"dataframe\">\n",
       "  <thead>\n",
       "    <tr style=\"text-align: right;\">\n",
       "      <th></th>\n",
       "      <th>Amount received</th>\n",
       "      <th>Estimated amount</th>\n",
       "      <th>Difference</th>\n",
       "    </tr>\n",
       "    <tr>\n",
       "      <th>Actual Close Date_year</th>\n",
       "      <th></th>\n",
       "      <th></th>\n",
       "      <th></th>\n",
       "    </tr>\n",
       "  </thead>\n",
       "  <tbody>\n",
       "    <tr>\n",
       "      <th>2021.0</th>\n",
       "      <td>6409370.26</td>\n",
       "      <td>6503944.62</td>\n",
       "      <td>-94574.36</td>\n",
       "    </tr>\n",
       "    <tr>\n",
       "      <th>2022.0</th>\n",
       "      <td>14309945.66</td>\n",
       "      <td>14913056.78</td>\n",
       "      <td>-603111.12</td>\n",
       "    </tr>\n",
       "    <tr>\n",
       "      <th>2023.0</th>\n",
       "      <td>13036044.86</td>\n",
       "      <td>13149039.86</td>\n",
       "      <td>-112995.00</td>\n",
       "    </tr>\n",
       "  </tbody>\n",
       "</table>\n",
       "</div>"
      ],
      "text/plain": [
       "                        Amount received  Estimated amount  Difference\n",
       "Actual Close Date_year                                               \n",
       "2021.0                       6409370.26        6503944.62   -94574.36\n",
       "2022.0                      14309945.66       14913056.78  -603111.12\n",
       "2023.0                      13036044.86       13149039.86  -112995.00"
      ]
     },
     "execution_count": 275,
     "metadata": {},
     "output_type": "execute_result"
    }
   ],
   "source": [
    "df_op.groupby(\"Actual Close Date_year\")[[\"Amount received\", \"Estimated amount\", \"Difference\"]].sum()"
   ]
  },
  {
   "cell_type": "code",
   "execution_count": 318,
   "id": "6b31e6fc-55c0-48bf-a381-ea50b7a1cf48",
   "metadata": {},
   "outputs": [
    {
     "ename": "TypeError",
     "evalue": "The DTypes <class 'numpy.dtype[timedelta64]'> and <class 'numpy.dtype[float64]'> do not have a common DType. For example they cannot be stored in a single array unless the dtype is `object`.",
     "output_type": "error",
     "traceback": [
      "\u001b[0;31m---------------------------------------------------------------------------\u001b[0m",
      "\u001b[0;31mTypeError\u001b[0m                                 Traceback (most recent call last)",
      "\u001b[0;32m<ipython-input-318-d4cfeb53b52a>\u001b[0m in \u001b[0;36m<module>\u001b[0;34m\u001b[0m\n\u001b[1;32m      1\u001b[0m \u001b[0mobject_cols\u001b[0m \u001b[0;34m=\u001b[0m \u001b[0mdf_op\u001b[0m\u001b[0;34m.\u001b[0m\u001b[0mselect_dtypes\u001b[0m\u001b[0;34m(\u001b[0m\u001b[0minclude\u001b[0m\u001b[0;34m=\u001b[0m\u001b[0;34m\"object\"\u001b[0m\u001b[0;34m)\u001b[0m\u001b[0;34m.\u001b[0m\u001b[0mcolumns\u001b[0m\u001b[0;34m\u001b[0m\u001b[0;34m\u001b[0m\u001b[0m\n\u001b[0;32m----> 2\u001b[0;31m \u001b[0mpipeline\u001b[0m\u001b[0;34m.\u001b[0m\u001b[0mfit_transform\u001b[0m\u001b[0;34m(\u001b[0m\u001b[0mX\u001b[0m\u001b[0;34m)\u001b[0m\u001b[0;34m\u001b[0m\u001b[0;34m\u001b[0m\u001b[0m\n\u001b[0m",
      "\u001b[0;32m/opt/tljh/user/lib/python3.7/site-packages/sklearn/pipeline.py\u001b[0m in \u001b[0;36mfit_transform\u001b[0;34m(self, X, y, **fit_params)\u001b[0m\n\u001b[1;32m    385\u001b[0m             \u001b[0mfit_params_last_step\u001b[0m \u001b[0;34m=\u001b[0m \u001b[0mfit_params_steps\u001b[0m\u001b[0;34m[\u001b[0m\u001b[0mself\u001b[0m\u001b[0;34m.\u001b[0m\u001b[0msteps\u001b[0m\u001b[0;34m[\u001b[0m\u001b[0;34m-\u001b[0m\u001b[0;36m1\u001b[0m\u001b[0;34m]\u001b[0m\u001b[0;34m[\u001b[0m\u001b[0;36m0\u001b[0m\u001b[0;34m]\u001b[0m\u001b[0;34m]\u001b[0m\u001b[0;34m\u001b[0m\u001b[0;34m\u001b[0m\u001b[0m\n\u001b[1;32m    386\u001b[0m             \u001b[0;32mif\u001b[0m \u001b[0mhasattr\u001b[0m\u001b[0;34m(\u001b[0m\u001b[0mlast_step\u001b[0m\u001b[0;34m,\u001b[0m \u001b[0;34m'fit_transform'\u001b[0m\u001b[0;34m)\u001b[0m\u001b[0;34m:\u001b[0m\u001b[0;34m\u001b[0m\u001b[0;34m\u001b[0m\u001b[0m\n\u001b[0;32m--> 387\u001b[0;31m                 \u001b[0;32mreturn\u001b[0m \u001b[0mlast_step\u001b[0m\u001b[0;34m.\u001b[0m\u001b[0mfit_transform\u001b[0m\u001b[0;34m(\u001b[0m\u001b[0mXt\u001b[0m\u001b[0;34m,\u001b[0m \u001b[0my\u001b[0m\u001b[0;34m,\u001b[0m \u001b[0;34m**\u001b[0m\u001b[0mfit_params_last_step\u001b[0m\u001b[0;34m)\u001b[0m\u001b[0;34m\u001b[0m\u001b[0;34m\u001b[0m\u001b[0m\n\u001b[0m\u001b[1;32m    388\u001b[0m             \u001b[0;32melse\u001b[0m\u001b[0;34m:\u001b[0m\u001b[0;34m\u001b[0m\u001b[0;34m\u001b[0m\u001b[0m\n\u001b[1;32m    389\u001b[0m                 return last_step.fit(Xt, y,\n",
      "\u001b[0;32m/opt/tljh/user/lib/python3.7/site-packages/sklearn/compose/_column_transformer.py\u001b[0m in \u001b[0;36mfit_transform\u001b[0;34m(self, X, y)\u001b[0m\n\u001b[1;32m    527\u001b[0m         \u001b[0mself\u001b[0m\u001b[0;34m.\u001b[0m\u001b[0m_validate_output\u001b[0m\u001b[0;34m(\u001b[0m\u001b[0mXs\u001b[0m\u001b[0;34m)\u001b[0m\u001b[0;34m\u001b[0m\u001b[0;34m\u001b[0m\u001b[0m\n\u001b[1;32m    528\u001b[0m \u001b[0;34m\u001b[0m\u001b[0m\n\u001b[0;32m--> 529\u001b[0;31m         \u001b[0;32mreturn\u001b[0m \u001b[0mself\u001b[0m\u001b[0;34m.\u001b[0m\u001b[0m_hstack\u001b[0m\u001b[0;34m(\u001b[0m\u001b[0mlist\u001b[0m\u001b[0;34m(\u001b[0m\u001b[0mXs\u001b[0m\u001b[0;34m)\u001b[0m\u001b[0;34m)\u001b[0m\u001b[0;34m\u001b[0m\u001b[0;34m\u001b[0m\u001b[0m\n\u001b[0m\u001b[1;32m    530\u001b[0m \u001b[0;34m\u001b[0m\u001b[0m\n\u001b[1;32m    531\u001b[0m     \u001b[0;32mdef\u001b[0m \u001b[0mtransform\u001b[0m\u001b[0;34m(\u001b[0m\u001b[0mself\u001b[0m\u001b[0;34m,\u001b[0m \u001b[0mX\u001b[0m\u001b[0;34m)\u001b[0m\u001b[0;34m:\u001b[0m\u001b[0;34m\u001b[0m\u001b[0;34m\u001b[0m\u001b[0m\n",
      "\u001b[0;32m/opt/tljh/user/lib/python3.7/site-packages/sklearn/compose/_column_transformer.py\u001b[0m in \u001b[0;36m_hstack\u001b[0;34m(self, Xs)\u001b[0m\n\u001b[1;32m    589\u001b[0m                                             \u001b[0maccept_sparse\u001b[0m\u001b[0;34m=\u001b[0m\u001b[0;32mTrue\u001b[0m\u001b[0;34m,\u001b[0m\u001b[0;34m\u001b[0m\u001b[0;34m\u001b[0m\u001b[0m\n\u001b[1;32m    590\u001b[0m                                             force_all_finite=False)\n\u001b[0;32m--> 591\u001b[0;31m                                 for X in Xs]\n\u001b[0m\u001b[1;32m    592\u001b[0m             \u001b[0;32mexcept\u001b[0m \u001b[0mValueError\u001b[0m \u001b[0;32mas\u001b[0m \u001b[0me\u001b[0m\u001b[0;34m:\u001b[0m\u001b[0;34m\u001b[0m\u001b[0;34m\u001b[0m\u001b[0m\n\u001b[1;32m    593\u001b[0m                 raise ValueError(\n",
      "\u001b[0;32m/opt/tljh/user/lib/python3.7/site-packages/sklearn/compose/_column_transformer.py\u001b[0m in \u001b[0;36m<listcomp>\u001b[0;34m(.0)\u001b[0m\n\u001b[1;32m    589\u001b[0m                                             \u001b[0maccept_sparse\u001b[0m\u001b[0;34m=\u001b[0m\u001b[0;32mTrue\u001b[0m\u001b[0;34m,\u001b[0m\u001b[0;34m\u001b[0m\u001b[0;34m\u001b[0m\u001b[0m\n\u001b[1;32m    590\u001b[0m                                             force_all_finite=False)\n\u001b[0;32m--> 591\u001b[0;31m                                 for X in Xs]\n\u001b[0m\u001b[1;32m    592\u001b[0m             \u001b[0;32mexcept\u001b[0m \u001b[0mValueError\u001b[0m \u001b[0;32mas\u001b[0m \u001b[0me\u001b[0m\u001b[0;34m:\u001b[0m\u001b[0;34m\u001b[0m\u001b[0;34m\u001b[0m\u001b[0m\n\u001b[1;32m    593\u001b[0m                 raise ValueError(\n",
      "\u001b[0;32m/opt/tljh/user/lib/python3.7/site-packages/sklearn/utils/validation.py\u001b[0m in \u001b[0;36minner_f\u001b[0;34m(*args, **kwargs)\u001b[0m\n\u001b[1;32m     61\u001b[0m             \u001b[0mextra_args\u001b[0m \u001b[0;34m=\u001b[0m \u001b[0mlen\u001b[0m\u001b[0;34m(\u001b[0m\u001b[0margs\u001b[0m\u001b[0;34m)\u001b[0m \u001b[0;34m-\u001b[0m \u001b[0mlen\u001b[0m\u001b[0;34m(\u001b[0m\u001b[0mall_args\u001b[0m\u001b[0;34m)\u001b[0m\u001b[0;34m\u001b[0m\u001b[0;34m\u001b[0m\u001b[0m\n\u001b[1;32m     62\u001b[0m             \u001b[0;32mif\u001b[0m \u001b[0mextra_args\u001b[0m \u001b[0;34m<=\u001b[0m \u001b[0;36m0\u001b[0m\u001b[0;34m:\u001b[0m\u001b[0;34m\u001b[0m\u001b[0;34m\u001b[0m\u001b[0m\n\u001b[0;32m---> 63\u001b[0;31m                 \u001b[0;32mreturn\u001b[0m \u001b[0mf\u001b[0m\u001b[0;34m(\u001b[0m\u001b[0;34m*\u001b[0m\u001b[0margs\u001b[0m\u001b[0;34m,\u001b[0m \u001b[0;34m**\u001b[0m\u001b[0mkwargs\u001b[0m\u001b[0;34m)\u001b[0m\u001b[0;34m\u001b[0m\u001b[0;34m\u001b[0m\u001b[0m\n\u001b[0m\u001b[1;32m     64\u001b[0m \u001b[0;34m\u001b[0m\u001b[0m\n\u001b[1;32m     65\u001b[0m             \u001b[0;31m# extra_args > 0\u001b[0m\u001b[0;34m\u001b[0m\u001b[0;34m\u001b[0m\u001b[0;34m\u001b[0m\u001b[0m\n",
      "\u001b[0;32m/opt/tljh/user/lib/python3.7/site-packages/sklearn/utils/validation.py\u001b[0m in \u001b[0;36mcheck_array\u001b[0;34m(array, accept_sparse, accept_large_sparse, dtype, order, copy, force_all_finite, ensure_2d, allow_nd, ensure_min_samples, ensure_min_features, estimator)\u001b[0m\n\u001b[1;32m    595\u001b[0m \u001b[0;34m\u001b[0m\u001b[0m\n\u001b[1;32m    596\u001b[0m         \u001b[0;32mif\u001b[0m \u001b[0mall\u001b[0m\u001b[0;34m(\u001b[0m\u001b[0misinstance\u001b[0m\u001b[0;34m(\u001b[0m\u001b[0mdtype\u001b[0m\u001b[0;34m,\u001b[0m \u001b[0mnp\u001b[0m\u001b[0;34m.\u001b[0m\u001b[0mdtype\u001b[0m\u001b[0;34m)\u001b[0m \u001b[0;32mfor\u001b[0m \u001b[0mdtype\u001b[0m \u001b[0;32min\u001b[0m \u001b[0mdtypes_orig\u001b[0m\u001b[0;34m)\u001b[0m\u001b[0;34m:\u001b[0m\u001b[0;34m\u001b[0m\u001b[0;34m\u001b[0m\u001b[0m\n\u001b[0;32m--> 597\u001b[0;31m             \u001b[0mdtype_orig\u001b[0m \u001b[0;34m=\u001b[0m \u001b[0mnp\u001b[0m\u001b[0;34m.\u001b[0m\u001b[0mresult_type\u001b[0m\u001b[0;34m(\u001b[0m\u001b[0;34m*\u001b[0m\u001b[0mdtypes_orig\u001b[0m\u001b[0;34m)\u001b[0m\u001b[0;34m\u001b[0m\u001b[0;34m\u001b[0m\u001b[0m\n\u001b[0m\u001b[1;32m    598\u001b[0m \u001b[0;34m\u001b[0m\u001b[0m\n\u001b[1;32m    599\u001b[0m     \u001b[0;32mif\u001b[0m \u001b[0mdtype_numeric\u001b[0m\u001b[0;34m:\u001b[0m\u001b[0;34m\u001b[0m\u001b[0;34m\u001b[0m\u001b[0m\n",
      "\u001b[0;32m<__array_function__ internals>\u001b[0m in \u001b[0;36mresult_type\u001b[0;34m(*args, **kwargs)\u001b[0m\n",
      "\u001b[0;31mTypeError\u001b[0m: The DTypes <class 'numpy.dtype[timedelta64]'> and <class 'numpy.dtype[float64]'> do not have a common DType. For example they cannot be stored in a single array unless the dtype is `object`."
     ]
    }
   ],
   "source": [
    "object_cols = df_op.select_dtypes(include=\"object\").columns\n",
    "pipeline.fit_transform(X)"
   ]
  },
  {
   "cell_type": "code",
   "execution_count": null,
   "id": "f8bee043-10d5-42d9-9a6d-ea19128e1dc6",
   "metadata": {},
   "outputs": [],
   "source": [
    "cols = [\"Class Name\", \"\"]"
   ]
  },
  {
   "cell_type": "code",
   "execution_count": 119,
   "id": "9e44330e-843b-4669-b112-a42d2c187d61",
   "metadata": {},
   "outputs": [
    {
     "data": {
      "text/plain": [
       "146     Headquarters\n",
       "166              NaN\n",
       "167              NaN\n",
       "212     Headquarters\n",
       "259              NaN\n",
       "            ...     \n",
       "8013    Headquarters\n",
       "8014    Headquarters\n",
       "8015    Headquarters\n",
       "8016    Headquarters\n",
       "8018      Foundation\n",
       "Name: Class Name, Length: 4753, dtype: object"
      ]
     },
     "execution_count": 119,
     "metadata": {},
     "output_type": "execute_result"
    }
   ],
   "source": [
    "df[\"Class Name\"]"
   ]
  },
  {
   "cell_type": "code",
   "execution_count": 295,
   "id": "684d5e28-4a9b-4da6-bc08-8964efa15cec",
   "metadata": {},
   "outputs": [
    {
     "data": {
      "text/plain": [
       "5687"
      ]
     },
     "execution_count": 295,
     "metadata": {},
     "output_type": "execute_result"
    }
   ],
   "source": [
    "df_op[\"Duration of agreement (months)\"].isna().sum()\n"
   ]
  },
  {
   "cell_type": "code",
   "execution_count": 297,
   "id": "50649dc3-135b-4e5c-8274-46f1a2303b5b",
   "metadata": {},
   "outputs": [
    {
     "data": {
      "text/plain": [
       "Index(['Opportunity ID', 'Business Account', 'Contact ID',\n",
       "       'Estimated Close Date', 'Status', 'Stage', 'Probability',\n",
       "       'Estimated amount', 'Amount received', 'Difference', 'Owner Name',\n",
       "       'Follow-up with', 'Class ID', 'Class', 'Source', 'Source Campaign',\n",
       "       'Campaign Name', 'Programme financé', 'Action financée', 'Agreement',\n",
       "       'Signature date of the agreement', 'Agreement expiry date',\n",
       "       'Duration of agreement (months)',\n",
       "       'Deadline for submission of interim report', 'Final report deadline',\n",
       "       'Type de contrat', 'Type de financement', 'Zone SDLV',\n",
       "       'Theorical payment date 1', 'Theorical payment amount 1',\n",
       "       'Theorical payment date 2', 'Theorical payment amount 2',\n",
       "       'Theorical payment date 3', 'Theorical payment amount 3',\n",
       "       'Theorical payment date 4', 'Theorical payment amount 4',\n",
       "       'Theorical payment date 5', 'Theorical payment amount 5', 'Created On',\n",
       "       'Last Modified Date', 'Actual Close Date', 'Assignment Date',\n",
       "       'Branch ID'],\n",
       "      dtype='object')"
      ]
     },
     "execution_count": 297,
     "metadata": {},
     "output_type": "execute_result"
    }
   ],
   "source": [
    "df_op.columns\n"
   ]
  },
  {
   "cell_type": "code",
   "execution_count": 322,
   "id": "3bd9009d-2f9a-4818-bfc1-bf4d228e219f",
   "metadata": {},
   "outputs": [],
   "source": [
    "df_op[\"Delay\"] = df_op[\"Estimated Close Date\"] - df_op[\"Actual Close Date\"]"
   ]
  },
  {
   "cell_type": "code",
   "execution_count": 323,
   "id": "6ae677ff-e780-4f45-888f-11c08ac6d229",
   "metadata": {},
   "outputs": [
    {
     "data": {
      "text/plain": [
       "Won     4108\n",
       "New     1500\n",
       "Lost     271\n",
       "Open     107\n",
       "Name: Status, dtype: int64"
      ]
     },
     "execution_count": 323,
     "metadata": {},
     "output_type": "execute_result"
    }
   ],
   "source": [
    "df_op[\"Status\"].value_counts()"
   ]
  },
  {
   "cell_type": "code",
   "execution_count": 378,
   "id": "21cc9206-8389-407f-8db3-064ae21a0dd7",
   "metadata": {},
   "outputs": [],
   "source": [
    "X = df_op[df_op[\"Status\"].isin([\"Won\", \"Lost\"])].copy()"
   ]
  },
  {
   "cell_type": "code",
   "execution_count": 380,
   "id": "07424709-151a-49c5-9370-d05c96c72b70",
   "metadata": {},
   "outputs": [
    {
     "ename": "KeyError",
     "evalue": "'Delay'",
     "output_type": "error",
     "traceback": [
      "\u001b[0;31m---------------------------------------------------------------------------\u001b[0m",
      "\u001b[0;31mKeyError\u001b[0m                                  Traceback (most recent call last)",
      "\u001b[0;32m/opt/tljh/user/lib/python3.7/site-packages/pandas/core/indexes/base.py\u001b[0m in \u001b[0;36mget_loc\u001b[0;34m(self, key, method, tolerance)\u001b[0m\n\u001b[1;32m   3079\u001b[0m             \u001b[0;32mtry\u001b[0m\u001b[0;34m:\u001b[0m\u001b[0;34m\u001b[0m\u001b[0;34m\u001b[0m\u001b[0m\n\u001b[0;32m-> 3080\u001b[0;31m                 \u001b[0;32mreturn\u001b[0m \u001b[0mself\u001b[0m\u001b[0;34m.\u001b[0m\u001b[0m_engine\u001b[0m\u001b[0;34m.\u001b[0m\u001b[0mget_loc\u001b[0m\u001b[0;34m(\u001b[0m\u001b[0mcasted_key\u001b[0m\u001b[0;34m)\u001b[0m\u001b[0;34m\u001b[0m\u001b[0;34m\u001b[0m\u001b[0m\n\u001b[0m\u001b[1;32m   3081\u001b[0m             \u001b[0;32mexcept\u001b[0m \u001b[0mKeyError\u001b[0m \u001b[0;32mas\u001b[0m \u001b[0merr\u001b[0m\u001b[0;34m:\u001b[0m\u001b[0;34m\u001b[0m\u001b[0;34m\u001b[0m\u001b[0m\n",
      "\u001b[0;32mpandas/_libs/index.pyx\u001b[0m in \u001b[0;36mpandas._libs.index.IndexEngine.get_loc\u001b[0;34m()\u001b[0m\n",
      "\u001b[0;32mpandas/_libs/index.pyx\u001b[0m in \u001b[0;36mpandas._libs.index.IndexEngine.get_loc\u001b[0;34m()\u001b[0m\n",
      "\u001b[0;32mpandas/_libs/hashtable_class_helper.pxi\u001b[0m in \u001b[0;36mpandas._libs.hashtable.PyObjectHashTable.get_item\u001b[0;34m()\u001b[0m\n",
      "\u001b[0;32mpandas/_libs/hashtable_class_helper.pxi\u001b[0m in \u001b[0;36mpandas._libs.hashtable.PyObjectHashTable.get_item\u001b[0;34m()\u001b[0m\n",
      "\u001b[0;31mKeyError\u001b[0m: 'Delay'",
      "\nThe above exception was the direct cause of the following exception:\n",
      "\u001b[0;31mKeyError\u001b[0m                                  Traceback (most recent call last)",
      "\u001b[0;32m<ipython-input-380-8607620e85cd>\u001b[0m in \u001b[0;36m<module>\u001b[0;34m\u001b[0m\n\u001b[0;32m----> 1\u001b[0;31m \u001b[0my\u001b[0m \u001b[0;34m=\u001b[0m \u001b[0mX\u001b[0m\u001b[0;34m.\u001b[0m\u001b[0mpop\u001b[0m\u001b[0;34m(\u001b[0m\u001b[0;34m\"Delay\"\u001b[0m\u001b[0;34m)\u001b[0m\u001b[0;34m.\u001b[0m\u001b[0mdt\u001b[0m\u001b[0;34m.\u001b[0m\u001b[0mdays\u001b[0m\u001b[0;34m\u001b[0m\u001b[0;34m\u001b[0m\u001b[0m\n\u001b[0m\u001b[1;32m      2\u001b[0m \u001b[0my\u001b[0m\u001b[0;34m.\u001b[0m\u001b[0mclip\u001b[0m\u001b[0;34m(\u001b[0m\u001b[0mlower\u001b[0m\u001b[0;34m=\u001b[0m\u001b[0;34m-\u001b[0m\u001b[0;36m500\u001b[0m\u001b[0;34m)\u001b[0m\u001b[0;34m\u001b[0m\u001b[0;34m\u001b[0m\u001b[0m\n",
      "\u001b[0;32m/opt/tljh/user/lib/python3.7/site-packages/pandas/core/frame.py\u001b[0m in \u001b[0;36mpop\u001b[0;34m(self, item)\u001b[0m\n\u001b[1;32m   4510\u001b[0m         \u001b[0;36m3\u001b[0m  \u001b[0mmonkey\u001b[0m        \u001b[0mNaN\u001b[0m\u001b[0;34m\u001b[0m\u001b[0;34m\u001b[0m\u001b[0m\n\u001b[1;32m   4511\u001b[0m         \"\"\"\n\u001b[0;32m-> 4512\u001b[0;31m         \u001b[0;32mreturn\u001b[0m \u001b[0msuper\u001b[0m\u001b[0;34m(\u001b[0m\u001b[0;34m)\u001b[0m\u001b[0;34m.\u001b[0m\u001b[0mpop\u001b[0m\u001b[0;34m(\u001b[0m\u001b[0mitem\u001b[0m\u001b[0;34m=\u001b[0m\u001b[0mitem\u001b[0m\u001b[0;34m)\u001b[0m\u001b[0;34m\u001b[0m\u001b[0;34m\u001b[0m\u001b[0m\n\u001b[0m\u001b[1;32m   4513\u001b[0m \u001b[0;34m\u001b[0m\u001b[0m\n\u001b[1;32m   4514\u001b[0m     \u001b[0;34m@\u001b[0m\u001b[0mdoc\u001b[0m\u001b[0;34m(\u001b[0m\u001b[0mNDFrame\u001b[0m\u001b[0;34m.\u001b[0m\u001b[0mreplace\u001b[0m\u001b[0;34m,\u001b[0m \u001b[0;34m**\u001b[0m\u001b[0m_shared_doc_kwargs\u001b[0m\u001b[0;34m)\u001b[0m\u001b[0;34m\u001b[0m\u001b[0;34m\u001b[0m\u001b[0m\n",
      "\u001b[0;32m/opt/tljh/user/lib/python3.7/site-packages/pandas/core/generic.py\u001b[0m in \u001b[0;36mpop\u001b[0;34m(self, item)\u001b[0m\n\u001b[1;32m    767\u001b[0m \u001b[0;34m\u001b[0m\u001b[0m\n\u001b[1;32m    768\u001b[0m     \u001b[0;32mdef\u001b[0m \u001b[0mpop\u001b[0m\u001b[0;34m(\u001b[0m\u001b[0mself\u001b[0m\u001b[0;34m,\u001b[0m \u001b[0mitem\u001b[0m\u001b[0;34m:\u001b[0m \u001b[0mLabel\u001b[0m\u001b[0;34m)\u001b[0m \u001b[0;34m->\u001b[0m \u001b[0mUnion\u001b[0m\u001b[0;34m[\u001b[0m\u001b[0mSeries\u001b[0m\u001b[0;34m,\u001b[0m \u001b[0mAny\u001b[0m\u001b[0;34m]\u001b[0m\u001b[0;34m:\u001b[0m\u001b[0;34m\u001b[0m\u001b[0;34m\u001b[0m\u001b[0m\n\u001b[0;32m--> 769\u001b[0;31m         \u001b[0mresult\u001b[0m \u001b[0;34m=\u001b[0m \u001b[0mself\u001b[0m\u001b[0;34m[\u001b[0m\u001b[0mitem\u001b[0m\u001b[0;34m]\u001b[0m\u001b[0;34m\u001b[0m\u001b[0;34m\u001b[0m\u001b[0m\n\u001b[0m\u001b[1;32m    770\u001b[0m         \u001b[0;32mdel\u001b[0m \u001b[0mself\u001b[0m\u001b[0;34m[\u001b[0m\u001b[0mitem\u001b[0m\u001b[0;34m]\u001b[0m\u001b[0;34m\u001b[0m\u001b[0;34m\u001b[0m\u001b[0m\n\u001b[1;32m    771\u001b[0m         \u001b[0;32mif\u001b[0m \u001b[0mself\u001b[0m\u001b[0;34m.\u001b[0m\u001b[0mndim\u001b[0m \u001b[0;34m==\u001b[0m \u001b[0;36m2\u001b[0m\u001b[0;34m:\u001b[0m\u001b[0;34m\u001b[0m\u001b[0;34m\u001b[0m\u001b[0m\n",
      "\u001b[0;32m/opt/tljh/user/lib/python3.7/site-packages/pandas/core/frame.py\u001b[0m in \u001b[0;36m__getitem__\u001b[0;34m(self, key)\u001b[0m\n\u001b[1;32m   3022\u001b[0m             \u001b[0;32mif\u001b[0m \u001b[0mself\u001b[0m\u001b[0;34m.\u001b[0m\u001b[0mcolumns\u001b[0m\u001b[0;34m.\u001b[0m\u001b[0mnlevels\u001b[0m \u001b[0;34m>\u001b[0m \u001b[0;36m1\u001b[0m\u001b[0;34m:\u001b[0m\u001b[0;34m\u001b[0m\u001b[0;34m\u001b[0m\u001b[0m\n\u001b[1;32m   3023\u001b[0m                 \u001b[0;32mreturn\u001b[0m \u001b[0mself\u001b[0m\u001b[0;34m.\u001b[0m\u001b[0m_getitem_multilevel\u001b[0m\u001b[0;34m(\u001b[0m\u001b[0mkey\u001b[0m\u001b[0;34m)\u001b[0m\u001b[0;34m\u001b[0m\u001b[0;34m\u001b[0m\u001b[0m\n\u001b[0;32m-> 3024\u001b[0;31m             \u001b[0mindexer\u001b[0m \u001b[0;34m=\u001b[0m \u001b[0mself\u001b[0m\u001b[0;34m.\u001b[0m\u001b[0mcolumns\u001b[0m\u001b[0;34m.\u001b[0m\u001b[0mget_loc\u001b[0m\u001b[0;34m(\u001b[0m\u001b[0mkey\u001b[0m\u001b[0;34m)\u001b[0m\u001b[0;34m\u001b[0m\u001b[0;34m\u001b[0m\u001b[0m\n\u001b[0m\u001b[1;32m   3025\u001b[0m             \u001b[0;32mif\u001b[0m \u001b[0mis_integer\u001b[0m\u001b[0;34m(\u001b[0m\u001b[0mindexer\u001b[0m\u001b[0;34m)\u001b[0m\u001b[0;34m:\u001b[0m\u001b[0;34m\u001b[0m\u001b[0;34m\u001b[0m\u001b[0m\n\u001b[1;32m   3026\u001b[0m                 \u001b[0mindexer\u001b[0m \u001b[0;34m=\u001b[0m \u001b[0;34m[\u001b[0m\u001b[0mindexer\u001b[0m\u001b[0;34m]\u001b[0m\u001b[0;34m\u001b[0m\u001b[0;34m\u001b[0m\u001b[0m\n",
      "\u001b[0;32m/opt/tljh/user/lib/python3.7/site-packages/pandas/core/indexes/base.py\u001b[0m in \u001b[0;36mget_loc\u001b[0;34m(self, key, method, tolerance)\u001b[0m\n\u001b[1;32m   3080\u001b[0m                 \u001b[0;32mreturn\u001b[0m \u001b[0mself\u001b[0m\u001b[0;34m.\u001b[0m\u001b[0m_engine\u001b[0m\u001b[0;34m.\u001b[0m\u001b[0mget_loc\u001b[0m\u001b[0;34m(\u001b[0m\u001b[0mcasted_key\u001b[0m\u001b[0;34m)\u001b[0m\u001b[0;34m\u001b[0m\u001b[0;34m\u001b[0m\u001b[0m\n\u001b[1;32m   3081\u001b[0m             \u001b[0;32mexcept\u001b[0m \u001b[0mKeyError\u001b[0m \u001b[0;32mas\u001b[0m \u001b[0merr\u001b[0m\u001b[0;34m:\u001b[0m\u001b[0;34m\u001b[0m\u001b[0;34m\u001b[0m\u001b[0m\n\u001b[0;32m-> 3082\u001b[0;31m                 \u001b[0;32mraise\u001b[0m \u001b[0mKeyError\u001b[0m\u001b[0;34m(\u001b[0m\u001b[0mkey\u001b[0m\u001b[0;34m)\u001b[0m \u001b[0;32mfrom\u001b[0m \u001b[0merr\u001b[0m\u001b[0;34m\u001b[0m\u001b[0;34m\u001b[0m\u001b[0m\n\u001b[0m\u001b[1;32m   3083\u001b[0m \u001b[0;34m\u001b[0m\u001b[0m\n\u001b[1;32m   3084\u001b[0m         \u001b[0;32mif\u001b[0m \u001b[0mtolerance\u001b[0m \u001b[0;32mis\u001b[0m \u001b[0;32mnot\u001b[0m \u001b[0;32mNone\u001b[0m\u001b[0;34m:\u001b[0m\u001b[0;34m\u001b[0m\u001b[0;34m\u001b[0m\u001b[0m\n",
      "\u001b[0;31mKeyError\u001b[0m: 'Delay'"
     ]
    }
   ],
   "source": [
    "y = X.pop(\"Delay\").dt.days\n",
    "y.clip(lower=-500)"
   ]
  },
  {
   "cell_type": "code",
   "execution_count": 329,
   "id": "d140dafc-b389-4739-a053-e5eab7960c05",
   "metadata": {},
   "outputs": [],
   "source": [
    "datecols = df_op.select_dtypes(include=\"datetime\").columns\n",
    "\n",
    "for col in datecols:\n",
    "    X = _encode_dates(X, col)"
   ]
  },
  {
   "cell_type": "code",
   "execution_count": null,
   "id": "4b60fd94-7be8-42ad-b5ad-a17c7d50808d",
   "metadata": {},
   "outputs": [],
   "source": []
  },
  {
   "cell_type": "code",
   "execution_count": 349,
   "id": "8e65e1c1-908a-4266-8a80-e2d996422f65",
   "metadata": {},
   "outputs": [
    {
     "data": {
      "text/plain": [
       "Delay    True\n",
       "dtype: bool"
      ]
     },
     "execution_count": 349,
     "metadata": {},
     "output_type": "execute_result"
    }
   ],
   "source": [
    "timed = (X.dtypes == \"timedelta64[ns]\")\n",
    "timed[timed]"
   ]
  },
  {
   "cell_type": "code",
   "execution_count": 355,
   "id": "8eb5f404-ac70-4cfb-930d-27683758d127",
   "metadata": {},
   "outputs": [],
   "source": [
    "# Define the column transformer and the pipeline\n",
    "object_cols = X.select_dtypes(include=['object']).columns\n",
    "\n",
    "# Create a column transformer that applies label encoding to object columns\n",
    "encoder = OneHotEncoder()\n",
    "preprocessor = ColumnTransformer(\n",
    "    transformers=[\n",
    "        ('label', encoder, object_cols)\n",
    "    ],\n",
    "    remainder='passthrough'\n",
    ")\n",
    "\n",
    "# Create a pipeline that first applies label encoding and then any remaining transformations\n",
    "pipeline = Pipeline([\n",
    "    ('preprocessor', preprocessor),\n",
    "])\n",
    "\n",
    "# Fit and transform your DataFrame using the pipeline\n",
    "transformed_data = pipeline.fit_transform(X)\n",
    "X = pd.DataFrame(transformed_data.todense(), columns=preprocessor.get_feature_names())"
   ]
  },
  {
   "cell_type": "code",
   "execution_count": 357,
   "id": "684df804-f6e8-43cc-af9c-8656e828aa99",
   "metadata": {},
   "outputs": [
    {
     "name": "stdout",
     "output_type": "stream",
     "text": [
      "Root Mean Squared Error (RMSE): 31.52\n"
     ]
    }
   ],
   "source": [
    "model = XGBRegressor()\n",
    "\n",
    "X_train, X_test, y_train, y_test = train_test_split(X, y, test_size=0.2, random_state=42)\n",
    "\n",
    "model.fit(X_train, y_train)\n",
    "y_pred = model.predict(X_test)\n",
    "\n",
    "# Evaluate the model (for regression, you can use Mean Squared Error, RMSE, etc.)\n",
    "mse = mean_squared_error(y_test, y_pred)\n",
    "rmse = mse**0.5\n",
    "print(f\"Root Mean Squared Error (RMSE): {rmse:.2f}\")"
   ]
  },
  {
   "cell_type": "code",
   "execution_count": 358,
   "id": "3941e974-00cb-43a7-b1f1-11210ca213af",
   "metadata": {},
   "outputs": [
    {
     "data": {
      "text/plain": [
       "Estimated amount                                       0.000039\n",
       "label__x0_C00037                                       0.000040\n",
       "label__x8_Young Talents                                0.000041\n",
       "label__x14_nan                                         0.000044\n",
       "label__x12_Investissement                              0.000045\n",
       "label__x10_12                                          0.000050\n",
       "label__x0_C00292                                       0.000050\n",
       "label__x0_C00255                                       0.000054\n",
       "label__x0_C00600                                       0.000054\n",
       "label__x3_CAMP EVT                                     0.000058\n",
       "Assignment Date_year                                   0.000058\n",
       "Assignment Date_day                                    0.000059\n",
       "label__x0_C00683                                       0.000060\n",
       "label__x0_C00186                                       0.000076\n",
       "label__x7_Sport, Job dans la Ville, L dans la Ville    0.000080\n",
       "label__x0_C00109                                       0.000084\n",
       "label__x7_Job dans la Ville                            0.000085\n",
       "label__x7_Non fléché                                   0.000090\n",
       "Source Campaign                                        0.000095\n",
       "label__x7_nan                                          0.000101\n",
       "label__x0_C04229                                       0.000102\n",
       "Assignment Date_month                                  0.000104\n",
       "Amount received                                        0.000121\n",
       "Theorical payment date 1_year                          0.000125\n",
       "Estimated Close Date_day                               0.000127\n",
       "Contact ID                                             0.000136\n",
       "label__x10_36                                          0.000143\n",
       "label__x0_C01334                                       0.000165\n",
       "Signature date of the agreement_month                  0.000224\n",
       "Last Modified Date_day                                 0.000228\n",
       "Probability                                            0.000345\n",
       "label__x3_CAMP SAL                                     0.000423\n",
       "label__x11_Contrat de ville                            0.000434\n",
       "Actual Close Date_day                                  0.000446\n",
       "Difference                                             0.000450\n",
       "label__x6_nan                                          0.000494\n",
       "label__x0_C01237                                       0.000584\n",
       "label__x0_C01438                                       0.000640\n",
       "Created On_month                                       0.000641\n",
       "Last Modified Date_year                                0.000669\n",
       "label__x3_PPRIV EVNT                                   0.000834\n",
       "Theorical payment date 1_day                           0.001075\n",
       "Last Modified Date_month                               0.001337\n",
       "Actual Close Date_month                                0.001556\n",
       "label__x9_nan                                          0.002202\n",
       "Estimated Close Date_month                             0.002671\n",
       "Actual Close Date_year                                 0.004810\n",
       "Opportunity ID                                         0.005687\n",
       "Estimated Close Date_year                              0.069043\n",
       "label__x0_C04218                                       0.900632\n",
       "dtype: float32"
      ]
     },
     "execution_count": 358,
     "metadata": {},
     "output_type": "execute_result"
    }
   ],
   "source": [
    "pd.Series(model.feature_importances_, index=preprocessor.get_feature_names()).sort_values()[-50:]"
   ]
  },
  {
   "cell_type": "code",
   "execution_count": 363,
   "id": "322bc891-832c-4e67-befd-a27e1942f23b",
   "metadata": {},
   "outputs": [
    {
     "data": {
      "text/plain": [
       "[]"
      ]
     },
     "execution_count": 363,
     "metadata": {},
     "output_type": "execute_result"
    }
   ],
   "source": [
    "\n",
    "matching_columns = df.columns[df.isin([\"C04218\"]).any()].tolist()\n",
    "matching_columns"
   ]
  },
  {
   "cell_type": "code",
   "execution_count": 373,
   "id": "11ce78ca-19ee-412d-b116-6ef322bcb89d",
   "metadata": {},
   "outputs": [
    {
     "data": {
      "text/plain": [
       "False    5985\n",
       "True        1\n",
       "Name: Business Account, dtype: int64"
      ]
     },
     "execution_count": 373,
     "metadata": {},
     "output_type": "execute_result"
    }
   ],
   "source": [
    "(df_op[\"Business Account\"].value_counts()"
   ]
  },
  {
   "cell_type": "code",
   "execution_count": 377,
   "id": "8c311edc-23a1-43f7-b58d-dec7bc4d88f4",
   "metadata": {},
   "outputs": [
    {
     "data": {
      "text/plain": [
       "22       14\n",
       "49       36\n",
       "106      46\n",
       "146      -8\n",
       "166     -13\n",
       "       ... \n",
       "5981   -500\n",
       "5982   -500\n",
       "5983   -443\n",
       "5984   -500\n",
       "5985   -443\n",
       "Name: Delay, Length: 4379, dtype: int64"
      ]
     },
     "execution_count": 377,
     "metadata": {},
     "output_type": "execute_result"
    }
   ],
   "source": []
  }
 ],
 "metadata": {
  "kernelspec": {
   "display_name": "Python 3",
   "language": "python",
   "name": "python3"
  },
  "language_info": {
   "codemirror_mode": {
    "name": "ipython",
    "version": 3
   },
   "file_extension": ".py",
   "mimetype": "text/x-python",
   "name": "python",
   "nbconvert_exporter": "python",
   "pygments_lexer": "ipython3",
   "version": "3.7.3"
  }
 },
 "nbformat": 4,
 "nbformat_minor": 5
}
