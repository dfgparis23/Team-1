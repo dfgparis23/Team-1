{
 "cells": [
  {
   "cell_type": "code",
   "execution_count": 3,
   "id": "ea587369-9c05-4dc7-8967-a5fe2009028e",
   "metadata": {},
   "outputs": [
    {
     "name": "stderr",
     "output_type": "stream",
     "text": [
      "/opt/tljh/user/lib/python3.7/site-packages/ipykernel/ipkernel.py:287: DeprecationWarning: `should_run_async` will not call `transform_cell` automatically in the future. Please pass the result to `transformed_cell` argument and any exception that happen during thetransform in `preprocessing_exc_tuple` in IPython 7.17 and above.\n",
      "  and should_run_async(code)\n"
     ]
    }
   ],
   "source": [
    "import pandas as pd\n",
    "from mlxtend.frequent_patterns import association_rules\n",
    "FILE_PATH = \"../shared_data_read_only/\"\n",
    "FILES = (\"consumer_price_index.xlsx\",\"Contacts.xlsx\",\"Invoice and Opportunities.xlsx\",\n",
    "         \"Items and Opportunities.xlsx\",\"Non-Stock Items.xlsx\",\"Opportunities.xlsx\")\n"
   ]
  },
  {
   "cell_type": "code",
   "execution_count": 4,
   "id": "0a84296c-2792-4224-be36-46b32d21bef1",
   "metadata": {},
   "outputs": [
    {
     "name": "stderr",
     "output_type": "stream",
     "text": [
      "/opt/tljh/user/lib/python3.7/site-packages/ipykernel/ipkernel.py:287: DeprecationWarning: `should_run_async` will not call `transform_cell` automatically in the future. Please pass the result to `transformed_cell` argument and any exception that happen during thetransform in `preprocessing_exc_tuple` in IPython 7.17 and above.\n",
      "  and should_run_async(code)\n"
     ]
    }
   ],
   "source": [
    "\n",
    "\n",
    "#min_confidence = 0.7  # Définissez la confiance minimale souhaitée\n",
    "#rules = association_rules(frequent_itemsets, metric=\"lift\", min_threshold=min_confidence)"
   ]
  },
  {
   "cell_type": "code",
   "execution_count": 5,
   "id": "074cc5d3-a916-46c0-87ef-475eb7a28b81",
   "metadata": {},
   "outputs": [
    {
     "name": "stderr",
     "output_type": "stream",
     "text": [
      "/opt/tljh/user/lib/python3.7/site-packages/ipykernel/ipkernel.py:287: DeprecationWarning: `should_run_async` will not call `transform_cell` automatically in the future. Please pass the result to `transformed_cell` argument and any exception that happen during thetransform in `preprocessing_exc_tuple` in IPython 7.17 and above.\n",
      "  and should_run_async(code)\n"
     ]
    },
    {
     "name": "stdout",
     "output_type": "stream",
     "text": [
      "Invoice and Opportunities.xlsx\n"
     ]
    },
    {
     "data": {
      "text/html": [
       "<div>\n",
       "<style scoped>\n",
       "    .dataframe tbody tr th:only-of-type {\n",
       "        vertical-align: middle;\n",
       "    }\n",
       "\n",
       "    .dataframe tbody tr th {\n",
       "        vertical-align: top;\n",
       "    }\n",
       "\n",
       "    .dataframe thead th {\n",
       "        text-align: right;\n",
       "    }\n",
       "</style>\n",
       "<table border=\"1\" class=\"dataframe\">\n",
       "  <thead>\n",
       "    <tr style=\"text-align: right;\">\n",
       "      <th></th>\n",
       "      <th>Type</th>\n",
       "      <th>Reference Nbr.</th>\n",
       "      <th>Customer</th>\n",
       "      <th>Amount</th>\n",
       "      <th>Date</th>\n",
       "      <th>Opportunity ID</th>\n",
       "    </tr>\n",
       "  </thead>\n",
       "  <tbody>\n",
       "    <tr>\n",
       "      <th>0</th>\n",
       "      <td>Invoice</td>\n",
       "      <td>FC0004608</td>\n",
       "      <td>C06507</td>\n",
       "      <td>5000.00</td>\n",
       "      <td>2023-10-10</td>\n",
       "      <td>4504</td>\n",
       "    </tr>\n",
       "    <tr>\n",
       "      <th>1</th>\n",
       "      <td>Invoice</td>\n",
       "      <td>FC0004607</td>\n",
       "      <td>C01388</td>\n",
       "      <td>241253.00</td>\n",
       "      <td>2023-10-09</td>\n",
       "      <td>1863</td>\n",
       "    </tr>\n",
       "    <tr>\n",
       "      <th>2</th>\n",
       "      <td>Invoice</td>\n",
       "      <td>FC0004605</td>\n",
       "      <td>C19104</td>\n",
       "      <td>83954.00</td>\n",
       "      <td>2023-10-06</td>\n",
       "      <td>5708</td>\n",
       "    </tr>\n",
       "    <tr>\n",
       "      <th>3</th>\n",
       "      <td>Invoice</td>\n",
       "      <td>FC0004600</td>\n",
       "      <td>C10528</td>\n",
       "      <td>3000.00</td>\n",
       "      <td>2023-06-23</td>\n",
       "      <td>5617</td>\n",
       "    </tr>\n",
       "    <tr>\n",
       "      <th>4</th>\n",
       "      <td>Invoice</td>\n",
       "      <td>FC0004598</td>\n",
       "      <td>C01196</td>\n",
       "      <td>54531.00</td>\n",
       "      <td>2023-10-09</td>\n",
       "      <td>5829</td>\n",
       "    </tr>\n",
       "    <tr>\n",
       "      <th>...</th>\n",
       "      <td>...</td>\n",
       "      <td>...</td>\n",
       "      <td>...</td>\n",
       "      <td>...</td>\n",
       "      <td>...</td>\n",
       "      <td>...</td>\n",
       "    </tr>\n",
       "    <tr>\n",
       "      <th>3233</th>\n",
       "      <td>Invoice</td>\n",
       "      <td>FC0000008</td>\n",
       "      <td>C00087</td>\n",
       "      <td>5000.00</td>\n",
       "      <td>2021-03-11</td>\n",
       "      <td>1410</td>\n",
       "    </tr>\n",
       "    <tr>\n",
       "      <th>3234</th>\n",
       "      <td>Invoice</td>\n",
       "      <td>FC0000007</td>\n",
       "      <td>C00589</td>\n",
       "      <td>3000.00</td>\n",
       "      <td>2020-03-29</td>\n",
       "      <td>1056</td>\n",
       "    </tr>\n",
       "    <tr>\n",
       "      <th>3235</th>\n",
       "      <td>Invoice</td>\n",
       "      <td>FC0000005</td>\n",
       "      <td>C00644</td>\n",
       "      <td>4504.95</td>\n",
       "      <td>2021-03-15</td>\n",
       "      <td>1499</td>\n",
       "    </tr>\n",
       "    <tr>\n",
       "      <th>3236</th>\n",
       "      <td>Invoice</td>\n",
       "      <td>FC0000004</td>\n",
       "      <td>C00644</td>\n",
       "      <td>455.37</td>\n",
       "      <td>2021-03-15</td>\n",
       "      <td>1495</td>\n",
       "    </tr>\n",
       "    <tr>\n",
       "      <th>3237</th>\n",
       "      <td>Invoice</td>\n",
       "      <td>FC0000003</td>\n",
       "      <td>C00644</td>\n",
       "      <td>67.66</td>\n",
       "      <td>2021-03-15</td>\n",
       "      <td>1494</td>\n",
       "    </tr>\n",
       "  </tbody>\n",
       "</table>\n",
       "<p>3238 rows × 6 columns</p>\n",
       "</div>"
      ],
      "text/plain": [
       "         Type Reference Nbr. Customer     Amount       Date  Opportunity ID\n",
       "0     Invoice      FC0004608   C06507    5000.00 2023-10-10            4504\n",
       "1     Invoice      FC0004607   C01388  241253.00 2023-10-09            1863\n",
       "2     Invoice      FC0004605   C19104   83954.00 2023-10-06            5708\n",
       "3     Invoice      FC0004600   C10528    3000.00 2023-06-23            5617\n",
       "4     Invoice      FC0004598   C01196   54531.00 2023-10-09            5829\n",
       "...       ...            ...      ...        ...        ...             ...\n",
       "3233  Invoice      FC0000008   C00087    5000.00 2021-03-11            1410\n",
       "3234  Invoice      FC0000007   C00589    3000.00 2020-03-29            1056\n",
       "3235  Invoice      FC0000005   C00644    4504.95 2021-03-15            1499\n",
       "3236  Invoice      FC0000004   C00644     455.37 2021-03-15            1495\n",
       "3237  Invoice      FC0000003   C00644      67.66 2021-03-15            1494\n",
       "\n",
       "[3238 rows x 6 columns]"
      ]
     },
     "execution_count": 5,
     "metadata": {},
     "output_type": "execute_result"
    }
   ],
   "source": [
    "file_no = 2\n",
    "\n",
    "df = pd.read_excel(f\"{FILE_PATH}{FILES[file_no]}\")\n",
    "print(FILES[file_no])\n",
    "df"
   ]
  },
  {
   "cell_type": "code",
   "execution_count": 26,
   "id": "eed78dc2-1e4b-4e3c-b3c4-6ffd12e96ce7",
   "metadata": {},
   "outputs": [
    {
     "data": {
      "text/plain": [
       "array(['Won', 'Oral agreement', 'Initial Prospect', 'Advanced Prospect',\n",
       "       'Lost', 'Dossier posed'], dtype=object)"
      ]
     },
     "execution_count": 26,
     "metadata": {},
     "output_type": "execute_result"
    }
   ],
   "source": [
    "df['Stage'].unique()"
   ]
  },
  {
   "cell_type": "code",
   "execution_count": 6,
   "id": "f4bec28f-999e-447b-a185-cfe6635685da",
   "metadata": {},
   "outputs": [
    {
     "name": "stderr",
     "output_type": "stream",
     "text": [
      "/opt/tljh/user/lib/python3.7/site-packages/ipykernel/ipkernel.py:287: DeprecationWarning: `should_run_async` will not call `transform_cell` automatically in the future. Please pass the result to `transformed_cell` argument and any exception that happen during thetransform in `preprocessing_exc_tuple` in IPython 7.17 and above.\n",
      "  and should_run_async(code)\n"
     ]
    },
    {
     "data": {
      "text/plain": [
       "0         5000.00\n",
       "1       241253.00\n",
       "2        83954.00\n",
       "3         3000.00\n",
       "4        54531.00\n",
       "          ...    \n",
       "3233      5000.00\n",
       "3234      3000.00\n",
       "3235      4504.95\n",
       "3236       455.37\n",
       "3237        67.66\n",
       "Name: Amount, Length: 3238, dtype: float64"
      ]
     },
     "execution_count": 6,
     "metadata": {},
     "output_type": "execute_result"
    }
   ],
   "source": [
    "df.Amount"
   ]
  },
  {
   "cell_type": "code",
   "execution_count": null,
   "id": "d6e337d6-cff9-490c-8aa3-14c73b9a0902",
   "metadata": {},
   "outputs": [],
   "source": []
  },
  {
   "cell_type": "code",
   "execution_count": null,
   "id": "186094b5-6922-4a3d-ae10-ffbe737f8ef9",
   "metadata": {},
   "outputs": [],
   "source": []
  },
  {
   "cell_type": "code",
   "execution_count": null,
   "id": "f836437f-d9df-4ead-abf3-e8650d7debdc",
   "metadata": {},
   "outputs": [],
   "source": []
  },
  {
   "cell_type": "code",
   "execution_count": null,
   "id": "68580527-3f97-4ee5-b8dc-b5b30e2639e6",
   "metadata": {},
   "outputs": [],
   "source": []
  },
  {
   "cell_type": "code",
   "execution_count": null,
   "id": "f07b28de-29cd-4796-bfc9-a73a2aa70918",
   "metadata": {},
   "outputs": [],
   "source": []
  }
 ],
 "metadata": {
  "kernelspec": {
   "display_name": "Python 3",
   "language": "python",
   "name": "python3"
  },
  "language_info": {
   "codemirror_mode": {
    "name": "ipython",
    "version": 3
   },
   "file_extension": ".py",
   "mimetype": "text/x-python",
   "name": "python",
   "nbconvert_exporter": "python",
   "pygments_lexer": "ipython3",
   "version": "3.7.3"
  }
 },
 "nbformat": 4,
 "nbformat_minor": 5
}
